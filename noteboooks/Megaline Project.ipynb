{
 "cells": [
  {
   "cell_type": "markdown",
   "metadata": {
    "id": "3rYiDeEH0q0f"
   },
   "source": [
    "# ¿Cuál es la mejor tarifa?\n",
    "\n",
    "Trabajas como analista para el operador de telecomunicaciones Megaline. La empresa ofrece a sus clientes dos tarifas de prepago, Surf y Ultimate. El departamento comercial quiere saber cuál de las tarifas genera más ingresos para poder ajustar el presupuesto de publicidad.\n",
    "\n",
    "Vas a realizar un análisis preliminar de las tarifas basado en una selección de clientes relativamente pequeña. Tendrás los datos de 500 clientes de Megaline: quiénes son los clientes, de dónde son, qué tarifa usan, así como la cantidad de llamadas que hicieron y los mensajes de texto que enviaron en 2018. Tu trabajo es analizar el comportamiento de los clientes y determinar qué tarifa de prepago genera más ingresos."
   ]
  },
  {
   "cell_type": "markdown",
   "metadata": {
    "id": "MQi4IPy70q0y"
   },
   "source": [
    "## Inicialización"
   ]
  },
  {
   "cell_type": "code",
   "execution_count": 1,
   "metadata": {
    "id": "MtYIuBxu0q0z",
    "trusted": true
   },
   "outputs": [],
   "source": [
    "# Cargar todas las librerías\n",
    "import pandas as pd\n",
    "import numpy as np\n",
    "import matplotlib.pyplot as plt\n",
    "import math\n",
    "from scipy import stats as st"
   ]
  },
  {
   "cell_type": "markdown",
   "metadata": {
    "id": "4ysWWC5i0q00"
   },
   "source": [
    "## Cargar datos"
   ]
  },
  {
   "cell_type": "code",
   "execution_count": 2,
   "metadata": {
    "id": "CCqPW7rS0q01",
    "trusted": true
   },
   "outputs": [],
   "source": [
    "# Carga los archivos de datos en diferentes DataFrames\n",
    "calls_df = pd.read_csv('../megaline_calls.csv')\n",
    "internet_df = pd.read_csv('../megaline_internet.csv')\n",
    "messages_df = pd.read_csv('../megaline_messages.csv')\n",
    "plans_df = pd.read_csv('../megaline_plans.csv')\n",
    "users_df = pd.read_csv('../megaline_users.csv')"
   ]
  },
  {
   "cell_type": "markdown",
   "metadata": {
    "id": "69qqoJ3r0q01"
   },
   "source": [
    "## Exploración y Preparación de los datos"
   ]
  },
  {
   "cell_type": "markdown",
   "metadata": {
    "id": "ohBhimvH0q01"
   },
   "source": [
    "### Tarifas"
   ]
  },
  {
   "cell_type": "code",
   "execution_count": 3,
   "metadata": {
    "id": "GptqP3Q40q02",
    "trusted": true
   },
   "outputs": [
    {
     "name": "stdout",
     "output_type": "stream",
     "text": [
      "<class 'pandas.core.frame.DataFrame'>\n",
      "RangeIndex: 2 entries, 0 to 1\n",
      "Data columns (total 8 columns):\n",
      " #   Column                 Non-Null Count  Dtype  \n",
      "---  ------                 --------------  -----  \n",
      " 0   messages_included      2 non-null      int64  \n",
      " 1   mb_per_month_included  2 non-null      int64  \n",
      " 2   minutes_included       2 non-null      int64  \n",
      " 3   usd_monthly_pay        2 non-null      int64  \n",
      " 4   usd_per_gb             2 non-null      int64  \n",
      " 5   usd_per_message        2 non-null      float64\n",
      " 6   usd_per_minute         2 non-null      float64\n",
      " 7   plan_name              2 non-null      object \n",
      "dtypes: float64(2), int64(5), object(1)\n",
      "memory usage: 260.0+ bytes\n",
      "\n"
     ]
    },
    {
     "data": {
      "text/plain": [
       "Index(['messages_included', 'mb_per_month_included', 'minutes_included',\n",
       "       'usd_monthly_pay', 'usd_per_gb', 'usd_per_message', 'usd_per_minute',\n",
       "       'plan_name'],\n",
       "      dtype='object')"
      ]
     },
     "execution_count": 3,
     "metadata": {},
     "output_type": "execute_result"
    }
   ],
   "source": [
    "# Imprime la información general/resumida sobre el DataFrame de las tarifas\n",
    "plans_df.info()\n",
    "print()\n",
    "\n",
    "plans_df.columns"
   ]
  },
  {
   "cell_type": "code",
   "execution_count": 4,
   "metadata": {
    "id": "64xzjwL70q02",
    "trusted": true
   },
   "outputs": [
    {
     "data": {
      "text/html": [
       "<div>\n",
       "<style scoped>\n",
       "    .dataframe tbody tr th:only-of-type {\n",
       "        vertical-align: middle;\n",
       "    }\n",
       "\n",
       "    .dataframe tbody tr th {\n",
       "        vertical-align: top;\n",
       "    }\n",
       "\n",
       "    .dataframe thead th {\n",
       "        text-align: right;\n",
       "    }\n",
       "</style>\n",
       "<table border=\"1\" class=\"dataframe\">\n",
       "  <thead>\n",
       "    <tr style=\"text-align: right;\">\n",
       "      <th></th>\n",
       "      <th>messages_included</th>\n",
       "      <th>mb_per_month_included</th>\n",
       "      <th>minutes_included</th>\n",
       "      <th>usd_monthly_pay</th>\n",
       "      <th>usd_per_gb</th>\n",
       "      <th>usd_per_message</th>\n",
       "      <th>usd_per_minute</th>\n",
       "      <th>plan_name</th>\n",
       "    </tr>\n",
       "  </thead>\n",
       "  <tbody>\n",
       "    <tr>\n",
       "      <th>0</th>\n",
       "      <td>50</td>\n",
       "      <td>15360</td>\n",
       "      <td>500</td>\n",
       "      <td>20</td>\n",
       "      <td>10</td>\n",
       "      <td>0.03</td>\n",
       "      <td>0.03</td>\n",
       "      <td>surf</td>\n",
       "    </tr>\n",
       "    <tr>\n",
       "      <th>1</th>\n",
       "      <td>1000</td>\n",
       "      <td>30720</td>\n",
       "      <td>3000</td>\n",
       "      <td>70</td>\n",
       "      <td>7</td>\n",
       "      <td>0.01</td>\n",
       "      <td>0.01</td>\n",
       "      <td>ultimate</td>\n",
       "    </tr>\n",
       "  </tbody>\n",
       "</table>\n",
       "</div>"
      ],
      "text/plain": [
       "   messages_included  mb_per_month_included  minutes_included  \\\n",
       "0                 50                  15360               500   \n",
       "1               1000                  30720              3000   \n",
       "\n",
       "   usd_monthly_pay  usd_per_gb  usd_per_message  usd_per_minute plan_name  \n",
       "0               20          10             0.03            0.03      surf  \n",
       "1               70           7             0.01            0.01  ultimate  "
      ]
     },
     "execution_count": 4,
     "metadata": {},
     "output_type": "execute_result"
    }
   ],
   "source": [
    "# Imprime una muestra de los datos para las tarifas\n",
    "plans_df"
   ]
  },
  {
   "cell_type": "markdown",
   "metadata": {
    "id": "mEc_3_hs0q02"
   },
   "source": [
    "En `plans_df` encontramos las características de los planes Surf y Ultimate, como la cantidad de mensajes incluidos, mb incluidos y minutos incluidos, así como el costo para cada uno de los planes.\n",
    "\n",
    "De igual manera encontramos las tarifas aplicables para cada plan en caso de exceder la cantidad de mensajes, mb, y minutos incluidos.\n",
    "\n",
    "En este `df` no encontramos ninguna anomalia en los datos, como duplicados o datos faltantes."
   ]
  },
  {
   "cell_type": "markdown",
   "metadata": {
    "id": "R3C05i1l0q03"
   },
   "source": [
    "#### Corrección de datos"
   ]
  },
  {
   "cell_type": "markdown",
   "metadata": {
    "id": "bIi8StZI0q03"
   },
   "source": [
    "Convertimos los mb incluidos a gb para un mejor análisis de los datos, ya que el cobro de datos extra es por gb."
   ]
  },
  {
   "cell_type": "code",
   "execution_count": 5,
   "metadata": {
    "id": "Y7SVmjGn0q03",
    "trusted": true
   },
   "outputs": [
    {
     "data": {
      "text/html": [
       "<div>\n",
       "<style scoped>\n",
       "    .dataframe tbody tr th:only-of-type {\n",
       "        vertical-align: middle;\n",
       "    }\n",
       "\n",
       "    .dataframe tbody tr th {\n",
       "        vertical-align: top;\n",
       "    }\n",
       "\n",
       "    .dataframe thead th {\n",
       "        text-align: right;\n",
       "    }\n",
       "</style>\n",
       "<table border=\"1\" class=\"dataframe\">\n",
       "  <thead>\n",
       "    <tr style=\"text-align: right;\">\n",
       "      <th></th>\n",
       "      <th>messages_included</th>\n",
       "      <th>mb_per_month_included</th>\n",
       "      <th>minutes_included</th>\n",
       "      <th>usd_monthly_pay</th>\n",
       "      <th>usd_per_gb</th>\n",
       "      <th>usd_per_message</th>\n",
       "      <th>usd_per_minute</th>\n",
       "      <th>plan_name</th>\n",
       "    </tr>\n",
       "  </thead>\n",
       "  <tbody>\n",
       "    <tr>\n",
       "      <th>0</th>\n",
       "      <td>50</td>\n",
       "      <td>15.0</td>\n",
       "      <td>500</td>\n",
       "      <td>20</td>\n",
       "      <td>10</td>\n",
       "      <td>0.03</td>\n",
       "      <td>0.03</td>\n",
       "      <td>surf</td>\n",
       "    </tr>\n",
       "    <tr>\n",
       "      <th>1</th>\n",
       "      <td>1000</td>\n",
       "      <td>30.0</td>\n",
       "      <td>3000</td>\n",
       "      <td>70</td>\n",
       "      <td>7</td>\n",
       "      <td>0.01</td>\n",
       "      <td>0.01</td>\n",
       "      <td>ultimate</td>\n",
       "    </tr>\n",
       "  </tbody>\n",
       "</table>\n",
       "</div>"
      ],
      "text/plain": [
       "   messages_included  mb_per_month_included  minutes_included  \\\n",
       "0                 50                   15.0               500   \n",
       "1               1000                   30.0              3000   \n",
       "\n",
       "   usd_monthly_pay  usd_per_gb  usd_per_message  usd_per_minute plan_name  \n",
       "0               20          10             0.03            0.03      surf  \n",
       "1               70           7             0.01            0.01  ultimate  "
      ]
     },
     "execution_count": 5,
     "metadata": {},
     "output_type": "execute_result"
    }
   ],
   "source": [
    "plans_df['mb_per_month_included'] = plans_df['mb_per_month_included'] / 1024\n",
    "plans_df.head()\n"
   ]
  },
  {
   "cell_type": "markdown",
   "metadata": {
    "id": "LJir7bml0q03"
   },
   "source": [
    "#### Enriquecimiento de datos"
   ]
  },
  {
   "cell_type": "markdown",
   "metadata": {
    "id": "eqADpCfg0q04"
   },
   "source": [
    "Renombramos la columna `mb_per_month_included` por `gb_included`"
   ]
  },
  {
   "cell_type": "code",
   "execution_count": 6,
   "metadata": {
    "id": "gfcIEuXV0q04",
    "trusted": true
   },
   "outputs": [
    {
     "data": {
      "text/html": [
       "<div>\n",
       "<style scoped>\n",
       "    .dataframe tbody tr th:only-of-type {\n",
       "        vertical-align: middle;\n",
       "    }\n",
       "\n",
       "    .dataframe tbody tr th {\n",
       "        vertical-align: top;\n",
       "    }\n",
       "\n",
       "    .dataframe thead th {\n",
       "        text-align: right;\n",
       "    }\n",
       "</style>\n",
       "<table border=\"1\" class=\"dataframe\">\n",
       "  <thead>\n",
       "    <tr style=\"text-align: right;\">\n",
       "      <th></th>\n",
       "      <th>messages_included</th>\n",
       "      <th>gb_included</th>\n",
       "      <th>minutes_included</th>\n",
       "      <th>usd_monthly_pay</th>\n",
       "      <th>usd_per_gb</th>\n",
       "      <th>usd_per_message</th>\n",
       "      <th>usd_per_minute</th>\n",
       "      <th>plan_name</th>\n",
       "    </tr>\n",
       "  </thead>\n",
       "  <tbody>\n",
       "    <tr>\n",
       "      <th>0</th>\n",
       "      <td>50</td>\n",
       "      <td>15.0</td>\n",
       "      <td>500</td>\n",
       "      <td>20</td>\n",
       "      <td>10</td>\n",
       "      <td>0.03</td>\n",
       "      <td>0.03</td>\n",
       "      <td>surf</td>\n",
       "    </tr>\n",
       "    <tr>\n",
       "      <th>1</th>\n",
       "      <td>1000</td>\n",
       "      <td>30.0</td>\n",
       "      <td>3000</td>\n",
       "      <td>70</td>\n",
       "      <td>7</td>\n",
       "      <td>0.01</td>\n",
       "      <td>0.01</td>\n",
       "      <td>ultimate</td>\n",
       "    </tr>\n",
       "  </tbody>\n",
       "</table>\n",
       "</div>"
      ],
      "text/plain": [
       "   messages_included  gb_included  minutes_included  usd_monthly_pay  \\\n",
       "0                 50         15.0               500               20   \n",
       "1               1000         30.0              3000               70   \n",
       "\n",
       "   usd_per_gb  usd_per_message  usd_per_minute plan_name  \n",
       "0          10             0.03            0.03      surf  \n",
       "1           7             0.01            0.01  ultimate  "
      ]
     },
     "execution_count": 6,
     "metadata": {},
     "output_type": "execute_result"
    }
   ],
   "source": [
    "plans_df = plans_df.rename(columns={'mb_per_month_included':'gb_included'})\n",
    "plans_df.head()"
   ]
  },
  {
   "cell_type": "markdown",
   "metadata": {
    "id": "1n2X6WXf0q04"
   },
   "source": [
    "### Usuarios"
   ]
  },
  {
   "cell_type": "code",
   "execution_count": 7,
   "metadata": {
    "id": "2NgjWFqx0q05",
    "trusted": true
   },
   "outputs": [
    {
     "name": "stdout",
     "output_type": "stream",
     "text": [
      "<class 'pandas.core.frame.DataFrame'>\n",
      "RangeIndex: 500 entries, 0 to 499\n",
      "Data columns (total 8 columns):\n",
      " #   Column      Non-Null Count  Dtype \n",
      "---  ------      --------------  ----- \n",
      " 0   user_id     500 non-null    int64 \n",
      " 1   first_name  500 non-null    object\n",
      " 2   last_name   500 non-null    object\n",
      " 3   age         500 non-null    int64 \n",
      " 4   city        500 non-null    object\n",
      " 5   reg_date    500 non-null    object\n",
      " 6   plan        500 non-null    object\n",
      " 7   churn_date  34 non-null     object\n",
      "dtypes: int64(2), object(6)\n",
      "memory usage: 31.4+ KB\n",
      "\n"
     ]
    },
    {
     "data": {
      "text/plain": [
       "Index(['user_id', 'first_name', 'last_name', 'age', 'city', 'reg_date', 'plan',\n",
       "       'churn_date'],\n",
       "      dtype='object')"
      ]
     },
     "execution_count": 7,
     "metadata": {},
     "output_type": "execute_result"
    }
   ],
   "source": [
    "# Imprime la información general/resumida sobre el DataFrame de usuarios\n",
    "users_df.info()\n",
    "print()\n",
    "\n",
    "users_df.columns\n"
   ]
  },
  {
   "cell_type": "markdown",
   "metadata": {},
   "source": [
    "Revisamos si existen duplicados en el `df`."
   ]
  },
  {
   "cell_type": "code",
   "execution_count": 8,
   "metadata": {
    "trusted": true
   },
   "outputs": [
    {
     "data": {
      "text/plain": [
       "0"
      ]
     },
     "execution_count": 8,
     "metadata": {},
     "output_type": "execute_result"
    }
   ],
   "source": [
    "users_df.duplicated().sum()"
   ]
  },
  {
   "cell_type": "code",
   "execution_count": 9,
   "metadata": {
    "id": "1IN1L9uh0q05",
    "trusted": true
   },
   "outputs": [
    {
     "data": {
      "text/html": [
       "<div>\n",
       "<style scoped>\n",
       "    .dataframe tbody tr th:only-of-type {\n",
       "        vertical-align: middle;\n",
       "    }\n",
       "\n",
       "    .dataframe tbody tr th {\n",
       "        vertical-align: top;\n",
       "    }\n",
       "\n",
       "    .dataframe thead th {\n",
       "        text-align: right;\n",
       "    }\n",
       "</style>\n",
       "<table border=\"1\" class=\"dataframe\">\n",
       "  <thead>\n",
       "    <tr style=\"text-align: right;\">\n",
       "      <th></th>\n",
       "      <th>user_id</th>\n",
       "      <th>first_name</th>\n",
       "      <th>last_name</th>\n",
       "      <th>age</th>\n",
       "      <th>city</th>\n",
       "      <th>reg_date</th>\n",
       "      <th>plan</th>\n",
       "      <th>churn_date</th>\n",
       "    </tr>\n",
       "  </thead>\n",
       "  <tbody>\n",
       "    <tr>\n",
       "      <th>449</th>\n",
       "      <td>1449</td>\n",
       "      <td>Boyd</td>\n",
       "      <td>Kelley</td>\n",
       "      <td>39</td>\n",
       "      <td>Seattle-Tacoma-Bellevue, WA MSA</td>\n",
       "      <td>2018-10-04</td>\n",
       "      <td>surf</td>\n",
       "      <td>NaN</td>\n",
       "    </tr>\n",
       "    <tr>\n",
       "      <th>59</th>\n",
       "      <td>1059</td>\n",
       "      <td>Avril</td>\n",
       "      <td>Richardson</td>\n",
       "      <td>34</td>\n",
       "      <td>Chicago-Naperville-Elgin, IL-IN-WI MSA</td>\n",
       "      <td>2018-04-22</td>\n",
       "      <td>ultimate</td>\n",
       "      <td>NaN</td>\n",
       "    </tr>\n",
       "    <tr>\n",
       "      <th>311</th>\n",
       "      <td>1311</td>\n",
       "      <td>Cherlyn</td>\n",
       "      <td>Saunders</td>\n",
       "      <td>69</td>\n",
       "      <td>Memphis, TN-MS-AR MSA</td>\n",
       "      <td>2018-06-27</td>\n",
       "      <td>ultimate</td>\n",
       "      <td>NaN</td>\n",
       "    </tr>\n",
       "    <tr>\n",
       "      <th>6</th>\n",
       "      <td>1006</td>\n",
       "      <td>Jesusa</td>\n",
       "      <td>Bradford</td>\n",
       "      <td>73</td>\n",
       "      <td>San Francisco-Oakland-Berkeley, CA MSA</td>\n",
       "      <td>2018-11-27</td>\n",
       "      <td>ultimate</td>\n",
       "      <td>2018-12-18</td>\n",
       "    </tr>\n",
       "    <tr>\n",
       "      <th>8</th>\n",
       "      <td>1008</td>\n",
       "      <td>Emely</td>\n",
       "      <td>Hoffman</td>\n",
       "      <td>53</td>\n",
       "      <td>Orlando-Kissimmee-Sanford, FL MSA</td>\n",
       "      <td>2018-08-03</td>\n",
       "      <td>ultimate</td>\n",
       "      <td>NaN</td>\n",
       "    </tr>\n",
       "  </tbody>\n",
       "</table>\n",
       "</div>"
      ],
      "text/plain": [
       "     user_id first_name   last_name  age  \\\n",
       "449     1449       Boyd      Kelley   39   \n",
       "59      1059      Avril  Richardson   34   \n",
       "311     1311    Cherlyn    Saunders   69   \n",
       "6       1006     Jesusa    Bradford   73   \n",
       "8       1008      Emely     Hoffman   53   \n",
       "\n",
       "                                       city    reg_date      plan  churn_date  \n",
       "449         Seattle-Tacoma-Bellevue, WA MSA  2018-10-04      surf         NaN  \n",
       "59   Chicago-Naperville-Elgin, IL-IN-WI MSA  2018-04-22  ultimate         NaN  \n",
       "311                   Memphis, TN-MS-AR MSA  2018-06-27  ultimate         NaN  \n",
       "6    San Francisco-Oakland-Berkeley, CA MSA  2018-11-27  ultimate  2018-12-18  \n",
       "8         Orlando-Kissimmee-Sanford, FL MSA  2018-08-03  ultimate         NaN  "
      ]
     },
     "execution_count": 9,
     "metadata": {},
     "output_type": "execute_result"
    }
   ],
   "source": [
    "# Imprime una muestra de datos para usuarios\n",
    "users_df.sample(5)\n"
   ]
  },
  {
   "cell_type": "markdown",
   "metadata": {
    "id": "dCZoUq4f0q06"
   },
   "source": [
    "Observamos en `users_df` los datos de cada usuario como id, nombre, apellido, ciudad donde viven, tipo de plan que usan, así como 2 fechas 1 que representan cuando el usuario se registró con ese plan y otra que nos dice cuando dejó de usar el plan, en ésta última tenemos datos ausentes, los cuales se deben a que el usaurio aún esta utilizando el plan.\n",
    "\n",
    "En las columnas `reg_date` y `churn_date` el tipo de datos es `object`, debemos transformar estos datos a tipo `datetime` para un mejor análisis de los datos."
   ]
  },
  {
   "cell_type": "markdown",
   "metadata": {
    "id": "BX5FQh_I0q06"
   },
   "source": [
    "#### Corrección de datos"
   ]
  },
  {
   "cell_type": "markdown",
   "metadata": {
    "id": "8OdKMwJv0q06"
   },
   "source": [
    "Cambiamos el tipo `object` de las columnas `reg_date` y `churn_date` a tipo `datetime`."
   ]
  },
  {
   "cell_type": "code",
   "execution_count": 10,
   "metadata": {
    "id": "yUqX-K0C0q07",
    "trusted": true
   },
   "outputs": [
    {
     "name": "stdout",
     "output_type": "stream",
     "text": [
      "<class 'pandas.core.frame.DataFrame'>\n",
      "RangeIndex: 500 entries, 0 to 499\n",
      "Data columns (total 8 columns):\n",
      " #   Column      Non-Null Count  Dtype         \n",
      "---  ------      --------------  -----         \n",
      " 0   user_id     500 non-null    int64         \n",
      " 1   first_name  500 non-null    object        \n",
      " 2   last_name   500 non-null    object        \n",
      " 3   age         500 non-null    int64         \n",
      " 4   city        500 non-null    object        \n",
      " 5   reg_date    500 non-null    datetime64[ns]\n",
      " 6   plan        500 non-null    object        \n",
      " 7   churn_date  34 non-null     datetime64[ns]\n",
      "dtypes: datetime64[ns](2), int64(2), object(4)\n",
      "memory usage: 31.4+ KB\n"
     ]
    },
    {
     "data": {
      "text/html": [
       "<div>\n",
       "<style scoped>\n",
       "    .dataframe tbody tr th:only-of-type {\n",
       "        vertical-align: middle;\n",
       "    }\n",
       "\n",
       "    .dataframe tbody tr th {\n",
       "        vertical-align: top;\n",
       "    }\n",
       "\n",
       "    .dataframe thead th {\n",
       "        text-align: right;\n",
       "    }\n",
       "</style>\n",
       "<table border=\"1\" class=\"dataframe\">\n",
       "  <thead>\n",
       "    <tr style=\"text-align: right;\">\n",
       "      <th></th>\n",
       "      <th>user_id</th>\n",
       "      <th>first_name</th>\n",
       "      <th>last_name</th>\n",
       "      <th>age</th>\n",
       "      <th>city</th>\n",
       "      <th>reg_date</th>\n",
       "      <th>plan</th>\n",
       "      <th>churn_date</th>\n",
       "    </tr>\n",
       "  </thead>\n",
       "  <tbody>\n",
       "    <tr>\n",
       "      <th>0</th>\n",
       "      <td>1000</td>\n",
       "      <td>Anamaria</td>\n",
       "      <td>Bauer</td>\n",
       "      <td>45</td>\n",
       "      <td>Atlanta-Sandy Springs-Roswell, GA MSA</td>\n",
       "      <td>2018-12-24</td>\n",
       "      <td>ultimate</td>\n",
       "      <td>NaT</td>\n",
       "    </tr>\n",
       "    <tr>\n",
       "      <th>1</th>\n",
       "      <td>1001</td>\n",
       "      <td>Mickey</td>\n",
       "      <td>Wilkerson</td>\n",
       "      <td>28</td>\n",
       "      <td>Seattle-Tacoma-Bellevue, WA MSA</td>\n",
       "      <td>2018-08-13</td>\n",
       "      <td>surf</td>\n",
       "      <td>NaT</td>\n",
       "    </tr>\n",
       "    <tr>\n",
       "      <th>2</th>\n",
       "      <td>1002</td>\n",
       "      <td>Carlee</td>\n",
       "      <td>Hoffman</td>\n",
       "      <td>36</td>\n",
       "      <td>Las Vegas-Henderson-Paradise, NV MSA</td>\n",
       "      <td>2018-10-21</td>\n",
       "      <td>surf</td>\n",
       "      <td>NaT</td>\n",
       "    </tr>\n",
       "    <tr>\n",
       "      <th>3</th>\n",
       "      <td>1003</td>\n",
       "      <td>Reynaldo</td>\n",
       "      <td>Jenkins</td>\n",
       "      <td>52</td>\n",
       "      <td>Tulsa, OK MSA</td>\n",
       "      <td>2018-01-28</td>\n",
       "      <td>surf</td>\n",
       "      <td>NaT</td>\n",
       "    </tr>\n",
       "    <tr>\n",
       "      <th>4</th>\n",
       "      <td>1004</td>\n",
       "      <td>Leonila</td>\n",
       "      <td>Thompson</td>\n",
       "      <td>40</td>\n",
       "      <td>Seattle-Tacoma-Bellevue, WA MSA</td>\n",
       "      <td>2018-05-23</td>\n",
       "      <td>surf</td>\n",
       "      <td>NaT</td>\n",
       "    </tr>\n",
       "  </tbody>\n",
       "</table>\n",
       "</div>"
      ],
      "text/plain": [
       "   user_id first_name  last_name  age                                   city  \\\n",
       "0     1000   Anamaria      Bauer   45  Atlanta-Sandy Springs-Roswell, GA MSA   \n",
       "1     1001     Mickey  Wilkerson   28        Seattle-Tacoma-Bellevue, WA MSA   \n",
       "2     1002     Carlee    Hoffman   36   Las Vegas-Henderson-Paradise, NV MSA   \n",
       "3     1003   Reynaldo    Jenkins   52                          Tulsa, OK MSA   \n",
       "4     1004    Leonila   Thompson   40        Seattle-Tacoma-Bellevue, WA MSA   \n",
       "\n",
       "    reg_date      plan churn_date  \n",
       "0 2018-12-24  ultimate        NaT  \n",
       "1 2018-08-13      surf        NaT  \n",
       "2 2018-10-21      surf        NaT  \n",
       "3 2018-01-28      surf        NaT  \n",
       "4 2018-05-23      surf        NaT  "
      ]
     },
     "execution_count": 10,
     "metadata": {},
     "output_type": "execute_result"
    }
   ],
   "source": [
    "users_df['reg_date'] = pd.to_datetime(users_df['reg_date'])\n",
    "users_df['churn_date'] = pd.to_datetime(users_df['churn_date'])\n",
    "users_df.info()\n",
    "users_df.head()"
   ]
  },
  {
   "cell_type": "markdown",
   "metadata": {},
   "source": [
    "Cambiamos el nombre de la columna `plan` por `plan_name` para homologar la información con `plans_df`."
   ]
  },
  {
   "cell_type": "code",
   "execution_count": 11,
   "metadata": {
    "trusted": true
   },
   "outputs": [
    {
     "data": {
      "text/html": [
       "<div>\n",
       "<style scoped>\n",
       "    .dataframe tbody tr th:only-of-type {\n",
       "        vertical-align: middle;\n",
       "    }\n",
       "\n",
       "    .dataframe tbody tr th {\n",
       "        vertical-align: top;\n",
       "    }\n",
       "\n",
       "    .dataframe thead th {\n",
       "        text-align: right;\n",
       "    }\n",
       "</style>\n",
       "<table border=\"1\" class=\"dataframe\">\n",
       "  <thead>\n",
       "    <tr style=\"text-align: right;\">\n",
       "      <th></th>\n",
       "      <th>user_id</th>\n",
       "      <th>first_name</th>\n",
       "      <th>last_name</th>\n",
       "      <th>age</th>\n",
       "      <th>city</th>\n",
       "      <th>reg_date</th>\n",
       "      <th>plan_name</th>\n",
       "      <th>churn_date</th>\n",
       "    </tr>\n",
       "  </thead>\n",
       "  <tbody>\n",
       "    <tr>\n",
       "      <th>0</th>\n",
       "      <td>1000</td>\n",
       "      <td>Anamaria</td>\n",
       "      <td>Bauer</td>\n",
       "      <td>45</td>\n",
       "      <td>Atlanta-Sandy Springs-Roswell, GA MSA</td>\n",
       "      <td>2018-12-24</td>\n",
       "      <td>ultimate</td>\n",
       "      <td>NaT</td>\n",
       "    </tr>\n",
       "    <tr>\n",
       "      <th>1</th>\n",
       "      <td>1001</td>\n",
       "      <td>Mickey</td>\n",
       "      <td>Wilkerson</td>\n",
       "      <td>28</td>\n",
       "      <td>Seattle-Tacoma-Bellevue, WA MSA</td>\n",
       "      <td>2018-08-13</td>\n",
       "      <td>surf</td>\n",
       "      <td>NaT</td>\n",
       "    </tr>\n",
       "    <tr>\n",
       "      <th>2</th>\n",
       "      <td>1002</td>\n",
       "      <td>Carlee</td>\n",
       "      <td>Hoffman</td>\n",
       "      <td>36</td>\n",
       "      <td>Las Vegas-Henderson-Paradise, NV MSA</td>\n",
       "      <td>2018-10-21</td>\n",
       "      <td>surf</td>\n",
       "      <td>NaT</td>\n",
       "    </tr>\n",
       "    <tr>\n",
       "      <th>3</th>\n",
       "      <td>1003</td>\n",
       "      <td>Reynaldo</td>\n",
       "      <td>Jenkins</td>\n",
       "      <td>52</td>\n",
       "      <td>Tulsa, OK MSA</td>\n",
       "      <td>2018-01-28</td>\n",
       "      <td>surf</td>\n",
       "      <td>NaT</td>\n",
       "    </tr>\n",
       "    <tr>\n",
       "      <th>4</th>\n",
       "      <td>1004</td>\n",
       "      <td>Leonila</td>\n",
       "      <td>Thompson</td>\n",
       "      <td>40</td>\n",
       "      <td>Seattle-Tacoma-Bellevue, WA MSA</td>\n",
       "      <td>2018-05-23</td>\n",
       "      <td>surf</td>\n",
       "      <td>NaT</td>\n",
       "    </tr>\n",
       "  </tbody>\n",
       "</table>\n",
       "</div>"
      ],
      "text/plain": [
       "   user_id first_name  last_name  age                                   city  \\\n",
       "0     1000   Anamaria      Bauer   45  Atlanta-Sandy Springs-Roswell, GA MSA   \n",
       "1     1001     Mickey  Wilkerson   28        Seattle-Tacoma-Bellevue, WA MSA   \n",
       "2     1002     Carlee    Hoffman   36   Las Vegas-Henderson-Paradise, NV MSA   \n",
       "3     1003   Reynaldo    Jenkins   52                          Tulsa, OK MSA   \n",
       "4     1004    Leonila   Thompson   40        Seattle-Tacoma-Bellevue, WA MSA   \n",
       "\n",
       "    reg_date plan_name churn_date  \n",
       "0 2018-12-24  ultimate        NaT  \n",
       "1 2018-08-13      surf        NaT  \n",
       "2 2018-10-21      surf        NaT  \n",
       "3 2018-01-28      surf        NaT  \n",
       "4 2018-05-23      surf        NaT  "
      ]
     },
     "execution_count": 11,
     "metadata": {},
     "output_type": "execute_result"
    }
   ],
   "source": [
    "users_df = users_df.rename(columns={'plan':'plan_name'})\n",
    "users_df.head()\n"
   ]
  },
  {
   "cell_type": "markdown",
   "metadata": {
    "id": "ycwuARJp0q07"
   },
   "source": [
    "#### Enriquecimiento de datos"
   ]
  },
  {
   "cell_type": "markdown",
   "metadata": {
    "id": "96NIh4CJ0q08"
   },
   "source": [
    "Extraemos los meses de las columnas `reg_date` y `churn_date` para poder analizar los usuarios registrados o dados de baja por mes para mejorar nuestro análisis de los datos."
   ]
  },
  {
   "cell_type": "code",
   "execution_count": 12,
   "metadata": {
    "id": "iq0AaBS90q08",
    "trusted": true
   },
   "outputs": [
    {
     "data": {
      "text/html": [
       "<div>\n",
       "<style scoped>\n",
       "    .dataframe tbody tr th:only-of-type {\n",
       "        vertical-align: middle;\n",
       "    }\n",
       "\n",
       "    .dataframe tbody tr th {\n",
       "        vertical-align: top;\n",
       "    }\n",
       "\n",
       "    .dataframe thead th {\n",
       "        text-align: right;\n",
       "    }\n",
       "</style>\n",
       "<table border=\"1\" class=\"dataframe\">\n",
       "  <thead>\n",
       "    <tr style=\"text-align: right;\">\n",
       "      <th></th>\n",
       "      <th>user_id</th>\n",
       "      <th>first_name</th>\n",
       "      <th>last_name</th>\n",
       "      <th>age</th>\n",
       "      <th>city</th>\n",
       "      <th>reg_date</th>\n",
       "      <th>plan_name</th>\n",
       "      <th>churn_date</th>\n",
       "      <th>reg_month</th>\n",
       "      <th>churn_month</th>\n",
       "    </tr>\n",
       "  </thead>\n",
       "  <tbody>\n",
       "    <tr>\n",
       "      <th>6</th>\n",
       "      <td>1006</td>\n",
       "      <td>Jesusa</td>\n",
       "      <td>Bradford</td>\n",
       "      <td>73</td>\n",
       "      <td>San Francisco-Oakland-Berkeley, CA MSA</td>\n",
       "      <td>2018-11-27</td>\n",
       "      <td>ultimate</td>\n",
       "      <td>2018-12-18</td>\n",
       "      <td>11</td>\n",
       "      <td>12.0</td>\n",
       "    </tr>\n",
       "    <tr>\n",
       "      <th>12</th>\n",
       "      <td>1012</td>\n",
       "      <td>Jonelle</td>\n",
       "      <td>Mcbride</td>\n",
       "      <td>59</td>\n",
       "      <td>Chicago-Naperville-Elgin, IL-IN-WI MSA</td>\n",
       "      <td>2018-06-28</td>\n",
       "      <td>surf</td>\n",
       "      <td>2018-11-16</td>\n",
       "      <td>6</td>\n",
       "      <td>11.0</td>\n",
       "    </tr>\n",
       "    <tr>\n",
       "      <th>22</th>\n",
       "      <td>1022</td>\n",
       "      <td>Bo</td>\n",
       "      <td>Snow</td>\n",
       "      <td>73</td>\n",
       "      <td>New York-Newark-Jersey City, NY-NJ-PA MSA</td>\n",
       "      <td>2018-04-20</td>\n",
       "      <td>surf</td>\n",
       "      <td>2018-09-07</td>\n",
       "      <td>4</td>\n",
       "      <td>9.0</td>\n",
       "    </tr>\n",
       "    <tr>\n",
       "      <th>40</th>\n",
       "      <td>1040</td>\n",
       "      <td>Paris</td>\n",
       "      <td>Santos</td>\n",
       "      <td>72</td>\n",
       "      <td>Philadelphia-Camden-Wilmington, PA-NJ-DE-MD MSA</td>\n",
       "      <td>2018-12-23</td>\n",
       "      <td>surf</td>\n",
       "      <td>2018-12-30</td>\n",
       "      <td>12</td>\n",
       "      <td>12.0</td>\n",
       "    </tr>\n",
       "    <tr>\n",
       "      <th>50</th>\n",
       "      <td>1050</td>\n",
       "      <td>Jone</td>\n",
       "      <td>Owen</td>\n",
       "      <td>23</td>\n",
       "      <td>Miami-Fort Lauderdale-West Palm Beach, FL MSA</td>\n",
       "      <td>2018-03-20</td>\n",
       "      <td>ultimate</td>\n",
       "      <td>2018-10-07</td>\n",
       "      <td>3</td>\n",
       "      <td>10.0</td>\n",
       "    </tr>\n",
       "  </tbody>\n",
       "</table>\n",
       "</div>"
      ],
      "text/plain": [
       "    user_id first_name last_name  age  \\\n",
       "6      1006     Jesusa  Bradford   73   \n",
       "12     1012    Jonelle   Mcbride   59   \n",
       "22     1022         Bo      Snow   73   \n",
       "40     1040      Paris    Santos   72   \n",
       "50     1050       Jone      Owen   23   \n",
       "\n",
       "                                               city   reg_date plan_name  \\\n",
       "6            San Francisco-Oakland-Berkeley, CA MSA 2018-11-27  ultimate   \n",
       "12           Chicago-Naperville-Elgin, IL-IN-WI MSA 2018-06-28      surf   \n",
       "22        New York-Newark-Jersey City, NY-NJ-PA MSA 2018-04-20      surf   \n",
       "40  Philadelphia-Camden-Wilmington, PA-NJ-DE-MD MSA 2018-12-23      surf   \n",
       "50    Miami-Fort Lauderdale-West Palm Beach, FL MSA 2018-03-20  ultimate   \n",
       "\n",
       "   churn_date  reg_month  churn_month  \n",
       "6  2018-12-18         11         12.0  \n",
       "12 2018-11-16          6         11.0  \n",
       "22 2018-09-07          4          9.0  \n",
       "40 2018-12-30         12         12.0  \n",
       "50 2018-10-07          3         10.0  "
      ]
     },
     "execution_count": 12,
     "metadata": {},
     "output_type": "execute_result"
    }
   ],
   "source": [
    "users_df['reg_month'] = users_df['reg_date'].dt.month\n",
    "users_df['churn_month'] = users_df['churn_date'].dt.month\n",
    "users_df[users_df['churn_month']>0].head()\n"
   ]
  },
  {
   "cell_type": "markdown",
   "metadata": {
    "id": "o7MeKCid0q08"
   },
   "source": [
    "## Llamadas"
   ]
  },
  {
   "cell_type": "code",
   "execution_count": 13,
   "metadata": {
    "id": "6dDlnoDm0q08",
    "trusted": true
   },
   "outputs": [
    {
     "name": "stdout",
     "output_type": "stream",
     "text": [
      "<class 'pandas.core.frame.DataFrame'>\n",
      "RangeIndex: 137735 entries, 0 to 137734\n",
      "Data columns (total 4 columns):\n",
      " #   Column     Non-Null Count   Dtype  \n",
      "---  ------     --------------   -----  \n",
      " 0   id         137735 non-null  object \n",
      " 1   user_id    137735 non-null  int64  \n",
      " 2   call_date  137735 non-null  object \n",
      " 3   duration   137735 non-null  float64\n",
      "dtypes: float64(1), int64(1), object(2)\n",
      "memory usage: 4.2+ MB\n",
      "\n"
     ]
    },
    {
     "data": {
      "text/plain": [
       "Index(['id', 'user_id', 'call_date', 'duration'], dtype='object')"
      ]
     },
     "execution_count": 13,
     "metadata": {},
     "output_type": "execute_result"
    }
   ],
   "source": [
    "# Imprime la información general/resumida sobre el DataFrame de las llamadas\n",
    "calls_df.info()\n",
    "print()\n",
    "\n",
    "calls_df.columns\n"
   ]
  },
  {
   "cell_type": "markdown",
   "metadata": {},
   "source": [
    "Revisamos si existen duplicados en el `df`."
   ]
  },
  {
   "cell_type": "code",
   "execution_count": 14,
   "metadata": {
    "trusted": true
   },
   "outputs": [
    {
     "data": {
      "text/plain": [
       "0"
      ]
     },
     "execution_count": 14,
     "metadata": {},
     "output_type": "execute_result"
    }
   ],
   "source": [
    "calls_df.duplicated().sum()"
   ]
  },
  {
   "cell_type": "code",
   "execution_count": 15,
   "metadata": {
    "id": "kuh1vlNB0q09",
    "trusted": true
   },
   "outputs": [
    {
     "data": {
      "text/html": [
       "<div>\n",
       "<style scoped>\n",
       "    .dataframe tbody tr th:only-of-type {\n",
       "        vertical-align: middle;\n",
       "    }\n",
       "\n",
       "    .dataframe tbody tr th {\n",
       "        vertical-align: top;\n",
       "    }\n",
       "\n",
       "    .dataframe thead th {\n",
       "        text-align: right;\n",
       "    }\n",
       "</style>\n",
       "<table border=\"1\" class=\"dataframe\">\n",
       "  <thead>\n",
       "    <tr style=\"text-align: right;\">\n",
       "      <th></th>\n",
       "      <th>id</th>\n",
       "      <th>user_id</th>\n",
       "      <th>call_date</th>\n",
       "      <th>duration</th>\n",
       "    </tr>\n",
       "  </thead>\n",
       "  <tbody>\n",
       "    <tr>\n",
       "      <th>0</th>\n",
       "      <td>1000_93</td>\n",
       "      <td>1000</td>\n",
       "      <td>2018-12-27</td>\n",
       "      <td>8.52</td>\n",
       "    </tr>\n",
       "    <tr>\n",
       "      <th>1</th>\n",
       "      <td>1000_145</td>\n",
       "      <td>1000</td>\n",
       "      <td>2018-12-27</td>\n",
       "      <td>13.66</td>\n",
       "    </tr>\n",
       "    <tr>\n",
       "      <th>2</th>\n",
       "      <td>1000_247</td>\n",
       "      <td>1000</td>\n",
       "      <td>2018-12-27</td>\n",
       "      <td>14.48</td>\n",
       "    </tr>\n",
       "    <tr>\n",
       "      <th>3</th>\n",
       "      <td>1000_309</td>\n",
       "      <td>1000</td>\n",
       "      <td>2018-12-28</td>\n",
       "      <td>5.76</td>\n",
       "    </tr>\n",
       "    <tr>\n",
       "      <th>4</th>\n",
       "      <td>1000_380</td>\n",
       "      <td>1000</td>\n",
       "      <td>2018-12-30</td>\n",
       "      <td>4.22</td>\n",
       "    </tr>\n",
       "  </tbody>\n",
       "</table>\n",
       "</div>"
      ],
      "text/plain": [
       "         id  user_id   call_date  duration\n",
       "0   1000_93     1000  2018-12-27      8.52\n",
       "1  1000_145     1000  2018-12-27     13.66\n",
       "2  1000_247     1000  2018-12-27     14.48\n",
       "3  1000_309     1000  2018-12-28      5.76\n",
       "4  1000_380     1000  2018-12-30      4.22"
      ]
     },
     "execution_count": 15,
     "metadata": {},
     "output_type": "execute_result"
    }
   ],
   "source": [
    "# Imprime una muestra de datos para las llamadas\n",
    "calls_df.head()\n"
   ]
  },
  {
   "cell_type": "markdown",
   "metadata": {
    "id": "DOAxYJSx0q09"
   },
   "source": [
    "Observamos en `calls_df` los datos de cada llamada realizada como id de la llamada, usuario que realizó la llamada, fecha en que se realizó la llamada y la duración de la llamada en minutos, no encontramos datos ausentes ni duplicados.\n",
    "\n",
    "En la columna de `call_date` tipo de datos es `object`, debemos transformar estos datos a tipo `datetime` para un mejor análisis de los datos.\n"
   ]
  },
  {
   "cell_type": "markdown",
   "metadata": {
    "id": "S7hzxmbX0q0-"
   },
   "source": [
    "#### Corrección de datos"
   ]
  },
  {
   "cell_type": "markdown",
   "metadata": {
    "id": "YxWyAjD20q0-"
   },
   "source": [
    "Cambiamos el tipo `object` de la columna `call_date` a tipo `datetime`."
   ]
  },
  {
   "cell_type": "code",
   "execution_count": 16,
   "metadata": {
    "id": "S2r8xA4f0q0-",
    "trusted": true
   },
   "outputs": [
    {
     "name": "stdout",
     "output_type": "stream",
     "text": [
      "<class 'pandas.core.frame.DataFrame'>\n",
      "RangeIndex: 137735 entries, 0 to 137734\n",
      "Data columns (total 4 columns):\n",
      " #   Column     Non-Null Count   Dtype         \n",
      "---  ------     --------------   -----         \n",
      " 0   id         137735 non-null  object        \n",
      " 1   user_id    137735 non-null  int64         \n",
      " 2   call_date  137735 non-null  datetime64[ns]\n",
      " 3   duration   137735 non-null  float64       \n",
      "dtypes: datetime64[ns](1), float64(1), int64(1), object(1)\n",
      "memory usage: 4.2+ MB\n"
     ]
    },
    {
     "data": {
      "text/html": [
       "<div>\n",
       "<style scoped>\n",
       "    .dataframe tbody tr th:only-of-type {\n",
       "        vertical-align: middle;\n",
       "    }\n",
       "\n",
       "    .dataframe tbody tr th {\n",
       "        vertical-align: top;\n",
       "    }\n",
       "\n",
       "    .dataframe thead th {\n",
       "        text-align: right;\n",
       "    }\n",
       "</style>\n",
       "<table border=\"1\" class=\"dataframe\">\n",
       "  <thead>\n",
       "    <tr style=\"text-align: right;\">\n",
       "      <th></th>\n",
       "      <th>id</th>\n",
       "      <th>user_id</th>\n",
       "      <th>call_date</th>\n",
       "      <th>duration</th>\n",
       "    </tr>\n",
       "  </thead>\n",
       "  <tbody>\n",
       "    <tr>\n",
       "      <th>0</th>\n",
       "      <td>1000_93</td>\n",
       "      <td>1000</td>\n",
       "      <td>2018-12-27</td>\n",
       "      <td>8.52</td>\n",
       "    </tr>\n",
       "    <tr>\n",
       "      <th>1</th>\n",
       "      <td>1000_145</td>\n",
       "      <td>1000</td>\n",
       "      <td>2018-12-27</td>\n",
       "      <td>13.66</td>\n",
       "    </tr>\n",
       "    <tr>\n",
       "      <th>2</th>\n",
       "      <td>1000_247</td>\n",
       "      <td>1000</td>\n",
       "      <td>2018-12-27</td>\n",
       "      <td>14.48</td>\n",
       "    </tr>\n",
       "    <tr>\n",
       "      <th>3</th>\n",
       "      <td>1000_309</td>\n",
       "      <td>1000</td>\n",
       "      <td>2018-12-28</td>\n",
       "      <td>5.76</td>\n",
       "    </tr>\n",
       "    <tr>\n",
       "      <th>4</th>\n",
       "      <td>1000_380</td>\n",
       "      <td>1000</td>\n",
       "      <td>2018-12-30</td>\n",
       "      <td>4.22</td>\n",
       "    </tr>\n",
       "  </tbody>\n",
       "</table>\n",
       "</div>"
      ],
      "text/plain": [
       "         id  user_id  call_date  duration\n",
       "0   1000_93     1000 2018-12-27      8.52\n",
       "1  1000_145     1000 2018-12-27     13.66\n",
       "2  1000_247     1000 2018-12-27     14.48\n",
       "3  1000_309     1000 2018-12-28      5.76\n",
       "4  1000_380     1000 2018-12-30      4.22"
      ]
     },
     "execution_count": 16,
     "metadata": {},
     "output_type": "execute_result"
    }
   ],
   "source": [
    "calls_df['call_date'] = pd.to_datetime(calls_df['call_date'])\n",
    "calls_df.info()\n",
    "calls_df.head()"
   ]
  },
  {
   "cell_type": "markdown",
   "metadata": {
    "id": "KrMgTrlG0q0_"
   },
   "source": [
    "### Enriquecimiento de datos"
   ]
  },
  {
   "cell_type": "markdown",
   "metadata": {
    "id": "a9MbmEvE0q0_"
   },
   "source": [
    "Extraemos el mes de la columna `call_date` para poder analizar las llamadas realizadas por mes para mejorar nuestro análisis de los datos."
   ]
  },
  {
   "cell_type": "code",
   "execution_count": 17,
   "metadata": {
    "id": "iZ1avpA_0q0_",
    "trusted": true
   },
   "outputs": [
    {
     "data": {
      "text/html": [
       "<div>\n",
       "<style scoped>\n",
       "    .dataframe tbody tr th:only-of-type {\n",
       "        vertical-align: middle;\n",
       "    }\n",
       "\n",
       "    .dataframe tbody tr th {\n",
       "        vertical-align: top;\n",
       "    }\n",
       "\n",
       "    .dataframe thead th {\n",
       "        text-align: right;\n",
       "    }\n",
       "</style>\n",
       "<table border=\"1\" class=\"dataframe\">\n",
       "  <thead>\n",
       "    <tr style=\"text-align: right;\">\n",
       "      <th></th>\n",
       "      <th>id</th>\n",
       "      <th>user_id</th>\n",
       "      <th>call_date</th>\n",
       "      <th>duration</th>\n",
       "      <th>month</th>\n",
       "    </tr>\n",
       "  </thead>\n",
       "  <tbody>\n",
       "    <tr>\n",
       "      <th>15620</th>\n",
       "      <td>1061_562</td>\n",
       "      <td>1061</td>\n",
       "      <td>2018-12-10</td>\n",
       "      <td>3.86</td>\n",
       "      <td>12</td>\n",
       "    </tr>\n",
       "    <tr>\n",
       "      <th>129468</th>\n",
       "      <td>1465_926</td>\n",
       "      <td>1465</td>\n",
       "      <td>2018-08-03</td>\n",
       "      <td>0.00</td>\n",
       "      <td>8</td>\n",
       "    </tr>\n",
       "    <tr>\n",
       "      <th>73553</th>\n",
       "      <td>1261_311</td>\n",
       "      <td>1261</td>\n",
       "      <td>2018-11-20</td>\n",
       "      <td>8.11</td>\n",
       "      <td>11</td>\n",
       "    </tr>\n",
       "    <tr>\n",
       "      <th>58574</th>\n",
       "      <td>1211_183</td>\n",
       "      <td>1211</td>\n",
       "      <td>2018-12-08</td>\n",
       "      <td>12.08</td>\n",
       "      <td>12</td>\n",
       "    </tr>\n",
       "    <tr>\n",
       "      <th>49564</th>\n",
       "      <td>1179_223</td>\n",
       "      <td>1179</td>\n",
       "      <td>2018-07-30</td>\n",
       "      <td>0.92</td>\n",
       "      <td>7</td>\n",
       "    </tr>\n",
       "  </tbody>\n",
       "</table>\n",
       "</div>"
      ],
      "text/plain": [
       "              id  user_id  call_date  duration  month\n",
       "15620   1061_562     1061 2018-12-10      3.86     12\n",
       "129468  1465_926     1465 2018-08-03      0.00      8\n",
       "73553   1261_311     1261 2018-11-20      8.11     11\n",
       "58574   1211_183     1211 2018-12-08     12.08     12\n",
       "49564   1179_223     1179 2018-07-30      0.92      7"
      ]
     },
     "execution_count": 17,
     "metadata": {},
     "output_type": "execute_result"
    }
   ],
   "source": [
    "calls_df['month'] = calls_df['call_date'].dt.month\n",
    "calls_df.sample(5)"
   ]
  },
  {
   "cell_type": "markdown",
   "metadata": {
    "id": "mOUZSi180q0_"
   },
   "source": [
    "## Mensajes"
   ]
  },
  {
   "cell_type": "code",
   "execution_count": 18,
   "metadata": {
    "id": "R-bYJpdV0q1A",
    "trusted": true
   },
   "outputs": [
    {
     "name": "stdout",
     "output_type": "stream",
     "text": [
      "<class 'pandas.core.frame.DataFrame'>\n",
      "RangeIndex: 76051 entries, 0 to 76050\n",
      "Data columns (total 3 columns):\n",
      " #   Column        Non-Null Count  Dtype \n",
      "---  ------        --------------  ----- \n",
      " 0   id            76051 non-null  object\n",
      " 1   user_id       76051 non-null  int64 \n",
      " 2   message_date  76051 non-null  object\n",
      "dtypes: int64(1), object(2)\n",
      "memory usage: 1.7+ MB\n",
      "\n"
     ]
    },
    {
     "data": {
      "text/plain": [
       "Index(['id', 'user_id', 'message_date'], dtype='object')"
      ]
     },
     "execution_count": 18,
     "metadata": {},
     "output_type": "execute_result"
    }
   ],
   "source": [
    "# Imprime la información general/resumida sobre el DataFrame de los mensajes\n",
    "messages_df.info()\n",
    "print()\n",
    "messages_df.columns\n"
   ]
  },
  {
   "cell_type": "markdown",
   "metadata": {},
   "source": [
    "Revisamos si existen duplicados en el `df`."
   ]
  },
  {
   "cell_type": "code",
   "execution_count": 19,
   "metadata": {
    "trusted": true
   },
   "outputs": [
    {
     "data": {
      "text/plain": [
       "0"
      ]
     },
     "execution_count": 19,
     "metadata": {},
     "output_type": "execute_result"
    }
   ],
   "source": [
    "messages_df.duplicated().sum()"
   ]
  },
  {
   "cell_type": "code",
   "execution_count": 20,
   "metadata": {
    "id": "mCEl2iGE0q1A",
    "trusted": true
   },
   "outputs": [
    {
     "data": {
      "text/html": [
       "<div>\n",
       "<style scoped>\n",
       "    .dataframe tbody tr th:only-of-type {\n",
       "        vertical-align: middle;\n",
       "    }\n",
       "\n",
       "    .dataframe tbody tr th {\n",
       "        vertical-align: top;\n",
       "    }\n",
       "\n",
       "    .dataframe thead th {\n",
       "        text-align: right;\n",
       "    }\n",
       "</style>\n",
       "<table border=\"1\" class=\"dataframe\">\n",
       "  <thead>\n",
       "    <tr style=\"text-align: right;\">\n",
       "      <th></th>\n",
       "      <th>id</th>\n",
       "      <th>user_id</th>\n",
       "      <th>message_date</th>\n",
       "    </tr>\n",
       "  </thead>\n",
       "  <tbody>\n",
       "    <tr>\n",
       "      <th>0</th>\n",
       "      <td>1000_125</td>\n",
       "      <td>1000</td>\n",
       "      <td>2018-12-27</td>\n",
       "    </tr>\n",
       "    <tr>\n",
       "      <th>1</th>\n",
       "      <td>1000_160</td>\n",
       "      <td>1000</td>\n",
       "      <td>2018-12-31</td>\n",
       "    </tr>\n",
       "    <tr>\n",
       "      <th>2</th>\n",
       "      <td>1000_223</td>\n",
       "      <td>1000</td>\n",
       "      <td>2018-12-31</td>\n",
       "    </tr>\n",
       "    <tr>\n",
       "      <th>3</th>\n",
       "      <td>1000_251</td>\n",
       "      <td>1000</td>\n",
       "      <td>2018-12-27</td>\n",
       "    </tr>\n",
       "    <tr>\n",
       "      <th>4</th>\n",
       "      <td>1000_255</td>\n",
       "      <td>1000</td>\n",
       "      <td>2018-12-26</td>\n",
       "    </tr>\n",
       "  </tbody>\n",
       "</table>\n",
       "</div>"
      ],
      "text/plain": [
       "         id  user_id message_date\n",
       "0  1000_125     1000   2018-12-27\n",
       "1  1000_160     1000   2018-12-31\n",
       "2  1000_223     1000   2018-12-31\n",
       "3  1000_251     1000   2018-12-27\n",
       "4  1000_255     1000   2018-12-26"
      ]
     },
     "execution_count": 20,
     "metadata": {},
     "output_type": "execute_result"
    }
   ],
   "source": [
    "# Imprime una muestra de datos para los mensajes\n",
    "messages_df.head()\n"
   ]
  },
  {
   "cell_type": "markdown",
   "metadata": {
    "id": "04xDj7KH0q1A"
   },
   "source": [
    "Observamos en `messages_df` los datos de cada mensaje enviado como id del mensaje, usuario que envió el mensaje y la fecha en que se envió el mensaje, no encontramos datos ausentes ni duplicados.\n",
    "\n",
    "En la columna de `message_date` tipo de datos es `object`, debemos transformar estos datos a tipo `datetime` para un mejor análisis de los datos.\n"
   ]
  },
  {
   "cell_type": "markdown",
   "metadata": {
    "id": "Sprfak900q1B"
   },
   "source": [
    "### Corrección de datos"
   ]
  },
  {
   "cell_type": "markdown",
   "metadata": {
    "id": "eGw7d9j10q1B"
   },
   "source": [
    "Cambiamos el tipo `object` de la columna `messsage_date` a tipo `datetime`."
   ]
  },
  {
   "cell_type": "code",
   "execution_count": 21,
   "metadata": {
    "id": "vsllvkoa0q1B",
    "trusted": true
   },
   "outputs": [
    {
     "name": "stdout",
     "output_type": "stream",
     "text": [
      "<class 'pandas.core.frame.DataFrame'>\n",
      "RangeIndex: 76051 entries, 0 to 76050\n",
      "Data columns (total 3 columns):\n",
      " #   Column        Non-Null Count  Dtype         \n",
      "---  ------        --------------  -----         \n",
      " 0   id            76051 non-null  object        \n",
      " 1   user_id       76051 non-null  int64         \n",
      " 2   message_date  76051 non-null  datetime64[ns]\n",
      "dtypes: datetime64[ns](1), int64(1), object(1)\n",
      "memory usage: 1.7+ MB\n"
     ]
    },
    {
     "data": {
      "text/html": [
       "<div>\n",
       "<style scoped>\n",
       "    .dataframe tbody tr th:only-of-type {\n",
       "        vertical-align: middle;\n",
       "    }\n",
       "\n",
       "    .dataframe tbody tr th {\n",
       "        vertical-align: top;\n",
       "    }\n",
       "\n",
       "    .dataframe thead th {\n",
       "        text-align: right;\n",
       "    }\n",
       "</style>\n",
       "<table border=\"1\" class=\"dataframe\">\n",
       "  <thead>\n",
       "    <tr style=\"text-align: right;\">\n",
       "      <th></th>\n",
       "      <th>id</th>\n",
       "      <th>user_id</th>\n",
       "      <th>message_date</th>\n",
       "    </tr>\n",
       "  </thead>\n",
       "  <tbody>\n",
       "    <tr>\n",
       "      <th>0</th>\n",
       "      <td>1000_125</td>\n",
       "      <td>1000</td>\n",
       "      <td>2018-12-27</td>\n",
       "    </tr>\n",
       "    <tr>\n",
       "      <th>1</th>\n",
       "      <td>1000_160</td>\n",
       "      <td>1000</td>\n",
       "      <td>2018-12-31</td>\n",
       "    </tr>\n",
       "    <tr>\n",
       "      <th>2</th>\n",
       "      <td>1000_223</td>\n",
       "      <td>1000</td>\n",
       "      <td>2018-12-31</td>\n",
       "    </tr>\n",
       "    <tr>\n",
       "      <th>3</th>\n",
       "      <td>1000_251</td>\n",
       "      <td>1000</td>\n",
       "      <td>2018-12-27</td>\n",
       "    </tr>\n",
       "    <tr>\n",
       "      <th>4</th>\n",
       "      <td>1000_255</td>\n",
       "      <td>1000</td>\n",
       "      <td>2018-12-26</td>\n",
       "    </tr>\n",
       "  </tbody>\n",
       "</table>\n",
       "</div>"
      ],
      "text/plain": [
       "         id  user_id message_date\n",
       "0  1000_125     1000   2018-12-27\n",
       "1  1000_160     1000   2018-12-31\n",
       "2  1000_223     1000   2018-12-31\n",
       "3  1000_251     1000   2018-12-27\n",
       "4  1000_255     1000   2018-12-26"
      ]
     },
     "execution_count": 21,
     "metadata": {},
     "output_type": "execute_result"
    }
   ],
   "source": [
    "messages_df['message_date'] = pd.to_datetime(messages_df['message_date'])\n",
    "messages_df.info()\n",
    "messages_df.head()\n"
   ]
  },
  {
   "cell_type": "markdown",
   "metadata": {
    "id": "HvLid7iD0q1B"
   },
   "source": [
    "### Enriquecimiento de datos"
   ]
  },
  {
   "cell_type": "markdown",
   "metadata": {
    "id": "8nhPFKIe0q1C"
   },
   "source": [
    "Extraemos el mes de la columna `message_date` para poder analizar los mensajes enviados por mes para mejorar nuestro análisis de los datos."
   ]
  },
  {
   "cell_type": "code",
   "execution_count": 22,
   "metadata": {
    "id": "zYEXZac10q1C",
    "trusted": true
   },
   "outputs": [
    {
     "data": {
      "text/html": [
       "<div>\n",
       "<style scoped>\n",
       "    .dataframe tbody tr th:only-of-type {\n",
       "        vertical-align: middle;\n",
       "    }\n",
       "\n",
       "    .dataframe tbody tr th {\n",
       "        vertical-align: top;\n",
       "    }\n",
       "\n",
       "    .dataframe thead th {\n",
       "        text-align: right;\n",
       "    }\n",
       "</style>\n",
       "<table border=\"1\" class=\"dataframe\">\n",
       "  <thead>\n",
       "    <tr style=\"text-align: right;\">\n",
       "      <th></th>\n",
       "      <th>id</th>\n",
       "      <th>user_id</th>\n",
       "      <th>message_date</th>\n",
       "      <th>month</th>\n",
       "    </tr>\n",
       "  </thead>\n",
       "  <tbody>\n",
       "    <tr>\n",
       "      <th>74078</th>\n",
       "      <td>1475_212</td>\n",
       "      <td>1475</td>\n",
       "      <td>2018-08-10</td>\n",
       "      <td>8</td>\n",
       "    </tr>\n",
       "    <tr>\n",
       "      <th>70586</th>\n",
       "      <td>1460_46</td>\n",
       "      <td>1460</td>\n",
       "      <td>2018-11-10</td>\n",
       "      <td>11</td>\n",
       "    </tr>\n",
       "    <tr>\n",
       "      <th>57858</th>\n",
       "      <td>1365_14</td>\n",
       "      <td>1365</td>\n",
       "      <td>2018-10-14</td>\n",
       "      <td>10</td>\n",
       "    </tr>\n",
       "    <tr>\n",
       "      <th>51245</th>\n",
       "      <td>1331_420</td>\n",
       "      <td>1331</td>\n",
       "      <td>2018-10-06</td>\n",
       "      <td>10</td>\n",
       "    </tr>\n",
       "    <tr>\n",
       "      <th>32803</th>\n",
       "      <td>1203_448</td>\n",
       "      <td>1203</td>\n",
       "      <td>2018-09-17</td>\n",
       "      <td>9</td>\n",
       "    </tr>\n",
       "  </tbody>\n",
       "</table>\n",
       "</div>"
      ],
      "text/plain": [
       "             id  user_id message_date  month\n",
       "74078  1475_212     1475   2018-08-10      8\n",
       "70586   1460_46     1460   2018-11-10     11\n",
       "57858   1365_14     1365   2018-10-14     10\n",
       "51245  1331_420     1331   2018-10-06     10\n",
       "32803  1203_448     1203   2018-09-17      9"
      ]
     },
     "execution_count": 22,
     "metadata": {},
     "output_type": "execute_result"
    }
   ],
   "source": [
    "messages_df['month'] = messages_df['message_date'].dt.month\n",
    "messages_df.sample(5)"
   ]
  },
  {
   "cell_type": "markdown",
   "metadata": {
    "id": "bStkaxn40q1C"
   },
   "source": [
    "## Internet"
   ]
  },
  {
   "cell_type": "code",
   "execution_count": 23,
   "metadata": {
    "id": "e-Uz5qyn0q1C",
    "trusted": true
   },
   "outputs": [
    {
     "name": "stdout",
     "output_type": "stream",
     "text": [
      "<class 'pandas.core.frame.DataFrame'>\n",
      "RangeIndex: 104825 entries, 0 to 104824\n",
      "Data columns (total 4 columns):\n",
      " #   Column        Non-Null Count   Dtype  \n",
      "---  ------        --------------   -----  \n",
      " 0   id            104825 non-null  object \n",
      " 1   user_id       104825 non-null  int64  \n",
      " 2   session_date  104825 non-null  object \n",
      " 3   mb_used       104825 non-null  float64\n",
      "dtypes: float64(1), int64(1), object(2)\n",
      "memory usage: 3.2+ MB\n",
      "\n"
     ]
    },
    {
     "data": {
      "text/plain": [
       "Index(['id', 'user_id', 'session_date', 'mb_used'], dtype='object')"
      ]
     },
     "execution_count": 23,
     "metadata": {},
     "output_type": "execute_result"
    }
   ],
   "source": [
    "# Imprime la información general/resumida sobre el DataFrame de internet\n",
    "internet_df.info()\n",
    "print()\n",
    "internet_df.columns\n"
   ]
  },
  {
   "cell_type": "markdown",
   "metadata": {},
   "source": [
    "Revisamos si existen duplicados en el `df`."
   ]
  },
  {
   "cell_type": "code",
   "execution_count": 24,
   "metadata": {
    "trusted": true
   },
   "outputs": [
    {
     "data": {
      "text/plain": [
       "0"
      ]
     },
     "execution_count": 24,
     "metadata": {},
     "output_type": "execute_result"
    }
   ],
   "source": [
    "internet_df.duplicated().sum()"
   ]
  },
  {
   "cell_type": "code",
   "execution_count": 25,
   "metadata": {
    "id": "9r3x_XLw0q1C",
    "trusted": true
   },
   "outputs": [
    {
     "data": {
      "text/html": [
       "<div>\n",
       "<style scoped>\n",
       "    .dataframe tbody tr th:only-of-type {\n",
       "        vertical-align: middle;\n",
       "    }\n",
       "\n",
       "    .dataframe tbody tr th {\n",
       "        vertical-align: top;\n",
       "    }\n",
       "\n",
       "    .dataframe thead th {\n",
       "        text-align: right;\n",
       "    }\n",
       "</style>\n",
       "<table border=\"1\" class=\"dataframe\">\n",
       "  <thead>\n",
       "    <tr style=\"text-align: right;\">\n",
       "      <th></th>\n",
       "      <th>id</th>\n",
       "      <th>user_id</th>\n",
       "      <th>session_date</th>\n",
       "      <th>mb_used</th>\n",
       "    </tr>\n",
       "  </thead>\n",
       "  <tbody>\n",
       "    <tr>\n",
       "      <th>0</th>\n",
       "      <td>1000_13</td>\n",
       "      <td>1000</td>\n",
       "      <td>2018-12-29</td>\n",
       "      <td>89.86</td>\n",
       "    </tr>\n",
       "    <tr>\n",
       "      <th>1</th>\n",
       "      <td>1000_204</td>\n",
       "      <td>1000</td>\n",
       "      <td>2018-12-31</td>\n",
       "      <td>0.00</td>\n",
       "    </tr>\n",
       "    <tr>\n",
       "      <th>2</th>\n",
       "      <td>1000_379</td>\n",
       "      <td>1000</td>\n",
       "      <td>2018-12-28</td>\n",
       "      <td>660.40</td>\n",
       "    </tr>\n",
       "    <tr>\n",
       "      <th>3</th>\n",
       "      <td>1000_413</td>\n",
       "      <td>1000</td>\n",
       "      <td>2018-12-26</td>\n",
       "      <td>270.99</td>\n",
       "    </tr>\n",
       "    <tr>\n",
       "      <th>4</th>\n",
       "      <td>1000_442</td>\n",
       "      <td>1000</td>\n",
       "      <td>2018-12-27</td>\n",
       "      <td>880.22</td>\n",
       "    </tr>\n",
       "  </tbody>\n",
       "</table>\n",
       "</div>"
      ],
      "text/plain": [
       "         id  user_id session_date  mb_used\n",
       "0   1000_13     1000   2018-12-29    89.86\n",
       "1  1000_204     1000   2018-12-31     0.00\n",
       "2  1000_379     1000   2018-12-28   660.40\n",
       "3  1000_413     1000   2018-12-26   270.99\n",
       "4  1000_442     1000   2018-12-27   880.22"
      ]
     },
     "execution_count": 25,
     "metadata": {},
     "output_type": "execute_result"
    }
   ],
   "source": [
    "# Imprime una muestra de datos para el tráfico de internet\n",
    "internet_df.head()\n"
   ]
  },
  {
   "cell_type": "markdown",
   "metadata": {
    "id": "EzOG5ik30q1D"
   },
   "source": [
    "Observamos en `internet_df` los datos del uso de internet como id de sesión, usuario que estuvó en sesión, la fecha de la sesión y la cantidad de mb consumidos en la sesión, no encontramos datos ausentes ni duplicados.\n",
    "\n",
    "En la columna de `session_date` tipo de datos es `object`, debemos transformar estos datos a tipo `datetime` para un mejor análisis de los datos.\n"
   ]
  },
  {
   "cell_type": "markdown",
   "metadata": {
    "id": "yA0tkPFg0q1D"
   },
   "source": [
    "### Corrección de datos"
   ]
  },
  {
   "cell_type": "markdown",
   "metadata": {
    "id": "zlZMuIEK0q1D"
   },
   "source": [
    "Cambiamos el tipo `object` de la columna `session_date` a tipo `datetime`."
   ]
  },
  {
   "cell_type": "code",
   "execution_count": 26,
   "metadata": {
    "id": "zVeanzdd0q1E",
    "trusted": true
   },
   "outputs": [
    {
     "name": "stdout",
     "output_type": "stream",
     "text": [
      "<class 'pandas.core.frame.DataFrame'>\n",
      "RangeIndex: 104825 entries, 0 to 104824\n",
      "Data columns (total 4 columns):\n",
      " #   Column        Non-Null Count   Dtype         \n",
      "---  ------        --------------   -----         \n",
      " 0   id            104825 non-null  object        \n",
      " 1   user_id       104825 non-null  int64         \n",
      " 2   session_date  104825 non-null  datetime64[ns]\n",
      " 3   mb_used       104825 non-null  float64       \n",
      "dtypes: datetime64[ns](1), float64(1), int64(1), object(1)\n",
      "memory usage: 3.2+ MB\n"
     ]
    },
    {
     "data": {
      "text/html": [
       "<div>\n",
       "<style scoped>\n",
       "    .dataframe tbody tr th:only-of-type {\n",
       "        vertical-align: middle;\n",
       "    }\n",
       "\n",
       "    .dataframe tbody tr th {\n",
       "        vertical-align: top;\n",
       "    }\n",
       "\n",
       "    .dataframe thead th {\n",
       "        text-align: right;\n",
       "    }\n",
       "</style>\n",
       "<table border=\"1\" class=\"dataframe\">\n",
       "  <thead>\n",
       "    <tr style=\"text-align: right;\">\n",
       "      <th></th>\n",
       "      <th>id</th>\n",
       "      <th>user_id</th>\n",
       "      <th>session_date</th>\n",
       "      <th>mb_used</th>\n",
       "    </tr>\n",
       "  </thead>\n",
       "  <tbody>\n",
       "    <tr>\n",
       "      <th>0</th>\n",
       "      <td>1000_13</td>\n",
       "      <td>1000</td>\n",
       "      <td>2018-12-29</td>\n",
       "      <td>89.86</td>\n",
       "    </tr>\n",
       "    <tr>\n",
       "      <th>1</th>\n",
       "      <td>1000_204</td>\n",
       "      <td>1000</td>\n",
       "      <td>2018-12-31</td>\n",
       "      <td>0.00</td>\n",
       "    </tr>\n",
       "    <tr>\n",
       "      <th>2</th>\n",
       "      <td>1000_379</td>\n",
       "      <td>1000</td>\n",
       "      <td>2018-12-28</td>\n",
       "      <td>660.40</td>\n",
       "    </tr>\n",
       "    <tr>\n",
       "      <th>3</th>\n",
       "      <td>1000_413</td>\n",
       "      <td>1000</td>\n",
       "      <td>2018-12-26</td>\n",
       "      <td>270.99</td>\n",
       "    </tr>\n",
       "    <tr>\n",
       "      <th>4</th>\n",
       "      <td>1000_442</td>\n",
       "      <td>1000</td>\n",
       "      <td>2018-12-27</td>\n",
       "      <td>880.22</td>\n",
       "    </tr>\n",
       "  </tbody>\n",
       "</table>\n",
       "</div>"
      ],
      "text/plain": [
       "         id  user_id session_date  mb_used\n",
       "0   1000_13     1000   2018-12-29    89.86\n",
       "1  1000_204     1000   2018-12-31     0.00\n",
       "2  1000_379     1000   2018-12-28   660.40\n",
       "3  1000_413     1000   2018-12-26   270.99\n",
       "4  1000_442     1000   2018-12-27   880.22"
      ]
     },
     "execution_count": 26,
     "metadata": {},
     "output_type": "execute_result"
    }
   ],
   "source": [
    "internet_df['session_date'] = pd.to_datetime(internet_df['session_date'])\n",
    "internet_df.info()\n",
    "internet_df.head()\n"
   ]
  },
  {
   "cell_type": "markdown",
   "metadata": {
    "id": "e8_mLF4a0q1E"
   },
   "source": [
    "### Enriquecimiento de datos"
   ]
  },
  {
   "cell_type": "markdown",
   "metadata": {
    "id": "xhNdn2tE0q1E"
   },
   "source": [
    "Extraemos el mes de la columna `session_date` para poder analizar el consumo de internet por mes para mejorar nuestro análisis de los datos."
   ]
  },
  {
   "cell_type": "code",
   "execution_count": 27,
   "metadata": {
    "id": "ESiYPIEK0q1E",
    "trusted": true
   },
   "outputs": [
    {
     "data": {
      "text/html": [
       "<div>\n",
       "<style scoped>\n",
       "    .dataframe tbody tr th:only-of-type {\n",
       "        vertical-align: middle;\n",
       "    }\n",
       "\n",
       "    .dataframe tbody tr th {\n",
       "        vertical-align: top;\n",
       "    }\n",
       "\n",
       "    .dataframe thead th {\n",
       "        text-align: right;\n",
       "    }\n",
       "</style>\n",
       "<table border=\"1\" class=\"dataframe\">\n",
       "  <thead>\n",
       "    <tr style=\"text-align: right;\">\n",
       "      <th></th>\n",
       "      <th>id</th>\n",
       "      <th>user_id</th>\n",
       "      <th>session_date</th>\n",
       "      <th>mb_used</th>\n",
       "      <th>month</th>\n",
       "    </tr>\n",
       "  </thead>\n",
       "  <tbody>\n",
       "    <tr>\n",
       "      <th>89802</th>\n",
       "      <td>1414_258</td>\n",
       "      <td>1414</td>\n",
       "      <td>2018-09-09</td>\n",
       "      <td>61.82</td>\n",
       "      <td>9</td>\n",
       "    </tr>\n",
       "    <tr>\n",
       "      <th>43098</th>\n",
       "      <td>1191_277</td>\n",
       "      <td>1191</td>\n",
       "      <td>2018-12-23</td>\n",
       "      <td>310.28</td>\n",
       "      <td>12</td>\n",
       "    </tr>\n",
       "    <tr>\n",
       "      <th>71679</th>\n",
       "      <td>1334_247</td>\n",
       "      <td>1334</td>\n",
       "      <td>2018-06-05</td>\n",
       "      <td>199.40</td>\n",
       "      <td>6</td>\n",
       "    </tr>\n",
       "    <tr>\n",
       "      <th>30776</th>\n",
       "      <td>1141_44</td>\n",
       "      <td>1141</td>\n",
       "      <td>2018-11-11</td>\n",
       "      <td>0.00</td>\n",
       "      <td>11</td>\n",
       "    </tr>\n",
       "    <tr>\n",
       "      <th>9156</th>\n",
       "      <td>1046_441</td>\n",
       "      <td>1046</td>\n",
       "      <td>2018-06-30</td>\n",
       "      <td>554.95</td>\n",
       "      <td>6</td>\n",
       "    </tr>\n",
       "  </tbody>\n",
       "</table>\n",
       "</div>"
      ],
      "text/plain": [
       "             id  user_id session_date  mb_used  month\n",
       "89802  1414_258     1414   2018-09-09    61.82      9\n",
       "43098  1191_277     1191   2018-12-23   310.28     12\n",
       "71679  1334_247     1334   2018-06-05   199.40      6\n",
       "30776   1141_44     1141   2018-11-11     0.00     11\n",
       "9156   1046_441     1046   2018-06-30   554.95      6"
      ]
     },
     "execution_count": 27,
     "metadata": {},
     "output_type": "execute_result"
    }
   ],
   "source": [
    "internet_df['month'] = internet_df['session_date'].dt.month\n",
    "internet_df.sample(5)"
   ]
  },
  {
   "cell_type": "markdown",
   "metadata": {
    "id": "3UA2cqIW0q1E"
   },
   "source": [
    "## Estudiar las condiciones de las tarifas"
   ]
  },
  {
   "cell_type": "markdown",
   "metadata": {
    "id": "T86Sqltq0q1F"
   },
   "source": [
    "Es importante entender cómo funcionan las tarifas, cómo se les cobra a los usuarios en función de su plan de suscripción por loq eu una vez más echaremos un vistazo a plans_df para analizar la información."
   ]
  },
  {
   "cell_type": "code",
   "execution_count": 28,
   "metadata": {
    "id": "i409op8p0q1F",
    "trusted": true
   },
   "outputs": [
    {
     "data": {
      "text/html": [
       "<div>\n",
       "<style scoped>\n",
       "    .dataframe tbody tr th:only-of-type {\n",
       "        vertical-align: middle;\n",
       "    }\n",
       "\n",
       "    .dataframe tbody tr th {\n",
       "        vertical-align: top;\n",
       "    }\n",
       "\n",
       "    .dataframe thead th {\n",
       "        text-align: right;\n",
       "    }\n",
       "</style>\n",
       "<table border=\"1\" class=\"dataframe\">\n",
       "  <thead>\n",
       "    <tr style=\"text-align: right;\">\n",
       "      <th></th>\n",
       "      <th>messages_included</th>\n",
       "      <th>gb_included</th>\n",
       "      <th>minutes_included</th>\n",
       "      <th>usd_monthly_pay</th>\n",
       "      <th>usd_per_gb</th>\n",
       "      <th>usd_per_message</th>\n",
       "      <th>usd_per_minute</th>\n",
       "      <th>plan_name</th>\n",
       "    </tr>\n",
       "  </thead>\n",
       "  <tbody>\n",
       "    <tr>\n",
       "      <th>0</th>\n",
       "      <td>50</td>\n",
       "      <td>15.0</td>\n",
       "      <td>500</td>\n",
       "      <td>20</td>\n",
       "      <td>10</td>\n",
       "      <td>0.03</td>\n",
       "      <td>0.03</td>\n",
       "      <td>surf</td>\n",
       "    </tr>\n",
       "    <tr>\n",
       "      <th>1</th>\n",
       "      <td>1000</td>\n",
       "      <td>30.0</td>\n",
       "      <td>3000</td>\n",
       "      <td>70</td>\n",
       "      <td>7</td>\n",
       "      <td>0.01</td>\n",
       "      <td>0.01</td>\n",
       "      <td>ultimate</td>\n",
       "    </tr>\n",
       "  </tbody>\n",
       "</table>\n",
       "</div>"
      ],
      "text/plain": [
       "   messages_included  gb_included  minutes_included  usd_monthly_pay  \\\n",
       "0                 50         15.0               500               20   \n",
       "1               1000         30.0              3000               70   \n",
       "\n",
       "   usd_per_gb  usd_per_message  usd_per_minute plan_name  \n",
       "0          10             0.03            0.03      surf  \n",
       "1           7             0.01            0.01  ultimate  "
      ]
     },
     "execution_count": 28,
     "metadata": {},
     "output_type": "execute_result"
    }
   ],
   "source": [
    "# Imprime las condiciones de la tarifa y asegúrate de que te quedan claras\n",
    "plans_df"
   ]
  },
  {
   "cell_type": "markdown",
   "metadata": {
    "id": "hMR1tP5d0q1F"
   },
   "source": [
    "## Agregar datos por usuario\n",
    "\n",
    "Con los datos limpios procedemos a agrupar la información por usuario y mes para facilitar el análisis de los datos."
   ]
  },
  {
   "cell_type": "code",
   "execution_count": 29,
   "metadata": {
    "id": "A332cedB0q1G",
    "trusted": true
   },
   "outputs": [
    {
     "data": {
      "text/html": [
       "<div>\n",
       "<style scoped>\n",
       "    .dataframe tbody tr th:only-of-type {\n",
       "        vertical-align: middle;\n",
       "    }\n",
       "\n",
       "    .dataframe tbody tr th {\n",
       "        vertical-align: top;\n",
       "    }\n",
       "\n",
       "    .dataframe thead th {\n",
       "        text-align: right;\n",
       "    }\n",
       "</style>\n",
       "<table border=\"1\" class=\"dataframe\">\n",
       "  <thead>\n",
       "    <tr style=\"text-align: right;\">\n",
       "      <th></th>\n",
       "      <th>user_id</th>\n",
       "      <th>month</th>\n",
       "      <th>calls_per_month</th>\n",
       "    </tr>\n",
       "  </thead>\n",
       "  <tbody>\n",
       "    <tr>\n",
       "      <th>0</th>\n",
       "      <td>1000</td>\n",
       "      <td>12</td>\n",
       "      <td>16</td>\n",
       "    </tr>\n",
       "    <tr>\n",
       "      <th>1</th>\n",
       "      <td>1001</td>\n",
       "      <td>8</td>\n",
       "      <td>27</td>\n",
       "    </tr>\n",
       "    <tr>\n",
       "      <th>2</th>\n",
       "      <td>1001</td>\n",
       "      <td>9</td>\n",
       "      <td>49</td>\n",
       "    </tr>\n",
       "    <tr>\n",
       "      <th>3</th>\n",
       "      <td>1001</td>\n",
       "      <td>10</td>\n",
       "      <td>65</td>\n",
       "    </tr>\n",
       "    <tr>\n",
       "      <th>4</th>\n",
       "      <td>1001</td>\n",
       "      <td>11</td>\n",
       "      <td>64</td>\n",
       "    </tr>\n",
       "  </tbody>\n",
       "</table>\n",
       "</div>"
      ],
      "text/plain": [
       "   user_id  month  calls_per_month\n",
       "0     1000     12               16\n",
       "1     1001      8               27\n",
       "2     1001      9               49\n",
       "3     1001     10               65\n",
       "4     1001     11               64"
      ]
     },
     "execution_count": 29,
     "metadata": {},
     "output_type": "execute_result"
    }
   ],
   "source": [
    "# Calcula el número de llamadas hechas por cada usuario al mes. Guarda el resultado.\n",
    "calls_per_user = calls_df.groupby(['user_id','month'])['id'].count().rename('calls_per_month').reset_index()\n",
    "calls_per_user.head()\n"
   ]
  },
  {
   "cell_type": "code",
   "execution_count": 30,
   "metadata": {
    "id": "aw2cmuql0q1G",
    "trusted": true
   },
   "outputs": [
    {
     "data": {
      "text/html": [
       "<div>\n",
       "<style scoped>\n",
       "    .dataframe tbody tr th:only-of-type {\n",
       "        vertical-align: middle;\n",
       "    }\n",
       "\n",
       "    .dataframe tbody tr th {\n",
       "        vertical-align: top;\n",
       "    }\n",
       "\n",
       "    .dataframe thead th {\n",
       "        text-align: right;\n",
       "    }\n",
       "</style>\n",
       "<table border=\"1\" class=\"dataframe\">\n",
       "  <thead>\n",
       "    <tr style=\"text-align: right;\">\n",
       "      <th></th>\n",
       "      <th>user_id</th>\n",
       "      <th>month</th>\n",
       "      <th>min_per_month</th>\n",
       "    </tr>\n",
       "  </thead>\n",
       "  <tbody>\n",
       "    <tr>\n",
       "      <th>0</th>\n",
       "      <td>1000</td>\n",
       "      <td>12</td>\n",
       "      <td>116.83</td>\n",
       "    </tr>\n",
       "    <tr>\n",
       "      <th>1</th>\n",
       "      <td>1001</td>\n",
       "      <td>8</td>\n",
       "      <td>171.14</td>\n",
       "    </tr>\n",
       "    <tr>\n",
       "      <th>2</th>\n",
       "      <td>1001</td>\n",
       "      <td>9</td>\n",
       "      <td>297.69</td>\n",
       "    </tr>\n",
       "    <tr>\n",
       "      <th>3</th>\n",
       "      <td>1001</td>\n",
       "      <td>10</td>\n",
       "      <td>374.11</td>\n",
       "    </tr>\n",
       "    <tr>\n",
       "      <th>4</th>\n",
       "      <td>1001</td>\n",
       "      <td>11</td>\n",
       "      <td>404.59</td>\n",
       "    </tr>\n",
       "  </tbody>\n",
       "</table>\n",
       "</div>"
      ],
      "text/plain": [
       "   user_id  month  min_per_month\n",
       "0     1000     12         116.83\n",
       "1     1001      8         171.14\n",
       "2     1001      9         297.69\n",
       "3     1001     10         374.11\n",
       "4     1001     11         404.59"
      ]
     },
     "execution_count": 30,
     "metadata": {},
     "output_type": "execute_result"
    }
   ],
   "source": [
    "# Calcula la cantidad de minutos usados por cada usuario al mes. Guarda el resultado.\n",
    "min_per_user = calls_df.groupby(['user_id','month'])['duration'].sum().rename('min_per_month').reset_index()\n",
    "min_per_user.head()\n"
   ]
  },
  {
   "cell_type": "markdown",
   "metadata": {},
   "source": [
    "Realizamos el redondeo de los minutos para facilitar el análisis de los datos."
   ]
  },
  {
   "cell_type": "code",
   "execution_count": 31,
   "metadata": {
    "trusted": true
   },
   "outputs": [
    {
     "data": {
      "text/html": [
       "<div>\n",
       "<style scoped>\n",
       "    .dataframe tbody tr th:only-of-type {\n",
       "        vertical-align: middle;\n",
       "    }\n",
       "\n",
       "    .dataframe tbody tr th {\n",
       "        vertical-align: top;\n",
       "    }\n",
       "\n",
       "    .dataframe thead th {\n",
       "        text-align: right;\n",
       "    }\n",
       "</style>\n",
       "<table border=\"1\" class=\"dataframe\">\n",
       "  <thead>\n",
       "    <tr style=\"text-align: right;\">\n",
       "      <th></th>\n",
       "      <th>user_id</th>\n",
       "      <th>month</th>\n",
       "      <th>min_per_month</th>\n",
       "    </tr>\n",
       "  </thead>\n",
       "  <tbody>\n",
       "    <tr>\n",
       "      <th>0</th>\n",
       "      <td>1000</td>\n",
       "      <td>12</td>\n",
       "      <td>117.0</td>\n",
       "    </tr>\n",
       "    <tr>\n",
       "      <th>1</th>\n",
       "      <td>1001</td>\n",
       "      <td>8</td>\n",
       "      <td>172.0</td>\n",
       "    </tr>\n",
       "    <tr>\n",
       "      <th>2</th>\n",
       "      <td>1001</td>\n",
       "      <td>9</td>\n",
       "      <td>298.0</td>\n",
       "    </tr>\n",
       "    <tr>\n",
       "      <th>3</th>\n",
       "      <td>1001</td>\n",
       "      <td>10</td>\n",
       "      <td>375.0</td>\n",
       "    </tr>\n",
       "    <tr>\n",
       "      <th>4</th>\n",
       "      <td>1001</td>\n",
       "      <td>11</td>\n",
       "      <td>405.0</td>\n",
       "    </tr>\n",
       "  </tbody>\n",
       "</table>\n",
       "</div>"
      ],
      "text/plain": [
       "   user_id  month  min_per_month\n",
       "0     1000     12          117.0\n",
       "1     1001      8          172.0\n",
       "2     1001      9          298.0\n",
       "3     1001     10          375.0\n",
       "4     1001     11          405.0"
      ]
     },
     "execution_count": 31,
     "metadata": {},
     "output_type": "execute_result"
    }
   ],
   "source": [
    "min_per_user['min_per_month'] = np.ceil(min_per_user['min_per_month'])\n",
    "min_per_user.head()"
   ]
  },
  {
   "cell_type": "code",
   "execution_count": 32,
   "metadata": {
    "id": "CcQvNHn60q1G",
    "trusted": true
   },
   "outputs": [
    {
     "data": {
      "text/html": [
       "<div>\n",
       "<style scoped>\n",
       "    .dataframe tbody tr th:only-of-type {\n",
       "        vertical-align: middle;\n",
       "    }\n",
       "\n",
       "    .dataframe tbody tr th {\n",
       "        vertical-align: top;\n",
       "    }\n",
       "\n",
       "    .dataframe thead th {\n",
       "        text-align: right;\n",
       "    }\n",
       "</style>\n",
       "<table border=\"1\" class=\"dataframe\">\n",
       "  <thead>\n",
       "    <tr style=\"text-align: right;\">\n",
       "      <th></th>\n",
       "      <th>user_id</th>\n",
       "      <th>month</th>\n",
       "      <th>messages_per_month</th>\n",
       "    </tr>\n",
       "  </thead>\n",
       "  <tbody>\n",
       "    <tr>\n",
       "      <th>0</th>\n",
       "      <td>1000</td>\n",
       "      <td>12</td>\n",
       "      <td>11</td>\n",
       "    </tr>\n",
       "    <tr>\n",
       "      <th>1</th>\n",
       "      <td>1001</td>\n",
       "      <td>8</td>\n",
       "      <td>30</td>\n",
       "    </tr>\n",
       "    <tr>\n",
       "      <th>2</th>\n",
       "      <td>1001</td>\n",
       "      <td>9</td>\n",
       "      <td>44</td>\n",
       "    </tr>\n",
       "    <tr>\n",
       "      <th>3</th>\n",
       "      <td>1001</td>\n",
       "      <td>10</td>\n",
       "      <td>53</td>\n",
       "    </tr>\n",
       "    <tr>\n",
       "      <th>4</th>\n",
       "      <td>1001</td>\n",
       "      <td>11</td>\n",
       "      <td>36</td>\n",
       "    </tr>\n",
       "  </tbody>\n",
       "</table>\n",
       "</div>"
      ],
      "text/plain": [
       "   user_id  month  messages_per_month\n",
       "0     1000     12                  11\n",
       "1     1001      8                  30\n",
       "2     1001      9                  44\n",
       "3     1001     10                  53\n",
       "4     1001     11                  36"
      ]
     },
     "execution_count": 32,
     "metadata": {},
     "output_type": "execute_result"
    }
   ],
   "source": [
    "# Calcula el número de mensajes enviados por cada usuario al mes. Guarda el resultado.\n",
    "messages_per_user = messages_df.groupby(['user_id','month'])['id'].count().rename('messages_per_month').reset_index()\n",
    "messages_per_user.head()\n"
   ]
  },
  {
   "cell_type": "code",
   "execution_count": 33,
   "metadata": {
    "id": "H1AqN2eG0q1H",
    "trusted": true
   },
   "outputs": [
    {
     "data": {
      "text/html": [
       "<div>\n",
       "<style scoped>\n",
       "    .dataframe tbody tr th:only-of-type {\n",
       "        vertical-align: middle;\n",
       "    }\n",
       "\n",
       "    .dataframe tbody tr th {\n",
       "        vertical-align: top;\n",
       "    }\n",
       "\n",
       "    .dataframe thead th {\n",
       "        text-align: right;\n",
       "    }\n",
       "</style>\n",
       "<table border=\"1\" class=\"dataframe\">\n",
       "  <thead>\n",
       "    <tr style=\"text-align: right;\">\n",
       "      <th></th>\n",
       "      <th>user_id</th>\n",
       "      <th>month</th>\n",
       "      <th>mb_per_month</th>\n",
       "    </tr>\n",
       "  </thead>\n",
       "  <tbody>\n",
       "    <tr>\n",
       "      <th>0</th>\n",
       "      <td>1000</td>\n",
       "      <td>12</td>\n",
       "      <td>1901.47</td>\n",
       "    </tr>\n",
       "    <tr>\n",
       "      <th>1</th>\n",
       "      <td>1001</td>\n",
       "      <td>8</td>\n",
       "      <td>6919.15</td>\n",
       "    </tr>\n",
       "    <tr>\n",
       "      <th>2</th>\n",
       "      <td>1001</td>\n",
       "      <td>9</td>\n",
       "      <td>13314.82</td>\n",
       "    </tr>\n",
       "    <tr>\n",
       "      <th>3</th>\n",
       "      <td>1001</td>\n",
       "      <td>10</td>\n",
       "      <td>22330.49</td>\n",
       "    </tr>\n",
       "    <tr>\n",
       "      <th>4</th>\n",
       "      <td>1001</td>\n",
       "      <td>11</td>\n",
       "      <td>18504.30</td>\n",
       "    </tr>\n",
       "  </tbody>\n",
       "</table>\n",
       "</div>"
      ],
      "text/plain": [
       "   user_id  month  mb_per_month\n",
       "0     1000     12       1901.47\n",
       "1     1001      8       6919.15\n",
       "2     1001      9      13314.82\n",
       "3     1001     10      22330.49\n",
       "4     1001     11      18504.30"
      ]
     },
     "execution_count": 33,
     "metadata": {},
     "output_type": "execute_result"
    }
   ],
   "source": [
    "# Calcula el volumen del tráfico de Internet usado por cada usuario al mes. Guarda el resultado.\n",
    "mb_per_user = internet_df.groupby(['user_id','month'])['mb_used'].sum().rename('mb_per_month').reset_index()\n",
    "mb_per_user.head()\n"
   ]
  },
  {
   "cell_type": "code",
   "execution_count": 34,
   "metadata": {
    "trusted": true
   },
   "outputs": [
    {
     "data": {
      "text/html": [
       "<div>\n",
       "<style scoped>\n",
       "    .dataframe tbody tr th:only-of-type {\n",
       "        vertical-align: middle;\n",
       "    }\n",
       "\n",
       "    .dataframe tbody tr th {\n",
       "        vertical-align: top;\n",
       "    }\n",
       "\n",
       "    .dataframe thead th {\n",
       "        text-align: right;\n",
       "    }\n",
       "</style>\n",
       "<table border=\"1\" class=\"dataframe\">\n",
       "  <thead>\n",
       "    <tr style=\"text-align: right;\">\n",
       "      <th></th>\n",
       "      <th>user_id</th>\n",
       "      <th>month</th>\n",
       "      <th>mb_per_month</th>\n",
       "    </tr>\n",
       "  </thead>\n",
       "  <tbody>\n",
       "    <tr>\n",
       "      <th>0</th>\n",
       "      <td>1000</td>\n",
       "      <td>12</td>\n",
       "      <td>1902.0</td>\n",
       "    </tr>\n",
       "    <tr>\n",
       "      <th>1</th>\n",
       "      <td>1001</td>\n",
       "      <td>8</td>\n",
       "      <td>6920.0</td>\n",
       "    </tr>\n",
       "    <tr>\n",
       "      <th>2</th>\n",
       "      <td>1001</td>\n",
       "      <td>9</td>\n",
       "      <td>13315.0</td>\n",
       "    </tr>\n",
       "    <tr>\n",
       "      <th>3</th>\n",
       "      <td>1001</td>\n",
       "      <td>10</td>\n",
       "      <td>22331.0</td>\n",
       "    </tr>\n",
       "    <tr>\n",
       "      <th>4</th>\n",
       "      <td>1001</td>\n",
       "      <td>11</td>\n",
       "      <td>18505.0</td>\n",
       "    </tr>\n",
       "  </tbody>\n",
       "</table>\n",
       "</div>"
      ],
      "text/plain": [
       "   user_id  month  mb_per_month\n",
       "0     1000     12        1902.0\n",
       "1     1001      8        6920.0\n",
       "2     1001      9       13315.0\n",
       "3     1001     10       22331.0\n",
       "4     1001     11       18505.0"
      ]
     },
     "execution_count": 34,
     "metadata": {},
     "output_type": "execute_result"
    }
   ],
   "source": [
    "mb_per_user['mb_per_month'] = np.ceil(mb_per_user['mb_per_month'])\n",
    "mb_per_user.head()\n"
   ]
  },
  {
   "cell_type": "markdown",
   "metadata": {},
   "source": [
    "Convertimos los mb a gb ya que la comparación con los datos incluidos esta en gb."
   ]
  },
  {
   "cell_type": "code",
   "execution_count": 35,
   "metadata": {
    "trusted": true
   },
   "outputs": [
    {
     "data": {
      "text/html": [
       "<div>\n",
       "<style scoped>\n",
       "    .dataframe tbody tr th:only-of-type {\n",
       "        vertical-align: middle;\n",
       "    }\n",
       "\n",
       "    .dataframe tbody tr th {\n",
       "        vertical-align: top;\n",
       "    }\n",
       "\n",
       "    .dataframe thead th {\n",
       "        text-align: right;\n",
       "    }\n",
       "</style>\n",
       "<table border=\"1\" class=\"dataframe\">\n",
       "  <thead>\n",
       "    <tr style=\"text-align: right;\">\n",
       "      <th></th>\n",
       "      <th>user_id</th>\n",
       "      <th>month</th>\n",
       "      <th>gb_per_month</th>\n",
       "    </tr>\n",
       "  </thead>\n",
       "  <tbody>\n",
       "    <tr>\n",
       "      <th>0</th>\n",
       "      <td>1000</td>\n",
       "      <td>12</td>\n",
       "      <td>1.857422</td>\n",
       "    </tr>\n",
       "    <tr>\n",
       "      <th>1</th>\n",
       "      <td>1001</td>\n",
       "      <td>8</td>\n",
       "      <td>6.757812</td>\n",
       "    </tr>\n",
       "    <tr>\n",
       "      <th>2</th>\n",
       "      <td>1001</td>\n",
       "      <td>9</td>\n",
       "      <td>13.002930</td>\n",
       "    </tr>\n",
       "    <tr>\n",
       "      <th>3</th>\n",
       "      <td>1001</td>\n",
       "      <td>10</td>\n",
       "      <td>21.807617</td>\n",
       "    </tr>\n",
       "    <tr>\n",
       "      <th>4</th>\n",
       "      <td>1001</td>\n",
       "      <td>11</td>\n",
       "      <td>18.071289</td>\n",
       "    </tr>\n",
       "  </tbody>\n",
       "</table>\n",
       "</div>"
      ],
      "text/plain": [
       "   user_id  month  gb_per_month\n",
       "0     1000     12      1.857422\n",
       "1     1001      8      6.757812\n",
       "2     1001      9     13.002930\n",
       "3     1001     10     21.807617\n",
       "4     1001     11     18.071289"
      ]
     },
     "execution_count": 35,
     "metadata": {},
     "output_type": "execute_result"
    }
   ],
   "source": [
    "mb_per_user['mb_per_month'] = mb_per_user['mb_per_month'] / 1024\n",
    "mb_per_user = mb_per_user.rename(columns={'mb_per_month':'gb_per_month'})\n",
    "mb_per_user.head()"
   ]
  },
  {
   "cell_type": "markdown",
   "metadata": {},
   "source": [
    "Redondeamos los gb para un mejor análisis de los datos."
   ]
  },
  {
   "cell_type": "code",
   "execution_count": 36,
   "metadata": {
    "trusted": true
   },
   "outputs": [],
   "source": [
    "mb_per_user['gb_per_month'] = np.ceil(mb_per_user['gb_per_month'])\n"
   ]
  },
  {
   "cell_type": "code",
   "execution_count": 37,
   "metadata": {
    "trusted": true
   },
   "outputs": [
    {
     "data": {
      "text/html": [
       "<div>\n",
       "<style scoped>\n",
       "    .dataframe tbody tr th:only-of-type {\n",
       "        vertical-align: middle;\n",
       "    }\n",
       "\n",
       "    .dataframe tbody tr th {\n",
       "        vertical-align: top;\n",
       "    }\n",
       "\n",
       "    .dataframe thead th {\n",
       "        text-align: right;\n",
       "    }\n",
       "</style>\n",
       "<table border=\"1\" class=\"dataframe\">\n",
       "  <thead>\n",
       "    <tr style=\"text-align: right;\">\n",
       "      <th></th>\n",
       "      <th>user_id</th>\n",
       "      <th>month</th>\n",
       "      <th>gb_per_month</th>\n",
       "    </tr>\n",
       "  </thead>\n",
       "  <tbody>\n",
       "    <tr>\n",
       "      <th>0</th>\n",
       "      <td>1000</td>\n",
       "      <td>12</td>\n",
       "      <td>2.0</td>\n",
       "    </tr>\n",
       "    <tr>\n",
       "      <th>1</th>\n",
       "      <td>1001</td>\n",
       "      <td>8</td>\n",
       "      <td>7.0</td>\n",
       "    </tr>\n",
       "    <tr>\n",
       "      <th>2</th>\n",
       "      <td>1001</td>\n",
       "      <td>9</td>\n",
       "      <td>14.0</td>\n",
       "    </tr>\n",
       "    <tr>\n",
       "      <th>3</th>\n",
       "      <td>1001</td>\n",
       "      <td>10</td>\n",
       "      <td>22.0</td>\n",
       "    </tr>\n",
       "    <tr>\n",
       "      <th>4</th>\n",
       "      <td>1001</td>\n",
       "      <td>11</td>\n",
       "      <td>19.0</td>\n",
       "    </tr>\n",
       "  </tbody>\n",
       "</table>\n",
       "</div>"
      ],
      "text/plain": [
       "   user_id  month  gb_per_month\n",
       "0     1000     12           2.0\n",
       "1     1001      8           7.0\n",
       "2     1001      9          14.0\n",
       "3     1001     10          22.0\n",
       "4     1001     11          19.0"
      ]
     },
     "execution_count": 37,
     "metadata": {},
     "output_type": "execute_result"
    }
   ],
   "source": [
    "mb_per_user.head()\n"
   ]
  },
  {
   "cell_type": "markdown",
   "metadata": {
    "id": "VDfYXnj80q1H"
   },
   "source": [
    "Una vez agrupados los datos, procedemos a unir todos los dataframes en uno solo para facilitar nuestro análisis."
   ]
  },
  {
   "cell_type": "code",
   "execution_count": 38,
   "metadata": {
    "id": "FW99ykyf0q1H",
    "trusted": true
   },
   "outputs": [
    {
     "data": {
      "text/html": [
       "<div>\n",
       "<style scoped>\n",
       "    .dataframe tbody tr th:only-of-type {\n",
       "        vertical-align: middle;\n",
       "    }\n",
       "\n",
       "    .dataframe tbody tr th {\n",
       "        vertical-align: top;\n",
       "    }\n",
       "\n",
       "    .dataframe thead th {\n",
       "        text-align: right;\n",
       "    }\n",
       "</style>\n",
       "<table border=\"1\" class=\"dataframe\">\n",
       "  <thead>\n",
       "    <tr style=\"text-align: right;\">\n",
       "      <th></th>\n",
       "      <th>user_id</th>\n",
       "      <th>month</th>\n",
       "      <th>min_per_month</th>\n",
       "      <th>messages_per_month</th>\n",
       "      <th>gb_per_month</th>\n",
       "    </tr>\n",
       "  </thead>\n",
       "  <tbody>\n",
       "    <tr>\n",
       "      <th>0</th>\n",
       "      <td>1000</td>\n",
       "      <td>12</td>\n",
       "      <td>117.0</td>\n",
       "      <td>11.0</td>\n",
       "      <td>2.0</td>\n",
       "    </tr>\n",
       "    <tr>\n",
       "      <th>1</th>\n",
       "      <td>1001</td>\n",
       "      <td>8</td>\n",
       "      <td>172.0</td>\n",
       "      <td>30.0</td>\n",
       "      <td>7.0</td>\n",
       "    </tr>\n",
       "    <tr>\n",
       "      <th>2</th>\n",
       "      <td>1001</td>\n",
       "      <td>9</td>\n",
       "      <td>298.0</td>\n",
       "      <td>44.0</td>\n",
       "      <td>14.0</td>\n",
       "    </tr>\n",
       "    <tr>\n",
       "      <th>3</th>\n",
       "      <td>1001</td>\n",
       "      <td>10</td>\n",
       "      <td>375.0</td>\n",
       "      <td>53.0</td>\n",
       "      <td>22.0</td>\n",
       "    </tr>\n",
       "    <tr>\n",
       "      <th>4</th>\n",
       "      <td>1001</td>\n",
       "      <td>11</td>\n",
       "      <td>405.0</td>\n",
       "      <td>36.0</td>\n",
       "      <td>19.0</td>\n",
       "    </tr>\n",
       "  </tbody>\n",
       "</table>\n",
       "</div>"
      ],
      "text/plain": [
       "   user_id  month  min_per_month  messages_per_month  gb_per_month\n",
       "0     1000     12          117.0                11.0           2.0\n",
       "1     1001      8          172.0                30.0           7.0\n",
       "2     1001      9          298.0                44.0          14.0\n",
       "3     1001     10          375.0                53.0          22.0\n",
       "4     1001     11          405.0                36.0          19.0"
      ]
     },
     "execution_count": 38,
     "metadata": {},
     "output_type": "execute_result"
    }
   ],
   "source": [
    "# Fusiona los datos de llamadas, minutos, mensajes e Internet con base en user_id y month\n",
    "user_monthly_revenue = min_per_user.merge(messages_per_user,on=['user_id','month'],how='outer')\n",
    "user_monthly_revenue = user_monthly_revenue.merge(mb_per_user,on=['user_id','month'],how='outer')\n",
    "user_monthly_revenue.head()\n"
   ]
  },
  {
   "cell_type": "code",
   "execution_count": 39,
   "metadata": {
    "trusted": true
   },
   "outputs": [
    {
     "data": {
      "text/html": [
       "<div>\n",
       "<style scoped>\n",
       "    .dataframe tbody tr th:only-of-type {\n",
       "        vertical-align: middle;\n",
       "    }\n",
       "\n",
       "    .dataframe tbody tr th {\n",
       "        vertical-align: top;\n",
       "    }\n",
       "\n",
       "    .dataframe thead th {\n",
       "        text-align: right;\n",
       "    }\n",
       "</style>\n",
       "<table border=\"1\" class=\"dataframe\">\n",
       "  <thead>\n",
       "    <tr style=\"text-align: right;\">\n",
       "      <th></th>\n",
       "      <th>user_id</th>\n",
       "      <th>month</th>\n",
       "      <th>min_per_month</th>\n",
       "      <th>messages_per_month</th>\n",
       "      <th>gb_per_month</th>\n",
       "      <th>plan_name</th>\n",
       "      <th>city</th>\n",
       "    </tr>\n",
       "  </thead>\n",
       "  <tbody>\n",
       "    <tr>\n",
       "      <th>0</th>\n",
       "      <td>1000</td>\n",
       "      <td>12.0</td>\n",
       "      <td>117.0</td>\n",
       "      <td>11.0</td>\n",
       "      <td>2.0</td>\n",
       "      <td>ultimate</td>\n",
       "      <td>Atlanta-Sandy Springs-Roswell, GA MSA</td>\n",
       "    </tr>\n",
       "    <tr>\n",
       "      <th>1</th>\n",
       "      <td>1001</td>\n",
       "      <td>8.0</td>\n",
       "      <td>172.0</td>\n",
       "      <td>30.0</td>\n",
       "      <td>7.0</td>\n",
       "      <td>surf</td>\n",
       "      <td>Seattle-Tacoma-Bellevue, WA MSA</td>\n",
       "    </tr>\n",
       "    <tr>\n",
       "      <th>2</th>\n",
       "      <td>1001</td>\n",
       "      <td>9.0</td>\n",
       "      <td>298.0</td>\n",
       "      <td>44.0</td>\n",
       "      <td>14.0</td>\n",
       "      <td>surf</td>\n",
       "      <td>Seattle-Tacoma-Bellevue, WA MSA</td>\n",
       "    </tr>\n",
       "    <tr>\n",
       "      <th>3</th>\n",
       "      <td>1001</td>\n",
       "      <td>10.0</td>\n",
       "      <td>375.0</td>\n",
       "      <td>53.0</td>\n",
       "      <td>22.0</td>\n",
       "      <td>surf</td>\n",
       "      <td>Seattle-Tacoma-Bellevue, WA MSA</td>\n",
       "    </tr>\n",
       "    <tr>\n",
       "      <th>4</th>\n",
       "      <td>1001</td>\n",
       "      <td>11.0</td>\n",
       "      <td>405.0</td>\n",
       "      <td>36.0</td>\n",
       "      <td>19.0</td>\n",
       "      <td>surf</td>\n",
       "      <td>Seattle-Tacoma-Bellevue, WA MSA</td>\n",
       "    </tr>\n",
       "  </tbody>\n",
       "</table>\n",
       "</div>"
      ],
      "text/plain": [
       "   user_id  month  min_per_month  messages_per_month  gb_per_month plan_name  \\\n",
       "0     1000   12.0          117.0                11.0           2.0  ultimate   \n",
       "1     1001    8.0          172.0                30.0           7.0      surf   \n",
       "2     1001    9.0          298.0                44.0          14.0      surf   \n",
       "3     1001   10.0          375.0                53.0          22.0      surf   \n",
       "4     1001   11.0          405.0                36.0          19.0      surf   \n",
       "\n",
       "                                    city  \n",
       "0  Atlanta-Sandy Springs-Roswell, GA MSA  \n",
       "1        Seattle-Tacoma-Bellevue, WA MSA  \n",
       "2        Seattle-Tacoma-Bellevue, WA MSA  \n",
       "3        Seattle-Tacoma-Bellevue, WA MSA  \n",
       "4        Seattle-Tacoma-Bellevue, WA MSA  "
      ]
     },
     "execution_count": 39,
     "metadata": {},
     "output_type": "execute_result"
    }
   ],
   "source": [
    "# Añade la información de la tarifa\n",
    "users_plans = users_df[['user_id','plan_name','city']]\n",
    "user_monthly_revenue = user_monthly_revenue.merge(users_plans,on=['user_id'],how='outer')\n",
    "user_monthly_revenue.head()\n"
   ]
  },
  {
   "cell_type": "code",
   "execution_count": 40,
   "metadata": {
    "scrolled": true,
    "trusted": true
   },
   "outputs": [
    {
     "data": {
      "text/html": [
       "<div>\n",
       "<style scoped>\n",
       "    .dataframe tbody tr th:only-of-type {\n",
       "        vertical-align: middle;\n",
       "    }\n",
       "\n",
       "    .dataframe tbody tr th {\n",
       "        vertical-align: top;\n",
       "    }\n",
       "\n",
       "    .dataframe thead th {\n",
       "        text-align: right;\n",
       "    }\n",
       "</style>\n",
       "<table border=\"1\" class=\"dataframe\">\n",
       "  <thead>\n",
       "    <tr style=\"text-align: right;\">\n",
       "      <th></th>\n",
       "      <th>user_id</th>\n",
       "      <th>month</th>\n",
       "      <th>min_per_month</th>\n",
       "      <th>messages_per_month</th>\n",
       "      <th>gb_per_month</th>\n",
       "      <th>plan_name</th>\n",
       "      <th>city</th>\n",
       "      <th>messages_included</th>\n",
       "      <th>gb_included</th>\n",
       "      <th>minutes_included</th>\n",
       "      <th>usd_monthly_pay</th>\n",
       "      <th>usd_per_gb</th>\n",
       "      <th>usd_per_message</th>\n",
       "      <th>usd_per_minute</th>\n",
       "    </tr>\n",
       "  </thead>\n",
       "  <tbody>\n",
       "    <tr>\n",
       "      <th>1430</th>\n",
       "      <td>1439</td>\n",
       "      <td>10.0</td>\n",
       "      <td>295.0</td>\n",
       "      <td>77.0</td>\n",
       "      <td>18.0</td>\n",
       "      <td>surf</td>\n",
       "      <td>Riverside-San Bernardino-Ontario, CA MSA</td>\n",
       "      <td>50</td>\n",
       "      <td>15.0</td>\n",
       "      <td>500</td>\n",
       "      <td>20</td>\n",
       "      <td>10</td>\n",
       "      <td>0.03</td>\n",
       "      <td>0.03</td>\n",
       "    </tr>\n",
       "    <tr>\n",
       "      <th>739</th>\n",
       "      <td>1223</td>\n",
       "      <td>8.0</td>\n",
       "      <td>704.0</td>\n",
       "      <td>22.0</td>\n",
       "      <td>20.0</td>\n",
       "      <td>surf</td>\n",
       "      <td>Phoenix-Mesa-Chandler, AZ MSA</td>\n",
       "      <td>50</td>\n",
       "      <td>15.0</td>\n",
       "      <td>500</td>\n",
       "      <td>20</td>\n",
       "      <td>10</td>\n",
       "      <td>0.03</td>\n",
       "      <td>0.03</td>\n",
       "    </tr>\n",
       "    <tr>\n",
       "      <th>1882</th>\n",
       "      <td>1202</td>\n",
       "      <td>11.0</td>\n",
       "      <td>477.0</td>\n",
       "      <td>NaN</td>\n",
       "      <td>12.0</td>\n",
       "      <td>ultimate</td>\n",
       "      <td>Minneapolis-St. Paul-Bloomington, MN-WI MSA</td>\n",
       "      <td>1000</td>\n",
       "      <td>30.0</td>\n",
       "      <td>3000</td>\n",
       "      <td>70</td>\n",
       "      <td>7</td>\n",
       "      <td>0.01</td>\n",
       "      <td>0.01</td>\n",
       "    </tr>\n",
       "    <tr>\n",
       "      <th>1375</th>\n",
       "      <td>1414</td>\n",
       "      <td>12.0</td>\n",
       "      <td>428.0</td>\n",
       "      <td>54.0</td>\n",
       "      <td>30.0</td>\n",
       "      <td>surf</td>\n",
       "      <td>Urban Honolulu, HI MSA</td>\n",
       "      <td>50</td>\n",
       "      <td>15.0</td>\n",
       "      <td>500</td>\n",
       "      <td>20</td>\n",
       "      <td>10</td>\n",
       "      <td>0.03</td>\n",
       "      <td>0.03</td>\n",
       "    </tr>\n",
       "    <tr>\n",
       "      <th>1952</th>\n",
       "      <td>1247</td>\n",
       "      <td>11.0</td>\n",
       "      <td>558.0</td>\n",
       "      <td>121.0</td>\n",
       "      <td>18.0</td>\n",
       "      <td>ultimate</td>\n",
       "      <td>Los Angeles-Long Beach-Anaheim, CA MSA</td>\n",
       "      <td>1000</td>\n",
       "      <td>30.0</td>\n",
       "      <td>3000</td>\n",
       "      <td>70</td>\n",
       "      <td>7</td>\n",
       "      <td>0.01</td>\n",
       "      <td>0.01</td>\n",
       "    </tr>\n",
       "  </tbody>\n",
       "</table>\n",
       "</div>"
      ],
      "text/plain": [
       "      user_id  month  min_per_month  messages_per_month  gb_per_month  \\\n",
       "1430     1439   10.0          295.0                77.0          18.0   \n",
       "739      1223    8.0          704.0                22.0          20.0   \n",
       "1882     1202   11.0          477.0                 NaN          12.0   \n",
       "1375     1414   12.0          428.0                54.0          30.0   \n",
       "1952     1247   11.0          558.0               121.0          18.0   \n",
       "\n",
       "     plan_name                                         city  \\\n",
       "1430      surf     Riverside-San Bernardino-Ontario, CA MSA   \n",
       "739       surf                Phoenix-Mesa-Chandler, AZ MSA   \n",
       "1882  ultimate  Minneapolis-St. Paul-Bloomington, MN-WI MSA   \n",
       "1375      surf                       Urban Honolulu, HI MSA   \n",
       "1952  ultimate       Los Angeles-Long Beach-Anaheim, CA MSA   \n",
       "\n",
       "      messages_included  gb_included  minutes_included  usd_monthly_pay  \\\n",
       "1430                 50         15.0               500               20   \n",
       "739                  50         15.0               500               20   \n",
       "1882               1000         30.0              3000               70   \n",
       "1375                 50         15.0               500               20   \n",
       "1952               1000         30.0              3000               70   \n",
       "\n",
       "      usd_per_gb  usd_per_message  usd_per_minute  \n",
       "1430          10             0.03            0.03  \n",
       "739           10             0.03            0.03  \n",
       "1882           7             0.01            0.01  \n",
       "1375          10             0.03            0.03  \n",
       "1952           7             0.01            0.01  "
      ]
     },
     "execution_count": 40,
     "metadata": {},
     "output_type": "execute_result"
    }
   ],
   "source": [
    "user_monthly_revenue = user_monthly_revenue.merge(plans_df,on=['plan_name'],how='outer')\n",
    "user_monthly_revenue.sample(5)\n"
   ]
  },
  {
   "cell_type": "code",
   "execution_count": 41,
   "metadata": {
    "trusted": true
   },
   "outputs": [
    {
     "data": {
      "text/html": [
       "<div>\n",
       "<style scoped>\n",
       "    .dataframe tbody tr th:only-of-type {\n",
       "        vertical-align: middle;\n",
       "    }\n",
       "\n",
       "    .dataframe tbody tr th {\n",
       "        vertical-align: top;\n",
       "    }\n",
       "\n",
       "    .dataframe thead th {\n",
       "        text-align: right;\n",
       "    }\n",
       "</style>\n",
       "<table border=\"1\" class=\"dataframe\">\n",
       "  <thead>\n",
       "    <tr style=\"text-align: right;\">\n",
       "      <th></th>\n",
       "      <th>user_id</th>\n",
       "      <th>month</th>\n",
       "      <th>min_per_month</th>\n",
       "      <th>messages_per_month</th>\n",
       "      <th>gb_per_month</th>\n",
       "      <th>plan_name</th>\n",
       "      <th>city</th>\n",
       "      <th>messages_included</th>\n",
       "      <th>gb_included</th>\n",
       "      <th>minutes_included</th>\n",
       "      <th>usd_monthly_pay</th>\n",
       "      <th>usd_per_gb</th>\n",
       "      <th>usd_per_message</th>\n",
       "      <th>usd_per_minute</th>\n",
       "    </tr>\n",
       "  </thead>\n",
       "  <tbody>\n",
       "    <tr>\n",
       "      <th>836</th>\n",
       "      <td>1259</td>\n",
       "      <td>3.0</td>\n",
       "      <td>154.0</td>\n",
       "      <td>17.0</td>\n",
       "      <td>2.0</td>\n",
       "      <td>surf</td>\n",
       "      <td>Philadelphia-Camden-Wilmington, PA-NJ-DE-MD MSA</td>\n",
       "      <td>50</td>\n",
       "      <td>15.0</td>\n",
       "      <td>500</td>\n",
       "      <td>20</td>\n",
       "      <td>10</td>\n",
       "      <td>0.03</td>\n",
       "      <td>0.03</td>\n",
       "    </tr>\n",
       "    <tr>\n",
       "      <th>402</th>\n",
       "      <td>1122</td>\n",
       "      <td>8.0</td>\n",
       "      <td>473.0</td>\n",
       "      <td>22.0</td>\n",
       "      <td>29.0</td>\n",
       "      <td>surf</td>\n",
       "      <td>Miami-Fort Lauderdale-West Palm Beach, FL MSA</td>\n",
       "      <td>50</td>\n",
       "      <td>15.0</td>\n",
       "      <td>500</td>\n",
       "      <td>20</td>\n",
       "      <td>10</td>\n",
       "      <td>0.03</td>\n",
       "      <td>0.03</td>\n",
       "    </tr>\n",
       "    <tr>\n",
       "      <th>799</th>\n",
       "      <td>1251</td>\n",
       "      <td>7.0</td>\n",
       "      <td>549.0</td>\n",
       "      <td>39.0</td>\n",
       "      <td>23.0</td>\n",
       "      <td>surf</td>\n",
       "      <td>New York-Newark-Jersey City, NY-NJ-PA MSA</td>\n",
       "      <td>50</td>\n",
       "      <td>15.0</td>\n",
       "      <td>500</td>\n",
       "      <td>20</td>\n",
       "      <td>10</td>\n",
       "      <td>0.03</td>\n",
       "      <td>0.03</td>\n",
       "    </tr>\n",
       "    <tr>\n",
       "      <th>1303</th>\n",
       "      <td>1396</td>\n",
       "      <td>10.0</td>\n",
       "      <td>280.0</td>\n",
       "      <td>39.0</td>\n",
       "      <td>19.0</td>\n",
       "      <td>surf</td>\n",
       "      <td>Salt Lake City, UT MSA</td>\n",
       "      <td>50</td>\n",
       "      <td>15.0</td>\n",
       "      <td>500</td>\n",
       "      <td>20</td>\n",
       "      <td>10</td>\n",
       "      <td>0.03</td>\n",
       "      <td>0.03</td>\n",
       "    </tr>\n",
       "    <tr>\n",
       "      <th>1408</th>\n",
       "      <td>1431</td>\n",
       "      <td>12.0</td>\n",
       "      <td>634.0</td>\n",
       "      <td>39.0</td>\n",
       "      <td>24.0</td>\n",
       "      <td>surf</td>\n",
       "      <td>Sacramento–Roseville–Folsom, CA MSA</td>\n",
       "      <td>50</td>\n",
       "      <td>15.0</td>\n",
       "      <td>500</td>\n",
       "      <td>20</td>\n",
       "      <td>10</td>\n",
       "      <td>0.03</td>\n",
       "      <td>0.03</td>\n",
       "    </tr>\n",
       "  </tbody>\n",
       "</table>\n",
       "</div>"
      ],
      "text/plain": [
       "      user_id  month  min_per_month  messages_per_month  gb_per_month  \\\n",
       "836      1259    3.0          154.0                17.0           2.0   \n",
       "402      1122    8.0          473.0                22.0          29.0   \n",
       "799      1251    7.0          549.0                39.0          23.0   \n",
       "1303     1396   10.0          280.0                39.0          19.0   \n",
       "1408     1431   12.0          634.0                39.0          24.0   \n",
       "\n",
       "     plan_name                                             city  \\\n",
       "836       surf  Philadelphia-Camden-Wilmington, PA-NJ-DE-MD MSA   \n",
       "402       surf    Miami-Fort Lauderdale-West Palm Beach, FL MSA   \n",
       "799       surf        New York-Newark-Jersey City, NY-NJ-PA MSA   \n",
       "1303      surf                           Salt Lake City, UT MSA   \n",
       "1408      surf              Sacramento–Roseville–Folsom, CA MSA   \n",
       "\n",
       "      messages_included  gb_included  minutes_included  usd_monthly_pay  \\\n",
       "836                  50         15.0               500               20   \n",
       "402                  50         15.0               500               20   \n",
       "799                  50         15.0               500               20   \n",
       "1303                 50         15.0               500               20   \n",
       "1408                 50         15.0               500               20   \n",
       "\n",
       "      usd_per_gb  usd_per_message  usd_per_minute  \n",
       "836           10             0.03            0.03  \n",
       "402           10             0.03            0.03  \n",
       "799           10             0.03            0.03  \n",
       "1303          10             0.03            0.03  \n",
       "1408          10             0.03            0.03  "
      ]
     },
     "execution_count": 41,
     "metadata": {},
     "output_type": "execute_result"
    }
   ],
   "source": [
    "user_monthly_revenue = user_monthly_revenue.fillna(0)\n",
    "user_monthly_revenue.sample(5)"
   ]
  },
  {
   "cell_type": "markdown",
   "metadata": {},
   "source": [
    "Calculamos los minutos, mensajes y mb extra que cada usuario utilizó por encima de los ya incluidos en su respectivo paquete, para poder obtener el total en USD que deberá pagar."
   ]
  },
  {
   "cell_type": "code",
   "execution_count": 42,
   "metadata": {
    "trusted": true
   },
   "outputs": [],
   "source": [
    "user_monthly_revenue['min_extra'] =  (user_monthly_revenue['min_per_month'] - user_monthly_revenue['minutes_included']).clip(lower=0)\n",
    "user_monthly_revenue['messages_extra'] =  (user_monthly_revenue['messages_per_month'] - user_monthly_revenue['messages_included']).clip(lower=0)\n",
    "user_monthly_revenue['gb_extra'] = (user_monthly_revenue['gb_per_month'] - user_monthly_revenue['gb_included']).clip(lower=0)"
   ]
  },
  {
   "cell_type": "code",
   "execution_count": 43,
   "metadata": {
    "trusted": true
   },
   "outputs": [
    {
     "data": {
      "text/html": [
       "<div>\n",
       "<style scoped>\n",
       "    .dataframe tbody tr th:only-of-type {\n",
       "        vertical-align: middle;\n",
       "    }\n",
       "\n",
       "    .dataframe tbody tr th {\n",
       "        vertical-align: top;\n",
       "    }\n",
       "\n",
       "    .dataframe thead th {\n",
       "        text-align: right;\n",
       "    }\n",
       "</style>\n",
       "<table border=\"1\" class=\"dataframe\">\n",
       "  <thead>\n",
       "    <tr style=\"text-align: right;\">\n",
       "      <th></th>\n",
       "      <th>user_id</th>\n",
       "      <th>month</th>\n",
       "      <th>min_per_month</th>\n",
       "      <th>messages_per_month</th>\n",
       "      <th>gb_per_month</th>\n",
       "      <th>plan_name</th>\n",
       "      <th>city</th>\n",
       "      <th>messages_included</th>\n",
       "      <th>gb_included</th>\n",
       "      <th>minutes_included</th>\n",
       "      <th>usd_monthly_pay</th>\n",
       "      <th>usd_per_gb</th>\n",
       "      <th>usd_per_message</th>\n",
       "      <th>usd_per_minute</th>\n",
       "      <th>min_extra</th>\n",
       "      <th>messages_extra</th>\n",
       "      <th>gb_extra</th>\n",
       "    </tr>\n",
       "  </thead>\n",
       "  <tbody>\n",
       "    <tr>\n",
       "      <th>774</th>\n",
       "      <td>1240</td>\n",
       "      <td>12.0</td>\n",
       "      <td>1056.0</td>\n",
       "      <td>18.0</td>\n",
       "      <td>41.0</td>\n",
       "      <td>surf</td>\n",
       "      <td>Baton Rouge, LA MSA</td>\n",
       "      <td>50</td>\n",
       "      <td>15.0</td>\n",
       "      <td>500</td>\n",
       "      <td>20</td>\n",
       "      <td>10</td>\n",
       "      <td>0.03</td>\n",
       "      <td>0.03</td>\n",
       "      <td>556.0</td>\n",
       "      <td>0.0</td>\n",
       "      <td>26.0</td>\n",
       "    </tr>\n",
       "    <tr>\n",
       "      <th>540</th>\n",
       "      <td>1165</td>\n",
       "      <td>11.0</td>\n",
       "      <td>115.0</td>\n",
       "      <td>42.0</td>\n",
       "      <td>19.0</td>\n",
       "      <td>surf</td>\n",
       "      <td>Philadelphia-Camden-Wilmington, PA-NJ-DE-MD MSA</td>\n",
       "      <td>50</td>\n",
       "      <td>15.0</td>\n",
       "      <td>500</td>\n",
       "      <td>20</td>\n",
       "      <td>10</td>\n",
       "      <td>0.03</td>\n",
       "      <td>0.03</td>\n",
       "      <td>0.0</td>\n",
       "      <td>0.0</td>\n",
       "      <td>4.0</td>\n",
       "    </tr>\n",
       "    <tr>\n",
       "      <th>1461</th>\n",
       "      <td>1452</td>\n",
       "      <td>12.0</td>\n",
       "      <td>35.0</td>\n",
       "      <td>4.0</td>\n",
       "      <td>1.0</td>\n",
       "      <td>surf</td>\n",
       "      <td>Tucson, AZ MSA</td>\n",
       "      <td>50</td>\n",
       "      <td>15.0</td>\n",
       "      <td>500</td>\n",
       "      <td>20</td>\n",
       "      <td>10</td>\n",
       "      <td>0.03</td>\n",
       "      <td>0.03</td>\n",
       "      <td>0.0</td>\n",
       "      <td>0.0</td>\n",
       "      <td>0.0</td>\n",
       "    </tr>\n",
       "    <tr>\n",
       "      <th>959</th>\n",
       "      <td>1295</td>\n",
       "      <td>12.0</td>\n",
       "      <td>423.0</td>\n",
       "      <td>21.0</td>\n",
       "      <td>22.0</td>\n",
       "      <td>surf</td>\n",
       "      <td>Kansas City, MO-KS MSA</td>\n",
       "      <td>50</td>\n",
       "      <td>15.0</td>\n",
       "      <td>500</td>\n",
       "      <td>20</td>\n",
       "      <td>10</td>\n",
       "      <td>0.03</td>\n",
       "      <td>0.03</td>\n",
       "      <td>0.0</td>\n",
       "      <td>0.0</td>\n",
       "      <td>7.0</td>\n",
       "    </tr>\n",
       "    <tr>\n",
       "      <th>1047</th>\n",
       "      <td>1322</td>\n",
       "      <td>12.0</td>\n",
       "      <td>128.0</td>\n",
       "      <td>0.0</td>\n",
       "      <td>17.0</td>\n",
       "      <td>surf</td>\n",
       "      <td>Fresno, CA MSA</td>\n",
       "      <td>50</td>\n",
       "      <td>15.0</td>\n",
       "      <td>500</td>\n",
       "      <td>20</td>\n",
       "      <td>10</td>\n",
       "      <td>0.03</td>\n",
       "      <td>0.03</td>\n",
       "      <td>0.0</td>\n",
       "      <td>0.0</td>\n",
       "      <td>2.0</td>\n",
       "    </tr>\n",
       "  </tbody>\n",
       "</table>\n",
       "</div>"
      ],
      "text/plain": [
       "      user_id  month  min_per_month  messages_per_month  gb_per_month  \\\n",
       "774      1240   12.0         1056.0                18.0          41.0   \n",
       "540      1165   11.0          115.0                42.0          19.0   \n",
       "1461     1452   12.0           35.0                 4.0           1.0   \n",
       "959      1295   12.0          423.0                21.0          22.0   \n",
       "1047     1322   12.0          128.0                 0.0          17.0   \n",
       "\n",
       "     plan_name                                             city  \\\n",
       "774       surf                              Baton Rouge, LA MSA   \n",
       "540       surf  Philadelphia-Camden-Wilmington, PA-NJ-DE-MD MSA   \n",
       "1461      surf                                   Tucson, AZ MSA   \n",
       "959       surf                           Kansas City, MO-KS MSA   \n",
       "1047      surf                                   Fresno, CA MSA   \n",
       "\n",
       "      messages_included  gb_included  minutes_included  usd_monthly_pay  \\\n",
       "774                  50         15.0               500               20   \n",
       "540                  50         15.0               500               20   \n",
       "1461                 50         15.0               500               20   \n",
       "959                  50         15.0               500               20   \n",
       "1047                 50         15.0               500               20   \n",
       "\n",
       "      usd_per_gb  usd_per_message  usd_per_minute  min_extra  messages_extra  \\\n",
       "774           10             0.03            0.03      556.0             0.0   \n",
       "540           10             0.03            0.03        0.0             0.0   \n",
       "1461          10             0.03            0.03        0.0             0.0   \n",
       "959           10             0.03            0.03        0.0             0.0   \n",
       "1047          10             0.03            0.03        0.0             0.0   \n",
       "\n",
       "      gb_extra  \n",
       "774       26.0  \n",
       "540        4.0  \n",
       "1461       0.0  \n",
       "959        7.0  \n",
       "1047       2.0  "
      ]
     },
     "execution_count": 43,
     "metadata": {},
     "output_type": "execute_result"
    }
   ],
   "source": [
    "user_monthly_revenue.sample(5)"
   ]
  },
  {
   "cell_type": "markdown",
   "metadata": {
    "id": "1IwGo4wg0q1I"
   },
   "source": [
    "Calculamos el total en USD a apagar por cada cliente."
   ]
  },
  {
   "cell_type": "code",
   "execution_count": 44,
   "metadata": {
    "id": "5FGCf_c60q1I",
    "trusted": true
   },
   "outputs": [
    {
     "data": {
      "text/html": [
       "<div>\n",
       "<style scoped>\n",
       "    .dataframe tbody tr th:only-of-type {\n",
       "        vertical-align: middle;\n",
       "    }\n",
       "\n",
       "    .dataframe tbody tr th {\n",
       "        vertical-align: top;\n",
       "    }\n",
       "\n",
       "    .dataframe thead th {\n",
       "        text-align: right;\n",
       "    }\n",
       "</style>\n",
       "<table border=\"1\" class=\"dataframe\">\n",
       "  <thead>\n",
       "    <tr style=\"text-align: right;\">\n",
       "      <th></th>\n",
       "      <th>user_id</th>\n",
       "      <th>month</th>\n",
       "      <th>min_per_month</th>\n",
       "      <th>messages_per_month</th>\n",
       "      <th>gb_per_month</th>\n",
       "      <th>plan_name</th>\n",
       "      <th>city</th>\n",
       "      <th>messages_included</th>\n",
       "      <th>gb_included</th>\n",
       "      <th>minutes_included</th>\n",
       "      <th>usd_monthly_pay</th>\n",
       "      <th>usd_per_gb</th>\n",
       "      <th>usd_per_message</th>\n",
       "      <th>usd_per_minute</th>\n",
       "      <th>min_extra</th>\n",
       "      <th>messages_extra</th>\n",
       "      <th>gb_extra</th>\n",
       "      <th>revenue</th>\n",
       "    </tr>\n",
       "  </thead>\n",
       "  <tbody>\n",
       "    <tr>\n",
       "      <th>594</th>\n",
       "      <td>1177</td>\n",
       "      <td>11.0</td>\n",
       "      <td>261.0</td>\n",
       "      <td>18.0</td>\n",
       "      <td>12.0</td>\n",
       "      <td>surf</td>\n",
       "      <td>Seattle-Tacoma-Bellevue, WA MSA</td>\n",
       "      <td>50</td>\n",
       "      <td>15.0</td>\n",
       "      <td>500</td>\n",
       "      <td>20</td>\n",
       "      <td>10</td>\n",
       "      <td>0.03</td>\n",
       "      <td>0.03</td>\n",
       "      <td>0.0</td>\n",
       "      <td>0.0</td>\n",
       "      <td>0.0</td>\n",
       "      <td>20.00</td>\n",
       "    </tr>\n",
       "    <tr>\n",
       "      <th>1701</th>\n",
       "      <td>1063</td>\n",
       "      <td>12.0</td>\n",
       "      <td>95.0</td>\n",
       "      <td>0.0</td>\n",
       "      <td>10.0</td>\n",
       "      <td>ultimate</td>\n",
       "      <td>New York-Newark-Jersey City, NY-NJ-PA MSA</td>\n",
       "      <td>1000</td>\n",
       "      <td>30.0</td>\n",
       "      <td>3000</td>\n",
       "      <td>70</td>\n",
       "      <td>7</td>\n",
       "      <td>0.01</td>\n",
       "      <td>0.01</td>\n",
       "      <td>0.0</td>\n",
       "      <td>0.0</td>\n",
       "      <td>0.0</td>\n",
       "      <td>70.00</td>\n",
       "    </tr>\n",
       "    <tr>\n",
       "      <th>341</th>\n",
       "      <td>1106</td>\n",
       "      <td>8.0</td>\n",
       "      <td>564.0</td>\n",
       "      <td>0.0</td>\n",
       "      <td>24.0</td>\n",
       "      <td>surf</td>\n",
       "      <td>New York-Newark-Jersey City, NY-NJ-PA MSA</td>\n",
       "      <td>50</td>\n",
       "      <td>15.0</td>\n",
       "      <td>500</td>\n",
       "      <td>20</td>\n",
       "      <td>10</td>\n",
       "      <td>0.03</td>\n",
       "      <td>0.03</td>\n",
       "      <td>64.0</td>\n",
       "      <td>0.0</td>\n",
       "      <td>9.0</td>\n",
       "      <td>111.92</td>\n",
       "    </tr>\n",
       "    <tr>\n",
       "      <th>1574</th>\n",
       "      <td>1498</td>\n",
       "      <td>12.0</td>\n",
       "      <td>325.0</td>\n",
       "      <td>0.0</td>\n",
       "      <td>23.0</td>\n",
       "      <td>surf</td>\n",
       "      <td>New York-Newark-Jersey City, NY-NJ-PA MSA</td>\n",
       "      <td>50</td>\n",
       "      <td>15.0</td>\n",
       "      <td>500</td>\n",
       "      <td>20</td>\n",
       "      <td>10</td>\n",
       "      <td>0.03</td>\n",
       "      <td>0.03</td>\n",
       "      <td>0.0</td>\n",
       "      <td>0.0</td>\n",
       "      <td>8.0</td>\n",
       "      <td>100.00</td>\n",
       "    </tr>\n",
       "    <tr>\n",
       "      <th>1323</th>\n",
       "      <td>1400</td>\n",
       "      <td>4.0</td>\n",
       "      <td>458.0</td>\n",
       "      <td>0.0</td>\n",
       "      <td>15.0</td>\n",
       "      <td>surf</td>\n",
       "      <td>Riverside-San Bernardino-Ontario, CA MSA</td>\n",
       "      <td>50</td>\n",
       "      <td>15.0</td>\n",
       "      <td>500</td>\n",
       "      <td>20</td>\n",
       "      <td>10</td>\n",
       "      <td>0.03</td>\n",
       "      <td>0.03</td>\n",
       "      <td>0.0</td>\n",
       "      <td>0.0</td>\n",
       "      <td>0.0</td>\n",
       "      <td>20.00</td>\n",
       "    </tr>\n",
       "  </tbody>\n",
       "</table>\n",
       "</div>"
      ],
      "text/plain": [
       "      user_id  month  min_per_month  messages_per_month  gb_per_month  \\\n",
       "594      1177   11.0          261.0                18.0          12.0   \n",
       "1701     1063   12.0           95.0                 0.0          10.0   \n",
       "341      1106    8.0          564.0                 0.0          24.0   \n",
       "1574     1498   12.0          325.0                 0.0          23.0   \n",
       "1323     1400    4.0          458.0                 0.0          15.0   \n",
       "\n",
       "     plan_name                                       city  messages_included  \\\n",
       "594       surf            Seattle-Tacoma-Bellevue, WA MSA                 50   \n",
       "1701  ultimate  New York-Newark-Jersey City, NY-NJ-PA MSA               1000   \n",
       "341       surf  New York-Newark-Jersey City, NY-NJ-PA MSA                 50   \n",
       "1574      surf  New York-Newark-Jersey City, NY-NJ-PA MSA                 50   \n",
       "1323      surf   Riverside-San Bernardino-Ontario, CA MSA                 50   \n",
       "\n",
       "      gb_included  minutes_included  usd_monthly_pay  usd_per_gb  \\\n",
       "594          15.0               500               20          10   \n",
       "1701         30.0              3000               70           7   \n",
       "341          15.0               500               20          10   \n",
       "1574         15.0               500               20          10   \n",
       "1323         15.0               500               20          10   \n",
       "\n",
       "      usd_per_message  usd_per_minute  min_extra  messages_extra  gb_extra  \\\n",
       "594              0.03            0.03        0.0             0.0       0.0   \n",
       "1701             0.01            0.01        0.0             0.0       0.0   \n",
       "341              0.03            0.03       64.0             0.0       9.0   \n",
       "1574             0.03            0.03        0.0             0.0       8.0   \n",
       "1323             0.03            0.03        0.0             0.0       0.0   \n",
       "\n",
       "      revenue  \n",
       "594     20.00  \n",
       "1701    70.00  \n",
       "341    111.92  \n",
       "1574   100.00  \n",
       "1323    20.00  "
      ]
     },
     "execution_count": 44,
     "metadata": {},
     "output_type": "execute_result"
    }
   ],
   "source": [
    "# Calcula el ingreso mensual para cada usuario\n",
    "user_monthly_revenue['revenue'] = user_monthly_revenue['usd_monthly_pay'] + (user_monthly_revenue['min_extra'] * user_monthly_revenue['usd_per_minute']) + (user_monthly_revenue['messages_extra'] * user_monthly_revenue['usd_per_message']) + (user_monthly_revenue['gb_extra'] * user_monthly_revenue['usd_per_gb'])\n",
    "user_monthly_revenue.sample(5)"
   ]
  },
  {
   "cell_type": "markdown",
   "metadata": {
    "id": "-jtyHzJb0q1I"
   },
   "source": [
    "## Estudia el comportamiento de usuario"
   ]
  },
  {
   "cell_type": "markdown",
   "metadata": {
    "id": "AxU3Y0N70q1J"
   },
   "source": [
    "Necesitamos estudiar algunas estadísticas descriptivas para los datos agregados y fusionados, que nos sean útiles y que muestren un panorama general captado por los datos. Realizaremos gráficos útiles para facilitar la comprensión y poder comparar las tarifas y decidir cuál es más rentable."
   ]
  },
  {
   "cell_type": "markdown",
   "metadata": {
    "id": "vtW4CJEe0q1J"
   },
   "source": [
    "### Llamadas"
   ]
  },
  {
   "cell_type": "code",
   "execution_count": 45,
   "metadata": {
    "id": "Jf5v5--k0q1J",
    "trusted": true
   },
   "outputs": [
    {
     "data": {
      "image/png": "[encoded data removed]",
      "text/plain": [
       "<Figure size 1000x400 with 1 Axes>"
      ]
     },
     "metadata": {},
     "output_type": "display_data"
    }
   ],
   "source": [
    "# Compara la duración promedio de llamadas por cada plan y por cada mes. Traza un gráfico de barras para visualizarla.\n",
    "monthly_avg_calls = user_monthly_revenue.groupby(['plan_name','month'])['min_per_month'].mean().reset_index()\n",
    "\n",
    "# Convertimos los meses a enteros para que no se muestreen como float\n",
    "monthly_avg_calls['month']  = monthly_avg_calls['month'].astype(int)\n",
    "\n",
    "# Pivotamos para que cada columna sea un plan\n",
    "monthly_avg_calls_pivot = monthly_avg_calls.pivot(index='month', columns='plan_name', values='min_per_month')\n",
    "\n",
    "monthly_avg_calls_pivot.plot(kind='bar', figsize=(10,4))\n",
    "\n",
    "plt.title('Average Monthly Call Minutes by Plan')\n",
    "plt.xlabel('Month')\n",
    "plt.ylabel('Average Call Minutes')\n",
    "plt.legend(title='Plan')\n",
    "plt.xticks(rotation=0)\n",
    "plt.show()"
   ]
  },
  {
   "cell_type": "markdown",
   "metadata": {},
   "source": [
    "Podemos observar en el gráfico que los usuarios de ambos planes tienen un consumo parecido a lo largo de los meses, excepto en Febrero donde si hubo mayor consumo por parte de los usuarios del plan `Ultimate`."
   ]
  },
  {
   "cell_type": "code",
   "execution_count": 46,
   "metadata": {
    "id": "QoLqW1S_0q1J",
    "trusted": true
   },
   "outputs": [
    {
     "data": {
      "image/png": "[encoded data removed]",
      "text/plain": [
       "<Figure size 640x480 with 1 Axes>"
      ]
     },
     "metadata": {},
     "output_type": "display_data"
    }
   ],
   "source": [
    "# Compara el número de minutos mensuales que necesitan los usuarios de cada plan. Traza un histograma.\n",
    "surf_minutes = user_monthly_revenue[user_monthly_revenue['plan_name'] == 'surf']['min_per_month']\n",
    "ultimate_minutes = user_monthly_revenue[user_monthly_revenue['plan_name'] == 'ultimate']['min_per_month']\n",
    "\n",
    "plt.hist(surf_minutes, bins=30, label='Surf', color='steelblue')\n",
    "plt.hist(ultimate_minutes, bins=30, label='Ultimate', color='orange')\n",
    "\n",
    "# Títulos y etiquetas\n",
    "plt.title('Monthly Call Minutes Distribution by Plan')\n",
    "plt.xlabel('Monthly Call Minutes')\n",
    "plt.ylabel('Number of Users')\n",
    "plt.legend()\n",
    "plt.show()\n"
   ]
  },
  {
   "cell_type": "markdown",
   "metadata": {
    "id": "bLS9T8OH0q1K"
   },
   "source": [
    "Podemos observar en el histograma que ambos planes tiene una distribución similar en cuanto al consumo de minutos."
   ]
  },
  {
   "cell_type": "code",
   "execution_count": 47,
   "metadata": {
    "id": "oSndbAnt0q1K",
    "trusted": true
   },
   "outputs": [
    {
     "name": "stdout",
     "output_type": "stream",
     "text": [
      "                 mean           var\n",
      "plan_name                          \n",
      "surf       403.708676  49577.533581\n",
      "ultimate   404.458564  52274.176704\n"
     ]
    }
   ],
   "source": [
    "# Calcula la media y la varianza de la duración mensual de llamadas.\n",
    "stats_by_plan = user_monthly_revenue.groupby('plan_name')['min_per_month'].agg(['mean', 'var'])\n",
    "\n",
    "print(stats_by_plan)\n"
   ]
  },
  {
   "cell_type": "markdown",
   "metadata": {},
   "source": [
    "Podemos notar que la media y la varianza son muy similares en ambos planes, lo que habíamos notado en los gráficos anteriores."
   ]
  },
  {
   "cell_type": "code",
   "execution_count": 48,
   "metadata": {
    "id": "nZzoRUKc0q1K",
    "trusted": true
   },
   "outputs": [
    {
     "data": {
      "image/png": "[encoded data removed]",
      "text/plain": [
       "<Figure size 800x500 with 1 Axes>"
      ]
     },
     "metadata": {},
     "output_type": "display_data"
    }
   ],
   "source": [
    "# Traza un diagrama de caja para visualizar la distribución de la duración mensual de llamadas\n",
    "user_monthly_revenue.boxplot(column='min_per_month', by='plan_name', figsize=(8, 5))\n",
    "\n",
    "plt.title('Monthly Call Minutes Distribution by Plan')\n",
    "plt.xlabel('Plan')\n",
    "plt.ylabel('Minutes per Month')\n",
    "plt.show()\n"
   ]
  },
  {
   "cell_type": "markdown",
   "metadata": {
    "id": "r627zBO50q1K"
   },
   "source": [
    "Podemos concluir que los usuarios de ambos planes tienen un comportamiento similar en cuanto al consumo de minutos de llamadas."
   ]
  },
  {
   "cell_type": "markdown",
   "metadata": {
    "id": "8idKy8Wh0q1L"
   },
   "source": [
    "### Mensajes"
   ]
  },
  {
   "cell_type": "code",
   "execution_count": 49,
   "metadata": {
    "id": "NXLxiTit0q1L",
    "trusted": true
   },
   "outputs": [
    {
     "data": {
      "image/png": "[encoded data removed]",
      "text/plain": [
       "<Figure size 1000x400 with 1 Axes>"
      ]
     },
     "metadata": {},
     "output_type": "display_data"
    }
   ],
   "source": [
    "# Comprara el número de mensajes que tienden a enviar cada mes los usuarios de cada plan\n",
    "monthly_avg_calls = user_monthly_revenue.groupby(['plan_name','month'])['messages_per_month'].count().reset_index()\n",
    "\n",
    "# Convertimos los meses a enteros para que no se muestreen como float\n",
    "monthly_avg_calls['month']  = monthly_avg_calls['month'].astype(int)\n",
    "\n",
    "# Pivotamos para que cada columna sea un plan\n",
    "monthly_avg_calls_pivot = monthly_avg_calls.pivot(index='month', columns='plan_name', values='messages_per_month')\n",
    "\n",
    "monthly_avg_calls_pivot.plot(kind='bar', figsize=(10,4))\n",
    "\n",
    "plt.title('Average Monthly Messages by Plan')\n",
    "plt.xlabel('Month')\n",
    "plt.ylabel('Average Messages Sent')\n",
    "plt.legend(title='Plan')\n",
    "plt.xticks(rotation=0)\n",
    "plt.show()\n"
   ]
  },
  {
   "cell_type": "markdown",
   "metadata": {
    "id": "GRI_R7xF0q1L"
   },
   "source": [
    "Podemos observar en el gráfico que los usuarios del plan `Surf` tienden a enviar una mayor cantidad de mensajes al mes."
   ]
  },
  {
   "cell_type": "markdown",
   "metadata": {
    "id": "42YSypXz0q1M"
   },
   "source": [
    "### Internet"
   ]
  },
  {
   "cell_type": "code",
   "execution_count": 50,
   "metadata": {
    "id": "lSuKPtjh0q1M",
    "trusted": true
   },
   "outputs": [
    {
     "data": {
      "image/png": "[encoded data removed]",
      "text/plain": [
       "<Figure size 1000x400 with 1 Axes>"
      ]
     },
     "metadata": {},
     "output_type": "display_data"
    }
   ],
   "source": [
    "# Compara la cantidad de tráfico de Internet consumido por usuarios por plan\n",
    "monthly_avg_calls = user_monthly_revenue.groupby(['plan_name','month'])['gb_per_month'].sum().reset_index()\n",
    "\n",
    "# Convertimos los meses a enteros para que no se muestreen como float\n",
    "monthly_avg_calls['month']  = monthly_avg_calls['month'].astype(int)\n",
    "\n",
    "# Pivotamos para que cada columna sea un plan\n",
    "monthly_avg_calls_pivot = monthly_avg_calls.pivot(index='month', columns='plan_name', values='gb_per_month')\n",
    "\n",
    "monthly_avg_calls_pivot.plot(kind='bar', figsize=(10,4))\n",
    "\n",
    "plt.title('Average Monthly Internet by Plan')\n",
    "plt.xlabel('Month')\n",
    "plt.ylabel('Average GB Used')\n",
    "plt.legend(title='Plan')\n",
    "plt.xticks(rotation=0)\n",
    "plt.show()\n"
   ]
  },
  {
   "cell_type": "markdown",
   "metadata": {
    "id": "UN9zwuMP0q1N"
   },
   "source": [
    "Podemos observar en el gráfico que los usuarios del plan `Surf` tienden a consumir una mayor cantidad de datos al mes."
   ]
  },
  {
   "cell_type": "markdown",
   "metadata": {
    "id": "tCijq3260q1N"
   },
   "source": [
    "## Ingreso"
   ]
  },
  {
   "cell_type": "markdown",
   "metadata": {
    "id": "9nq5IAcy0q1O"
   },
   "source": [
    "Realizamos el análisis de datos con respecto a ambos planes para ver si existen diferencias en los ingresos."
   ]
  },
  {
   "cell_type": "code",
   "execution_count": 51,
   "metadata": {
    "id": "tz-dq_V00q1O",
    "trusted": true
   },
   "outputs": [
    {
     "data": {
      "text/html": [
       "<div>\n",
       "<style scoped>\n",
       "    .dataframe tbody tr th:only-of-type {\n",
       "        vertical-align: middle;\n",
       "    }\n",
       "\n",
       "    .dataframe tbody tr th {\n",
       "        vertical-align: top;\n",
       "    }\n",
       "\n",
       "    .dataframe thead th {\n",
       "        text-align: right;\n",
       "    }\n",
       "</style>\n",
       "<table border=\"1\" class=\"dataframe\">\n",
       "  <thead>\n",
       "    <tr style=\"text-align: right;\">\n",
       "      <th></th>\n",
       "      <th>count</th>\n",
       "      <th>mean</th>\n",
       "      <th>std</th>\n",
       "      <th>min</th>\n",
       "      <th>25%</th>\n",
       "      <th>50%</th>\n",
       "      <th>75%</th>\n",
       "      <th>max</th>\n",
       "    </tr>\n",
       "    <tr>\n",
       "      <th>plan_name</th>\n",
       "      <th></th>\n",
       "      <th></th>\n",
       "      <th></th>\n",
       "      <th></th>\n",
       "      <th></th>\n",
       "      <th></th>\n",
       "      <th></th>\n",
       "      <th></th>\n",
       "    </tr>\n",
       "  </thead>\n",
       "  <tbody>\n",
       "    <tr>\n",
       "      <th>surf</th>\n",
       "      <td>1579.0</td>\n",
       "      <td>60.178619</td>\n",
       "      <td>55.214537</td>\n",
       "      <td>20.0</td>\n",
       "      <td>20.0</td>\n",
       "      <td>40.0</td>\n",
       "      <td>80.0</td>\n",
       "      <td>588.66</td>\n",
       "    </tr>\n",
       "    <tr>\n",
       "      <th>ultimate</th>\n",
       "      <td>724.0</td>\n",
       "      <td>72.301105</td>\n",
       "      <td>11.364839</td>\n",
       "      <td>70.0</td>\n",
       "      <td>70.0</td>\n",
       "      <td>70.0</td>\n",
       "      <td>70.0</td>\n",
       "      <td>182.00</td>\n",
       "    </tr>\n",
       "  </tbody>\n",
       "</table>\n",
       "</div>"
      ],
      "text/plain": [
       "            count       mean        std   min   25%   50%   75%     max\n",
       "plan_name                                                              \n",
       "surf       1579.0  60.178619  55.214537  20.0  20.0  40.0  80.0  588.66\n",
       "ultimate    724.0  72.301105  11.364839  70.0  70.0  70.0  70.0  182.00"
      ]
     },
     "execution_count": 51,
     "metadata": {},
     "output_type": "execute_result"
    }
   ],
   "source": [
    "#  Analiza los datos estadísticos de los ingresos mensuales por plan\n",
    "user_monthly_revenue.groupby('plan_name')['revenue'].describe()\n"
   ]
  },
  {
   "cell_type": "markdown",
   "metadata": {
    "id": "0Y1v8ZUz0q1P"
   },
   "source": [
    "Como vemos en los datos el plan `surf` tiene el doble de usuarios que el plan `ultimate`.\n",
    "El promedio de ingresos de los usurios del plan `surf` es mas elevado por servicios adicionales, mientras que el plan `ultimate` mantiene un promedio cercano al costo del plan."
   ]
  },
  {
   "cell_type": "code",
   "execution_count": 52,
   "metadata": {
    "id": "bYmwxyVh0q1P",
    "trusted": true
   },
   "outputs": [
    {
     "data": {
      "image/png": "[encoded data removed]",
      "text/plain": [
       "<Figure size 640x480 with 1 Axes>"
      ]
     },
     "metadata": {},
     "output_type": "display_data"
    }
   ],
   "source": [
    "surf_revenue = user_monthly_revenue[user_monthly_revenue['plan_name'] == 'surf']['revenue']\n",
    "ultimate_revenue = user_monthly_revenue[user_monthly_revenue['plan_name'] == 'ultimate']['revenue']\n",
    "\n",
    "# Graficar\n",
    "plt.hist(surf_revenue, bins=25, label='Surf', color='steelblue')\n",
    "plt.hist(ultimate_revenue, bins=25, label='Ultimate', color='orange')\n",
    "\n",
    "plt.title('Revenue Distribution by Plan')\n",
    "plt.xlabel('Monthly Revenue (USD)')\n",
    "plt.ylabel('Users')\n",
    "plt.legend()\n",
    "plt.show()"
   ]
  },
  {
   "cell_type": "markdown",
   "metadata": {
    "id": "KAFidcXZ0q1P"
   },
   "source": [
    "Podemos ver en la gráfica tenemos un sesgo positivo a la derecha para ambos planes, aunque es mas notorio para el plan `surf` lo que indica que un pequeño grupo usuarios generan mas ingresos por el consumo excesivo de algunos de los adicionales que ofrece la empresa, mientras que los usuarios del plan `ultimate` mantienen un nivel de ingresos constantes y cercanos al monto de la suscripción del plan."
   ]
  },
  {
   "cell_type": "markdown",
   "metadata": {
    "id": "ajJ7VKeI0q1Q"
   },
   "source": [
    "## Prueba las hipótesis estadística"
   ]
  },
  {
   "cell_type": "markdown",
   "metadata": {
    "id": "AdXAZ-yL0q1Q"
   },
   "source": [
    "Realizaremos la prueba de hipótesis: los ingresos promedio generados por los usuarios de ambos planes son diferentes."
   ]
  },
  {
   "cell_type": "markdown",
   "metadata": {
    "id": "IQwa_hsh0q1Q"
   },
   "source": [
    "Para esto usaremos una `hipótesis nula:` Los ingresos promedio de ambos planes son iguales,\n",
    "y una `hipótesis alternativa:` Los ingresos promedio de ambos planes son diferentes."
   ]
  },
  {
   "cell_type": "code",
   "execution_count": 53,
   "metadata": {
    "id": "nFoPNlPq0q1R",
    "trusted": true
   },
   "outputs": [
    {
     "name": "stdout",
     "output_type": "stream",
     "text": [
      "valor p:  1.3513063978147017e-16\n",
      "Rechazamos la hipótesis nula\n"
     ]
    }
   ],
   "source": [
    "# Prueba las hipótesis\n",
    "surf_revenue = user_monthly_revenue[user_monthly_revenue['plan_name'] == 'surf']['revenue']\n",
    "ultimate_revenue = user_monthly_revenue[user_monthly_revenue['plan_name'] == 'ultimate']['revenue']\n",
    "\n",
    "alpha = 0.05\n",
    "\n",
    "results = st.ttest_ind(surf_revenue, ultimate_revenue,equal_var=False)\n",
    "\n",
    "print('valor p: ', results.pvalue)\n",
    "\n",
    "if results.pvalue < alpha:\n",
    "    print(\"Rechazamos la hipótesis nula\")\n",
    "else:\n",
    "    print(\"No podemos rechazar la hipótesis nula\")\n",
    "    "
   ]
  },
  {
   "cell_type": "markdown",
   "metadata": {},
   "source": [
    "Podemos observar por el análisis de datos que el promedio de ingresos de ambos planes no son iguales, por lo que descartamos la hipótesis nula que planteamos y confirmamos la hipótesis alternativa planteada."
   ]
  },
  {
   "cell_type": "markdown",
   "metadata": {
    "id": "tCcAruM60q1R"
   },
   "source": [
    "Realizaremos la prueba de hipótesis: el ingreso promedio de los usuarios del área NY-NJ es diferente al de los usuarios de otras regiones."
   ]
  },
  {
   "cell_type": "markdown",
   "metadata": {
    "id": "LsBgitqj0q1R"
   },
   "source": [
    "Para esto usaremos una `hipótesis nula:` el ingreso promedio de los usuarios del área NY-NJ es igual al de los usuarios de otras regiones, y una `hipótesis alternativa:` el ingreso promedio de los usuarios del área NY-NJ es diferente al de los usuarios de otras regiones."
   ]
  },
  {
   "cell_type": "code",
   "execution_count": 54,
   "metadata": {
    "id": "Cqcj7wrZ0q1S",
    "trusted": true
   },
   "outputs": [
    {
     "name": "stdout",
     "output_type": "stream",
     "text": [
      "valor p:  0.03610610092900091\n",
      "Rechazamos la hipótesis nula\n"
     ]
    }
   ],
   "source": [
    "# Prueba las hipótesis\n",
    "ny_nj_revenue = user_monthly_revenue[user_monthly_revenue['city'] == 'New York-Newark-Jersey City, NY-NJ-PA MSA']['revenue']\n",
    "other_revenue = user_monthly_revenue[user_monthly_revenue['city'] != 'New York-Newark-Jersey City, NY-NJ-PA MSA']['revenue']\n",
    "\n",
    "\n",
    "alpha = 0.05\n",
    "\n",
    "results = st.ttest_ind(ny_nj_revenue, other_revenue,equal_var=False)\n",
    "\n",
    "print('valor p: ', results.pvalue)\n",
    "\n",
    "if results.pvalue < alpha:\n",
    "    print(\"Rechazamos la hipótesis nula\")\n",
    "else:\n",
    "    print(\"No podemos rechazar la hipótesis nula\")\n"
   ]
  },
  {
   "cell_type": "markdown",
   "metadata": {
    "id": "bbTR8UQO0q1T"
   },
   "source": [
    "## Conclusión general\n",
    "\n",
    "Tras el análisis del comportamiento los clientes de Megaline durante el año 2018, se encontró que:\n",
    "\n",
    "1.-El plan `surf` genera ingresos promedio significativamente mayores que el plan `ultimate`, ya que cuenta un mayor número de usuarios. Algunos tienden a exceder los límites incluidos y pagan tarifas adicionales, lo que eleva los ingresos de este plan.\n",
    "\n",
    "2.-La diferencia en ingresos promedio entre ambos planes es estadísticamente significativa.\n",
    "\n",
    "3.-Los ingresos promedio de los usuarios del área NY-NJ no son significativamente diferentes a los del resto del país, por lo que la región no parece ser un factor clave en los ingresos.\n"
   ]
  }
 ],
 "metadata": {
  "ExecuteTimeLog": [
   {
    "duration": 828,
    "start_time": "2021-11-16T09:21:11.304Z"
   },
   {
    "duration": 893,
    "start_time": "2021-11-16T09:21:17.728Z"
   },
   {
    "duration": 1150,
    "start_time": "2021-11-16T09:21:29.568Z"
   },
   {
    "duration": 3,
    "start_time": "2021-11-16T09:24:14.495Z"
   },
   {
    "duration": 120,
    "start_time": "2021-11-16T09:24:46.630Z"
   },
   {
    "duration": 3,
    "start_time": "2021-11-16T09:28:27.882Z"
   },
   {
    "duration": 4,
    "start_time": "2021-11-16T09:29:54.281Z"
   },
   {
    "duration": 3,
    "start_time": "2021-11-16T09:30:45.936Z"
   },
   {
    "duration": 4,
    "start_time": "2021-11-16T09:31:06.300Z"
   },
   {
    "duration": 113,
    "start_time": "2021-11-16T09:31:37.208Z"
   },
   {
    "duration": 143,
    "start_time": "2021-11-16T09:31:48.656Z"
   },
   {
    "duration": 98,
    "start_time": "2021-11-16T09:31:55.678Z"
   },
   {
    "duration": 3,
    "start_time": "2021-11-16T09:32:08.535Z"
   },
   {
    "duration": 111,
    "start_time": "2021-11-16T09:32:10.120Z"
   },
   {
    "duration": 3,
    "start_time": "2021-11-16T09:32:15.732Z"
   },
   {
    "duration": 4,
    "start_time": "2021-11-16T09:32:29.423Z"
   },
   {
    "duration": 3,
    "start_time": "2021-11-16T10:03:03.074Z"
   },
   {
    "duration": 3,
    "start_time": "2021-11-16T10:10:01.288Z"
   },
   {
    "duration": 3,
    "start_time": "2021-11-16T10:10:46.923Z"
   },
   {
    "duration": 121,
    "start_time": "2021-11-16T10:37:46.494Z"
   },
   {
    "duration": 125,
    "start_time": "2021-11-16T10:38:20.632Z"
   },
   {
    "duration": 112,
    "start_time": "2021-11-16T10:46:53.001Z"
   },
   {
    "duration": 110,
    "start_time": "2021-11-16T10:48:25.775Z"
   },
   {
    "duration": 3,
    "start_time": "2021-11-16T10:50:18.720Z"
   },
   {
    "duration": 4,
    "start_time": "2021-11-16T10:50:37.649Z"
   },
   {
    "duration": 2,
    "start_time": "2021-11-16T10:50:51.884Z"
   },
   {
    "duration": 3,
    "start_time": "2021-11-16T10:51:56.237Z"
   },
   {
    "duration": 101,
    "start_time": "2021-11-16T10:53:13.791Z"
   },
   {
    "duration": 3,
    "start_time": "2021-11-16T10:55:59.186Z"
   },
   {
    "duration": 3,
    "start_time": "2021-11-16T10:56:10.751Z"
   },
   {
    "duration": 3,
    "start_time": "2021-11-16T10:56:49.038Z"
   },
   {
    "duration": 3,
    "start_time": "2021-11-16T10:56:49.174Z"
   },
   {
    "duration": 4,
    "start_time": "2021-11-16T10:56:49.414Z"
   },
   {
    "duration": 3,
    "start_time": "2021-11-16T10:56:49.680Z"
   },
   {
    "duration": 3,
    "start_time": "2021-11-16T10:56:50.370Z"
   },
   {
    "duration": 114,
    "start_time": "2021-11-16T10:59:34.518Z"
   },
   {
    "duration": 3,
    "start_time": "2021-11-16T11:01:41.201Z"
   },
   {
    "duration": 116,
    "start_time": "2021-11-16T11:01:48.754Z"
   },
   {
    "duration": 3,
    "start_time": "2021-11-16T11:02:16.685Z"
   },
   {
    "duration": 3,
    "start_time": "2021-11-16T11:02:19.479Z"
   },
   {
    "duration": 3,
    "start_time": "2021-11-16T11:02:47.067Z"
   },
   {
    "duration": 3,
    "start_time": "2021-11-16T11:02:49.353Z"
   },
   {
    "duration": 3,
    "start_time": "2021-11-16T11:03:07.835Z"
   },
   {
    "duration": 3,
    "start_time": "2021-11-16T11:03:07.953Z"
   },
   {
    "duration": 112,
    "start_time": "2021-11-16T11:07:52.072Z"
   },
   {
    "duration": 187,
    "start_time": "2021-11-16T11:09:23.468Z"
   },
   {
    "duration": 4,
    "start_time": "2021-11-16T11:10:01.455Z"
   },
   {
    "duration": 3,
    "start_time": "2021-11-16T11:10:05.069Z"
   },
   {
    "duration": 4,
    "start_time": "2021-11-16T11:10:13.376Z"
   },
   {
    "duration": 3,
    "start_time": "2021-11-16T11:10:14.434Z"
   },
   {
    "duration": 3,
    "start_time": "2021-11-16T11:10:22.853Z"
   },
   {
    "duration": 4,
    "start_time": "2021-11-16T11:27:29.279Z"
   },
   {
    "duration": 4,
    "start_time": "2021-11-16T11:29:08.919Z"
   },
   {
    "duration": 118,
    "start_time": "2021-11-16T11:29:46.703Z"
   },
   {
    "duration": 437,
    "start_time": "2021-11-16T11:36:02.181Z"
   },
   {
    "duration": 157,
    "start_time": "2021-11-16T11:36:14.388Z"
   },
   {
    "duration": 207,
    "start_time": "2021-11-16T11:47:15.898Z"
   },
   {
    "duration": 3,
    "start_time": "2021-11-16T11:53:52.092Z"
   },
   {
    "duration": 3,
    "start_time": "2021-11-16T11:53:52.236Z"
   },
   {
    "duration": 3,
    "start_time": "2021-11-16T11:59:12.005Z"
   },
   {
    "duration": 112,
    "start_time": "2021-11-16T12:00:33.446Z"
   },
   {
    "duration": 3,
    "start_time": "2021-11-16T12:02:14.453Z"
   },
   {
    "duration": 3,
    "start_time": "2021-11-16T12:02:39.512Z"
   },
   {
    "duration": 106,
    "start_time": "2021-11-16T12:03:03.460Z"
   },
   {
    "duration": 3,
    "start_time": "2021-11-17T20:37:21.139Z"
   },
   {
    "duration": 3,
    "start_time": "2021-11-17T20:37:22.229Z"
   },
   {
    "duration": 3,
    "start_time": "2021-11-17T20:38:38.806Z"
   },
   {
    "duration": 3,
    "start_time": "2021-11-17T20:38:41.958Z"
   },
   {
    "duration": 3,
    "start_time": "2021-11-17T20:43:46.551Z"
   },
   {
    "duration": 4,
    "start_time": "2021-11-17T20:58:21.835Z"
   },
   {
    "duration": 3,
    "start_time": "2021-11-17T20:59:21.872Z"
   },
   {
    "duration": 4,
    "start_time": "2021-11-17T20:59:45.352Z"
   },
   {
    "duration": 4,
    "start_time": "2021-11-17T20:59:49.646Z"
   },
   {
    "duration": 159,
    "start_time": "2021-11-17T21:02:26.949Z"
   },
   {
    "duration": 3,
    "start_time": "2021-11-17T21:03:53.461Z"
   },
   {
    "duration": 3,
    "start_time": "2021-11-17T21:03:53.694Z"
   },
   {
    "duration": 3,
    "start_time": "2021-11-17T21:05:28.145Z"
   },
   {
    "duration": 116,
    "start_time": "2021-11-17T21:05:57.787Z"
   },
   {
    "duration": 3,
    "start_time": "2021-11-17T21:06:37.993Z"
   },
   {
    "duration": 3,
    "start_time": "2021-11-17T21:06:38.261Z"
   },
   {
    "duration": 3,
    "start_time": "2021-11-17T21:11:54.358Z"
   },
   {
    "duration": 3,
    "start_time": "2021-11-17T21:12:43.846Z"
   },
   {
    "duration": 4,
    "start_time": "2021-11-17T21:13:08.773Z"
   },
   {
    "duration": 3,
    "start_time": "2021-11-17T21:14:44.441Z"
   },
   {
    "duration": 3,
    "start_time": "2021-11-17T21:15:42.059Z"
   },
   {
    "duration": 4,
    "start_time": "2021-11-17T21:15:51.995Z"
   },
   {
    "duration": 3,
    "start_time": "2021-11-17T21:15:53.923Z"
   },
   {
    "duration": 3,
    "start_time": "2021-11-17T21:15:55.282Z"
   },
   {
    "duration": 3,
    "start_time": "2021-11-17T21:16:28.492Z"
   },
   {
    "duration": 3,
    "start_time": "2021-11-17T21:16:32.603Z"
   },
   {
    "duration": 3,
    "start_time": "2021-11-17T21:17:06.941Z"
   },
   {
    "duration": 98,
    "start_time": "2021-11-17T21:18:05.733Z"
   },
   {
    "duration": 4,
    "start_time": "2021-11-17T21:21:35.255Z"
   },
   {
    "duration": 3,
    "start_time": "2021-11-17T21:21:37.804Z"
   },
   {
    "duration": 4,
    "start_time": "2021-11-17T21:23:06.071Z"
   },
   {
    "duration": 3,
    "start_time": "2021-11-17T21:23:24.799Z"
   },
   {
    "duration": 3,
    "start_time": "2021-11-17T21:23:32.591Z"
   },
   {
    "duration": 98,
    "start_time": "2021-11-17T21:28:31.559Z"
   },
   {
    "duration": 3,
    "start_time": "2021-11-17T21:28:45.448Z"
   },
   {
    "duration": 3,
    "start_time": "2021-11-17T21:29:17.303Z"
   },
   {
    "duration": 3,
    "start_time": "2021-11-17T21:29:29.617Z"
   },
   {
    "duration": 3,
    "start_time": "2021-11-17T21:29:32.681Z"
   },
   {
    "duration": 3,
    "start_time": "2021-11-17T21:36:11.474Z"
   },
   {
    "duration": 3,
    "start_time": "2021-11-17T21:36:14.791Z"
   },
   {
    "duration": 3,
    "start_time": "2021-11-17T21:36:53.943Z"
   },
   {
    "duration": 3,
    "start_time": "2021-11-17T21:36:56.165Z"
   },
   {
    "duration": 4,
    "start_time": "2021-11-17T21:37:16.590Z"
   },
   {
    "duration": 3,
    "start_time": "2021-11-17T21:37:22.702Z"
   },
   {
    "duration": 4,
    "start_time": "2021-11-17T21:38:03.479Z"
   },
   {
    "duration": 3,
    "start_time": "2021-11-17T21:38:08.601Z"
   },
   {
    "duration": 3,
    "start_time": "2021-11-17T21:38:12.928Z"
   },
   {
    "duration": 3,
    "start_time": "2021-11-17T21:38:48.896Z"
   },
   {
    "duration": 2,
    "start_time": "2021-11-17T21:38:49.171Z"
   },
   {
    "duration": 4,
    "start_time": "2021-11-17T21:39:57.889Z"
   },
   {
    "duration": 3,
    "start_time": "2021-11-17T21:39:58.057Z"
   },
   {
    "duration": 3,
    "start_time": "2021-11-17T21:41:20.108Z"
   },
   {
    "duration": 3,
    "start_time": "2021-11-17T21:41:20.629Z"
   },
   {
    "duration": 3,
    "start_time": "2021-11-17T21:42:49.136Z"
   },
   {
    "duration": 3,
    "start_time": "2021-11-17T21:43:15.137Z"
   },
   {
    "duration": 4,
    "start_time": "2021-11-17T21:43:16.766Z"
   },
   {
    "duration": 4,
    "start_time": "2021-11-17T21:43:31.711Z"
   },
   {
    "duration": 3,
    "start_time": "2021-11-17T21:43:36.312Z"
   },
   {
    "duration": 4,
    "start_time": "2021-11-17T21:45:08.825Z"
   },
   {
    "duration": 4,
    "start_time": "2021-11-17T21:45:10.119Z"
   },
   {
    "duration": 4,
    "start_time": "2021-11-17T21:45:13.748Z"
   },
   {
    "duration": 3,
    "start_time": "2021-11-17T21:45:22.219Z"
   },
   {
    "duration": 3,
    "start_time": "2021-11-17T21:45:33.412Z"
   },
   {
    "duration": 2,
    "start_time": "2021-11-17T21:46:01.885Z"
   },
   {
    "duration": 3,
    "start_time": "2021-11-17T21:46:03.628Z"
   },
   {
    "duration": 107,
    "start_time": "2021-11-17T21:47:32.512Z"
   },
   {
    "duration": 103,
    "start_time": "2021-11-17T21:50:36.243Z"
   },
   {
    "duration": 3,
    "start_time": "2021-11-18T06:28:31.440Z"
   },
   {
    "duration": 3,
    "start_time": "2021-11-18T06:29:00.168Z"
   },
   {
    "duration": 3,
    "start_time": "2021-11-18T06:31:27.008Z"
   },
   {
    "duration": 2,
    "start_time": "2021-11-18T06:35:34.288Z"
   },
   {
    "duration": 2,
    "start_time": "2021-11-18T06:38:04.527Z"
   },
   {
    "duration": 615,
    "start_time": "2025-04-01T21:02:31.619Z"
   },
   {
    "duration": 234,
    "start_time": "2025-04-01T21:07:45.342Z"
   },
   {
    "duration": 11,
    "start_time": "2025-04-01T21:08:51.335Z"
   },
   {
    "duration": 7,
    "start_time": "2025-04-01T21:09:16.878Z"
   },
   {
    "duration": 7,
    "start_time": "2025-04-01T21:09:32.863Z"
   },
   {
    "duration": 3,
    "start_time": "2025-04-01T21:09:40.746Z"
   },
   {
    "duration": 241,
    "start_time": "2025-04-01T21:10:05.733Z"
   },
   {
    "duration": 7,
    "start_time": "2025-04-01T21:10:09.838Z"
   },
   {
    "duration": 3,
    "start_time": "2025-04-01T21:10:32.824Z"
   },
   {
    "duration": 7,
    "start_time": "2025-04-01T21:10:43.443Z"
   },
   {
    "duration": 16,
    "start_time": "2025-04-01T21:11:13.175Z"
   },
   {
    "duration": 16,
    "start_time": "2025-04-01T21:11:32.794Z"
   },
   {
    "duration": 13,
    "start_time": "2025-04-01T21:11:42.758Z"
   },
   {
    "duration": 15,
    "start_time": "2025-04-01T21:11:52.153Z"
   },
   {
    "duration": 2,
    "start_time": "2025-04-01T21:11:55.491Z"
   },
   {
    "duration": 3,
    "start_time": "2025-04-01T21:12:03.990Z"
   },
   {
    "duration": 17,
    "start_time": "2025-04-01T21:12:23.956Z"
   },
   {
    "duration": 7,
    "start_time": "2025-04-01T21:13:34.031Z"
   },
   {
    "duration": 10,
    "start_time": "2025-04-01T21:13:56.370Z"
   },
   {
    "duration": 11,
    "start_time": "2025-04-01T21:43:42.599Z"
   },
   {
    "duration": 8,
    "start_time": "2025-04-01T21:44:03.582Z"
   },
   {
    "duration": 7,
    "start_time": "2025-04-01T21:46:37.645Z"
   },
   {
    "duration": 8,
    "start_time": "2025-04-01T21:46:48.192Z"
   },
   {
    "duration": 148,
    "start_time": "2025-04-01T21:48:50.211Z"
   },
   {
    "duration": 9,
    "start_time": "2025-04-01T21:49:14.423Z"
   },
   {
    "duration": 7,
    "start_time": "2025-04-01T21:49:17.781Z"
   },
   {
    "duration": 5,
    "start_time": "2025-04-01T21:56:56.582Z"
   },
   {
    "duration": 9,
    "start_time": "2025-04-01T21:59:53.560Z"
   },
   {
    "duration": 7,
    "start_time": "2025-04-01T22:00:17.604Z"
   },
   {
    "duration": 582,
    "start_time": "2025-04-04T17:37:22.569Z"
   },
   {
    "duration": 203,
    "start_time": "2025-04-04T17:37:23.153Z"
   },
   {
    "duration": 14,
    "start_time": "2025-04-04T17:37:23.358Z"
   },
   {
    "duration": 10,
    "start_time": "2025-04-04T17:37:23.374Z"
   },
   {
    "duration": 9,
    "start_time": "2025-04-04T17:37:23.386Z"
   },
   {
    "duration": 14,
    "start_time": "2025-04-04T17:37:23.396Z"
   },
   {
    "duration": 4,
    "start_time": "2025-04-04T17:37:23.411Z"
   },
   {
    "duration": 3,
    "start_time": "2025-04-04T17:37:23.417Z"
   },
   {
    "duration": 3,
    "start_time": "2025-04-04T17:37:23.421Z"
   },
   {
    "duration": 3,
    "start_time": "2025-04-04T17:37:23.427Z"
   },
   {
    "duration": 2,
    "start_time": "2025-04-04T17:37:23.432Z"
   },
   {
    "duration": 3,
    "start_time": "2025-04-04T17:37:23.435Z"
   },
   {
    "duration": 3,
    "start_time": "2025-04-04T17:37:23.440Z"
   },
   {
    "duration": 3,
    "start_time": "2025-04-04T17:37:23.444Z"
   },
   {
    "duration": 4,
    "start_time": "2025-04-04T17:37:23.448Z"
   },
   {
    "duration": 4,
    "start_time": "2025-04-04T17:37:23.453Z"
   },
   {
    "duration": 2,
    "start_time": "2025-04-04T17:37:23.458Z"
   },
   {
    "duration": 47,
    "start_time": "2025-04-04T17:37:23.462Z"
   },
   {
    "duration": 2,
    "start_time": "2025-04-04T17:37:23.511Z"
   },
   {
    "duration": 2,
    "start_time": "2025-04-04T17:37:23.515Z"
   },
   {
    "duration": 3,
    "start_time": "2025-04-04T17:37:23.519Z"
   },
   {
    "duration": 2,
    "start_time": "2025-04-04T17:37:23.525Z"
   },
   {
    "duration": 4,
    "start_time": "2025-04-04T17:37:23.528Z"
   },
   {
    "duration": 3,
    "start_time": "2025-04-04T17:37:23.533Z"
   },
   {
    "duration": 3,
    "start_time": "2025-04-04T17:37:23.537Z"
   },
   {
    "duration": 3,
    "start_time": "2025-04-04T17:37:23.542Z"
   },
   {
    "duration": 3,
    "start_time": "2025-04-04T17:37:23.546Z"
   },
   {
    "duration": 2,
    "start_time": "2025-04-04T17:37:23.553Z"
   },
   {
    "duration": 2,
    "start_time": "2025-04-04T17:37:23.558Z"
   },
   {
    "duration": 9,
    "start_time": "2025-04-04T17:38:04.279Z"
   },
   {
    "duration": 17,
    "start_time": "2025-04-04T17:38:22.804Z"
   },
   {
    "duration": 17,
    "start_time": "2025-04-04T17:38:56.208Z"
   },
   {
    "duration": 6,
    "start_time": "2025-04-04T17:51:45.859Z"
   },
   {
    "duration": 235,
    "start_time": "2025-04-04T17:52:15.053Z"
   },
   {
    "duration": 10,
    "start_time": "2025-04-04T17:53:17.526Z"
   },
   {
    "duration": 12,
    "start_time": "2025-04-04T17:55:31.333Z"
   },
   {
    "duration": 3,
    "start_time": "2025-04-04T17:56:19.250Z"
   },
   {
    "duration": 4,
    "start_time": "2025-04-04T17:56:40.666Z"
   },
   {
    "duration": 17,
    "start_time": "2025-04-04T17:56:47.127Z"
   },
   {
    "duration": 10,
    "start_time": "2025-04-04T17:57:16.037Z"
   },
   {
    "duration": 12,
    "start_time": "2025-04-04T17:58:22.276Z"
   },
   {
    "duration": 14,
    "start_time": "2025-04-04T17:58:32.173Z"
   },
   {
    "duration": 13,
    "start_time": "2025-04-04T18:01:03.997Z"
   },
   {
    "duration": 13,
    "start_time": "2025-04-04T18:01:10.464Z"
   },
   {
    "duration": 26,
    "start_time": "2025-04-04T18:01:39.675Z"
   },
   {
    "duration": 18,
    "start_time": "2025-04-04T18:01:43.918Z"
   },
   {
    "duration": 7,
    "start_time": "2025-04-04T18:04:19.237Z"
   },
   {
    "duration": 396,
    "start_time": "2025-04-04T18:23:14.014Z"
   },
   {
    "duration": 29,
    "start_time": "2025-04-04T18:23:29.641Z"
   },
   {
    "duration": 23,
    "start_time": "2025-04-04T18:26:47.457Z"
   },
   {
    "duration": 15,
    "start_time": "2025-04-04T18:27:15.109Z"
   },
   {
    "duration": 19,
    "start_time": "2025-04-04T18:27:23.649Z"
   },
   {
    "duration": 14,
    "start_time": "2025-04-04T18:27:27.415Z"
   },
   {
    "duration": 13,
    "start_time": "2025-04-04T18:27:30.588Z"
   },
   {
    "duration": 15,
    "start_time": "2025-04-04T18:27:32.293Z"
   },
   {
    "duration": 15,
    "start_time": "2025-04-04T18:27:35.240Z"
   },
   {
    "duration": 14,
    "start_time": "2025-04-04T18:27:37.225Z"
   },
   {
    "duration": 14,
    "start_time": "2025-04-04T18:27:43.697Z"
   },
   {
    "duration": 17,
    "start_time": "2025-04-04T18:27:44.492Z"
   },
   {
    "duration": 14,
    "start_time": "2025-04-04T18:27:45.593Z"
   },
   {
    "duration": 14,
    "start_time": "2025-04-04T18:27:46.347Z"
   },
   {
    "duration": 17,
    "start_time": "2025-04-04T18:27:47.254Z"
   },
   {
    "duration": 17,
    "start_time": "2025-04-04T18:27:48.282Z"
   },
   {
    "duration": 14,
    "start_time": "2025-04-04T18:27:48.861Z"
   },
   {
    "duration": 14,
    "start_time": "2025-04-04T18:27:49.554Z"
   },
   {
    "duration": 15,
    "start_time": "2025-04-04T18:27:50.027Z"
   },
   {
    "duration": 15,
    "start_time": "2025-04-04T18:27:50.427Z"
   },
   {
    "duration": 13,
    "start_time": "2025-04-04T18:27:50.809Z"
   },
   {
    "duration": 13,
    "start_time": "2025-04-04T18:27:51.125Z"
   },
   {
    "duration": 14,
    "start_time": "2025-04-04T18:27:51.404Z"
   },
   {
    "duration": 16,
    "start_time": "2025-04-04T18:27:51.648Z"
   },
   {
    "duration": 13,
    "start_time": "2025-04-04T18:27:52.039Z"
   },
   {
    "duration": 13,
    "start_time": "2025-04-04T18:27:52.407Z"
   },
   {
    "duration": 13,
    "start_time": "2025-04-04T18:27:52.680Z"
   },
   {
    "duration": 13,
    "start_time": "2025-04-04T18:27:52.999Z"
   },
   {
    "duration": 14,
    "start_time": "2025-04-04T18:27:53.291Z"
   },
   {
    "duration": 13,
    "start_time": "2025-04-04T18:27:53.562Z"
   },
   {
    "duration": 14,
    "start_time": "2025-04-04T18:27:53.873Z"
   },
   {
    "duration": 13,
    "start_time": "2025-04-04T18:27:54.141Z"
   },
   {
    "duration": 14,
    "start_time": "2025-04-04T18:27:54.411Z"
   },
   {
    "duration": 13,
    "start_time": "2025-04-04T18:27:54.712Z"
   },
   {
    "duration": 13,
    "start_time": "2025-04-04T18:27:54.993Z"
   },
   {
    "duration": 15,
    "start_time": "2025-04-04T18:27:55.354Z"
   },
   {
    "duration": 15,
    "start_time": "2025-04-04T18:27:55.748Z"
   },
   {
    "duration": 14,
    "start_time": "2025-04-04T18:27:56.114Z"
   },
   {
    "duration": 13,
    "start_time": "2025-04-04T18:27:56.459Z"
   },
   {
    "duration": 14,
    "start_time": "2025-04-04T18:27:56.866Z"
   },
   {
    "duration": 13,
    "start_time": "2025-04-04T18:27:57.250Z"
   },
   {
    "duration": 14,
    "start_time": "2025-04-04T18:27:57.592Z"
   },
   {
    "duration": 14,
    "start_time": "2025-04-04T18:27:57.928Z"
   },
   {
    "duration": 16,
    "start_time": "2025-04-04T18:27:58.275Z"
   },
   {
    "duration": 15,
    "start_time": "2025-04-04T18:27:58.651Z"
   },
   {
    "duration": 14,
    "start_time": "2025-04-04T18:27:58.994Z"
   },
   {
    "duration": 14,
    "start_time": "2025-04-04T18:27:59.338Z"
   },
   {
    "duration": 15,
    "start_time": "2025-04-04T18:27:59.664Z"
   },
   {
    "duration": 15,
    "start_time": "2025-04-04T18:28:00.033Z"
   },
   {
    "duration": 13,
    "start_time": "2025-04-04T18:28:00.414Z"
   },
   {
    "duration": 14,
    "start_time": "2025-04-04T18:28:00.923Z"
   },
   {
    "duration": 15,
    "start_time": "2025-04-04T18:28:03.551Z"
   },
   {
    "duration": 14,
    "start_time": "2025-04-04T18:28:04.130Z"
   },
   {
    "duration": 13,
    "start_time": "2025-04-04T18:28:06.314Z"
   },
   {
    "duration": 616,
    "start_time": "2025-04-04T18:28:21.325Z"
   },
   {
    "duration": 159,
    "start_time": "2025-04-04T18:28:21.943Z"
   },
   {
    "duration": 13,
    "start_time": "2025-04-04T18:28:22.103Z"
   },
   {
    "duration": 9,
    "start_time": "2025-04-04T18:28:22.118Z"
   },
   {
    "duration": 9,
    "start_time": "2025-04-04T18:28:22.129Z"
   },
   {
    "duration": 8,
    "start_time": "2025-04-04T18:28:22.139Z"
   },
   {
    "duration": 16,
    "start_time": "2025-04-04T18:28:22.148Z"
   },
   {
    "duration": 45,
    "start_time": "2025-04-04T18:28:22.165Z"
   },
   {
    "duration": 15,
    "start_time": "2025-04-04T18:28:22.211Z"
   },
   {
    "duration": 6,
    "start_time": "2025-04-04T18:28:22.228Z"
   },
   {
    "duration": 28,
    "start_time": "2025-04-04T18:28:22.236Z"
   },
   {
    "duration": 80,
    "start_time": "2025-04-04T18:28:22.266Z"
   },
   {
    "duration": 2,
    "start_time": "2025-04-04T18:28:22.347Z"
   },
   {
    "duration": 2,
    "start_time": "2025-04-04T18:28:22.353Z"
   },
   {
    "duration": 2,
    "start_time": "2025-04-04T18:28:22.356Z"
   },
   {
    "duration": 2,
    "start_time": "2025-04-04T18:28:22.361Z"
   },
   {
    "duration": 2,
    "start_time": "2025-04-04T18:28:22.365Z"
   },
   {
    "duration": 2,
    "start_time": "2025-04-04T18:28:22.369Z"
   },
   {
    "duration": 3,
    "start_time": "2025-04-04T18:28:22.373Z"
   },
   {
    "duration": 2,
    "start_time": "2025-04-04T18:28:22.409Z"
   },
   {
    "duration": 3,
    "start_time": "2025-04-04T18:28:22.413Z"
   },
   {
    "duration": 2,
    "start_time": "2025-04-04T18:28:22.418Z"
   },
   {
    "duration": 3,
    "start_time": "2025-04-04T18:28:22.422Z"
   },
   {
    "duration": 2,
    "start_time": "2025-04-04T18:28:22.427Z"
   },
   {
    "duration": 3,
    "start_time": "2025-04-04T18:28:22.431Z"
   },
   {
    "duration": 3,
    "start_time": "2025-04-04T18:28:22.435Z"
   },
   {
    "duration": 3,
    "start_time": "2025-04-04T18:28:22.439Z"
   },
   {
    "duration": 2,
    "start_time": "2025-04-04T18:28:22.445Z"
   },
   {
    "duration": 2,
    "start_time": "2025-04-04T18:28:22.449Z"
   },
   {
    "duration": 3,
    "start_time": "2025-04-04T18:28:22.453Z"
   },
   {
    "duration": 2,
    "start_time": "2025-04-04T18:28:22.458Z"
   },
   {
    "duration": 2,
    "start_time": "2025-04-04T18:28:22.510Z"
   },
   {
    "duration": 13,
    "start_time": "2025-04-04T18:30:04.504Z"
   },
   {
    "duration": 199,
    "start_time": "2025-04-04T18:31:03.458Z"
   },
   {
    "duration": 6,
    "start_time": "2025-04-04T18:31:08.878Z"
   },
   {
    "duration": 20,
    "start_time": "2025-04-04T18:36:47.914Z"
   },
   {
    "duration": 28,
    "start_time": "2025-04-04T18:36:57.099Z"
   },
   {
    "duration": 14,
    "start_time": "2025-04-04T18:39:26.637Z"
   },
   {
    "duration": 17,
    "start_time": "2025-04-04T18:39:43.667Z"
   },
   {
    "duration": 25,
    "start_time": "2025-04-04T18:39:59.129Z"
   },
   {
    "duration": 19,
    "start_time": "2025-04-04T18:40:02.265Z"
   },
   {
    "duration": 58,
    "start_time": "2025-04-04T18:40:05.326Z"
   },
   {
    "duration": 23,
    "start_time": "2025-04-04T18:41:26.797Z"
   },
   {
    "duration": 16,
    "start_time": "2025-04-04T18:41:48.017Z"
   },
   {
    "duration": 6,
    "start_time": "2025-04-04T18:42:06.987Z"
   },
   {
    "duration": 25,
    "start_time": "2025-04-04T18:46:12.643Z"
   },
   {
    "duration": 21,
    "start_time": "2025-04-04T18:47:44.452Z"
   },
   {
    "duration": 640,
    "start_time": "2025-04-04T18:48:08.411Z"
   },
   {
    "duration": 167,
    "start_time": "2025-04-04T18:48:09.053Z"
   },
   {
    "duration": 13,
    "start_time": "2025-04-04T18:48:09.222Z"
   },
   {
    "duration": 8,
    "start_time": "2025-04-04T18:48:09.237Z"
   },
   {
    "duration": 9,
    "start_time": "2025-04-04T18:48:09.247Z"
   },
   {
    "duration": 8,
    "start_time": "2025-04-04T18:48:09.258Z"
   },
   {
    "duration": 46,
    "start_time": "2025-04-04T18:48:09.268Z"
   },
   {
    "duration": 13,
    "start_time": "2025-04-04T18:48:09.317Z"
   },
   {
    "duration": 16,
    "start_time": "2025-04-04T18:48:09.331Z"
   },
   {
    "duration": 6,
    "start_time": "2025-04-04T18:48:09.349Z"
   },
   {
    "duration": 57,
    "start_time": "2025-04-04T18:48:09.356Z"
   },
   {
    "duration": 60,
    "start_time": "2025-04-04T18:48:09.414Z"
   },
   {
    "duration": 13,
    "start_time": "2025-04-04T18:48:09.476Z"
   },
   {
    "duration": 22,
    "start_time": "2025-04-04T18:48:09.490Z"
   },
   {
    "duration": 20,
    "start_time": "2025-04-04T18:48:09.513Z"
   },
   {
    "duration": 19,
    "start_time": "2025-04-04T18:48:09.535Z"
   },
   {
    "duration": 14,
    "start_time": "2025-04-04T18:48:09.555Z"
   },
   {
    "duration": 6,
    "start_time": "2025-04-04T18:48:09.570Z"
   },
   {
    "duration": 23,
    "start_time": "2025-04-04T18:48:09.609Z"
   },
   {
    "duration": 19,
    "start_time": "2025-04-04T18:48:09.634Z"
   },
   {
    "duration": 2,
    "start_time": "2025-04-04T18:48:09.655Z"
   },
   {
    "duration": 3,
    "start_time": "2025-04-04T18:48:09.658Z"
   },
   {
    "duration": 3,
    "start_time": "2025-04-04T18:48:09.662Z"
   },
   {
    "duration": 4,
    "start_time": "2025-04-04T18:48:09.666Z"
   },
   {
    "duration": 4,
    "start_time": "2025-04-04T18:48:09.671Z"
   },
   {
    "duration": 3,
    "start_time": "2025-04-04T18:48:09.676Z"
   },
   {
    "duration": 2,
    "start_time": "2025-04-04T18:48:09.709Z"
   },
   {
    "duration": 2,
    "start_time": "2025-04-04T18:48:09.715Z"
   },
   {
    "duration": 2,
    "start_time": "2025-04-04T18:48:09.719Z"
   },
   {
    "duration": 2,
    "start_time": "2025-04-04T18:48:09.723Z"
   },
   {
    "duration": 4,
    "start_time": "2025-04-04T18:48:09.726Z"
   },
   {
    "duration": 3,
    "start_time": "2025-04-04T18:48:09.731Z"
   },
   {
    "duration": 3,
    "start_time": "2025-04-04T18:48:09.735Z"
   },
   {
    "duration": 2,
    "start_time": "2025-04-04T18:48:09.740Z"
   },
   {
    "duration": 3,
    "start_time": "2025-04-04T18:48:09.743Z"
   },
   {
    "duration": 3,
    "start_time": "2025-04-04T18:48:09.748Z"
   },
   {
    "duration": 7,
    "start_time": "2025-04-04T22:27:38.079Z"
   },
   {
    "duration": 12,
    "start_time": "2025-04-04T23:01:55.569Z"
   },
   {
    "duration": 18,
    "start_time": "2025-04-04T23:02:32.484Z"
   },
   {
    "duration": 12,
    "start_time": "2025-04-04T23:03:04.324Z"
   },
   {
    "duration": 16,
    "start_time": "2025-04-04T23:03:27.789Z"
   },
   {
    "duration": 632,
    "start_time": "2025-04-04T23:03:38.009Z"
   },
   {
    "duration": 159,
    "start_time": "2025-04-04T23:03:38.643Z"
   },
   {
    "duration": 15,
    "start_time": "2025-04-04T23:03:38.804Z"
   },
   {
    "duration": 8,
    "start_time": "2025-04-04T23:03:38.822Z"
   },
   {
    "duration": 12,
    "start_time": "2025-04-04T23:03:38.832Z"
   },
   {
    "duration": 9,
    "start_time": "2025-04-04T23:03:38.845Z"
   },
   {
    "duration": 16,
    "start_time": "2025-04-04T23:03:38.855Z"
   },
   {
    "duration": 44,
    "start_time": "2025-04-04T23:03:38.873Z"
   },
   {
    "duration": 19,
    "start_time": "2025-04-04T23:03:38.919Z"
   },
   {
    "duration": 6,
    "start_time": "2025-04-04T23:03:38.941Z"
   },
   {
    "duration": 28,
    "start_time": "2025-04-04T23:03:38.949Z"
   },
   {
    "duration": 37,
    "start_time": "2025-04-04T23:03:38.979Z"
   },
   {
    "duration": 13,
    "start_time": "2025-04-04T23:03:39.018Z"
   },
   {
    "duration": 7,
    "start_time": "2025-04-04T23:03:39.032Z"
   },
   {
    "duration": 20,
    "start_time": "2025-04-04T23:03:39.040Z"
   },
   {
    "duration": 11,
    "start_time": "2025-04-04T23:03:39.062Z"
   },
   {
    "duration": 49,
    "start_time": "2025-04-04T23:03:39.074Z"
   },
   {
    "duration": 6,
    "start_time": "2025-04-04T23:03:39.125Z"
   },
   {
    "duration": 24,
    "start_time": "2025-04-04T23:03:39.133Z"
   },
   {
    "duration": 13,
    "start_time": "2025-04-04T23:03:39.158Z"
   },
   {
    "duration": 6,
    "start_time": "2025-04-04T23:03:39.173Z"
   },
   {
    "duration": 2,
    "start_time": "2025-04-04T23:03:39.211Z"
   },
   {
    "duration": 2,
    "start_time": "2025-04-04T23:03:39.215Z"
   },
   {
    "duration": 3,
    "start_time": "2025-04-04T23:03:39.219Z"
   },
   {
    "duration": 3,
    "start_time": "2025-04-04T23:03:39.223Z"
   },
   {
    "duration": 2,
    "start_time": "2025-04-04T23:03:39.228Z"
   },
   {
    "duration": 2,
    "start_time": "2025-04-04T23:03:39.267Z"
   },
   {
    "duration": 2,
    "start_time": "2025-04-04T23:03:39.273Z"
   },
   {
    "duration": 3,
    "start_time": "2025-04-04T23:03:39.277Z"
   },
   {
    "duration": 3,
    "start_time": "2025-04-04T23:03:39.309Z"
   },
   {
    "duration": 2,
    "start_time": "2025-04-04T23:03:39.314Z"
   },
   {
    "duration": 2,
    "start_time": "2025-04-04T23:03:39.318Z"
   },
   {
    "duration": 2,
    "start_time": "2025-04-04T23:03:39.322Z"
   },
   {
    "duration": 2,
    "start_time": "2025-04-04T23:03:39.326Z"
   },
   {
    "duration": 2,
    "start_time": "2025-04-04T23:03:39.330Z"
   },
   {
    "duration": 3,
    "start_time": "2025-04-04T23:03:39.334Z"
   },
   {
    "duration": 13,
    "start_time": "2025-04-04T23:32:30.575Z"
   },
   {
    "duration": 6,
    "start_time": "2025-04-04T23:33:33.452Z"
   },
   {
    "duration": 30,
    "start_time": "2025-04-04T23:34:45.783Z"
   },
   {
    "duration": 14,
    "start_time": "2025-04-04T23:36:51.723Z"
   },
   {
    "duration": 35,
    "start_time": "2025-04-04T23:38:19.689Z"
   },
   {
    "duration": 265,
    "start_time": "2025-04-04T23:42:11.956Z"
   },
   {
    "duration": 18,
    "start_time": "2025-04-04T23:42:42.701Z"
   },
   {
    "duration": 19,
    "start_time": "2025-04-04T23:45:35.269Z"
   },
   {
    "duration": 19,
    "start_time": "2025-04-04T23:45:55.671Z"
   },
   {
    "duration": 919,
    "start_time": "2025-04-04T23:48:00.165Z"
   },
   {
    "duration": 75,
    "start_time": "2025-04-04T23:48:31.624Z"
   },
   {
    "duration": 18,
    "start_time": "2025-04-04T23:49:50.872Z"
   },
   {
    "duration": 16,
    "start_time": "2025-04-04T23:49:59.131Z"
   },
   {
    "duration": 15,
    "start_time": "2025-04-04T23:50:03.277Z"
   },
   {
    "duration": 15,
    "start_time": "2025-04-04T23:51:06.359Z"
   },
   {
    "duration": 604,
    "start_time": "2025-04-05T00:19:44.440Z"
   },
   {
    "duration": 160,
    "start_time": "2025-04-05T00:19:45.046Z"
   },
   {
    "duration": 16,
    "start_time": "2025-04-05T00:19:45.208Z"
   },
   {
    "duration": 9,
    "start_time": "2025-04-05T00:19:45.227Z"
   },
   {
    "duration": 9,
    "start_time": "2025-04-05T00:19:45.239Z"
   },
   {
    "duration": 6,
    "start_time": "2025-04-05T00:19:45.249Z"
   },
   {
    "duration": 7,
    "start_time": "2025-04-05T00:19:45.257Z"
   },
   {
    "duration": 54,
    "start_time": "2025-04-05T00:19:45.266Z"
   },
   {
    "duration": 12,
    "start_time": "2025-04-05T00:19:45.321Z"
   },
   {
    "duration": 15,
    "start_time": "2025-04-05T00:19:45.335Z"
   },
   {
    "duration": 58,
    "start_time": "2025-04-05T00:19:45.352Z"
   },
   {
    "duration": 6,
    "start_time": "2025-04-05T00:19:45.412Z"
   },
   {
    "duration": 30,
    "start_time": "2025-04-05T00:19:45.420Z"
   },
   {
    "duration": 15,
    "start_time": "2025-04-05T00:19:45.453Z"
   },
   {
    "duration": 42,
    "start_time": "2025-04-05T00:19:45.470Z"
   },
   {
    "duration": 16,
    "start_time": "2025-04-05T00:19:45.513Z"
   },
   {
    "duration": 6,
    "start_time": "2025-04-05T00:19:45.531Z"
   },
   {
    "duration": 18,
    "start_time": "2025-04-05T00:19:45.539Z"
   },
   {
    "duration": 11,
    "start_time": "2025-04-05T00:19:45.559Z"
   },
   {
    "duration": 45,
    "start_time": "2025-04-05T00:19:45.571Z"
   },
   {
    "duration": 34,
    "start_time": "2025-04-05T00:19:45.618Z"
   },
   {
    "duration": 6,
    "start_time": "2025-04-05T00:19:45.654Z"
   },
   {
    "duration": 47,
    "start_time": "2025-04-05T00:19:45.662Z"
   },
   {
    "duration": 14,
    "start_time": "2025-04-05T00:19:45.710Z"
   },
   {
    "duration": 8,
    "start_time": "2025-04-05T00:19:45.725Z"
   },
   {
    "duration": 52,
    "start_time": "2025-04-05T00:19:45.734Z"
   },
   {
    "duration": 13,
    "start_time": "2025-04-05T00:19:45.809Z"
   },
   {
    "duration": 11,
    "start_time": "2025-04-05T00:19:45.823Z"
   },
   {
    "duration": 2,
    "start_time": "2025-04-05T00:19:45.836Z"
   },
   {
    "duration": 3,
    "start_time": "2025-04-05T00:19:45.839Z"
   },
   {
    "duration": 2,
    "start_time": "2025-04-05T00:19:45.844Z"
   },
   {
    "duration": 2,
    "start_time": "2025-04-05T00:19:45.848Z"
   },
   {
    "duration": 2,
    "start_time": "2025-04-05T00:19:45.853Z"
   },
   {
    "duration": 3,
    "start_time": "2025-04-05T00:19:45.857Z"
   },
   {
    "duration": 3,
    "start_time": "2025-04-05T00:19:45.862Z"
   },
   {
    "duration": 2,
    "start_time": "2025-04-05T00:19:45.868Z"
   },
   {
    "duration": 39,
    "start_time": "2025-04-05T00:19:45.871Z"
   },
   {
    "duration": 2,
    "start_time": "2025-04-05T00:19:45.912Z"
   },
   {
    "duration": 3,
    "start_time": "2025-04-05T00:19:45.916Z"
   },
   {
    "duration": 2,
    "start_time": "2025-04-05T00:19:45.921Z"
   },
   {
    "duration": 13,
    "start_time": "2025-04-05T00:25:41.591Z"
   },
   {
    "duration": 9,
    "start_time": "2025-04-05T00:46:54.987Z"
   },
   {
    "duration": 10,
    "start_time": "2025-04-05T00:47:25.100Z"
   },
   {
    "duration": 10,
    "start_time": "2025-04-05T00:47:27.630Z"
   },
   {
    "duration": 12,
    "start_time": "2025-04-05T00:47:48.480Z"
   },
   {
    "duration": 9,
    "start_time": "2025-04-05T00:47:54.359Z"
   },
   {
    "duration": 10,
    "start_time": "2025-04-05T00:47:58.867Z"
   },
   {
    "duration": 10,
    "start_time": "2025-04-05T00:48:01.636Z"
   },
   {
    "duration": 9,
    "start_time": "2025-04-05T00:48:03.307Z"
   },
   {
    "duration": 157,
    "start_time": "2025-04-05T03:17:51.218Z"
   },
   {
    "duration": 637,
    "start_time": "2025-04-05T03:17:58.324Z"
   },
   {
    "duration": 215,
    "start_time": "2025-04-05T03:17:58.963Z"
   },
   {
    "duration": 13,
    "start_time": "2025-04-05T03:17:59.180Z"
   },
   {
    "duration": 8,
    "start_time": "2025-04-05T03:17:59.195Z"
   },
   {
    "duration": 10,
    "start_time": "2025-04-05T03:17:59.204Z"
   },
   {
    "duration": 5,
    "start_time": "2025-04-05T03:17:59.216Z"
   },
   {
    "duration": 7,
    "start_time": "2025-04-05T03:17:59.223Z"
   },
   {
    "duration": 49,
    "start_time": "2025-04-05T03:17:59.232Z"
   },
   {
    "duration": 12,
    "start_time": "2025-04-05T03:17:59.282Z"
   },
   {
    "duration": 16,
    "start_time": "2025-04-05T03:17:59.297Z"
   },
   {
    "duration": 30,
    "start_time": "2025-04-05T03:17:59.315Z"
   },
   {
    "duration": 30,
    "start_time": "2025-04-05T03:17:59.346Z"
   },
   {
    "duration": 29,
    "start_time": "2025-04-05T03:17:59.378Z"
   },
   {
    "duration": 17,
    "start_time": "2025-04-05T03:17:59.409Z"
   },
   {
    "duration": 13,
    "start_time": "2025-04-05T03:17:59.428Z"
   },
   {
    "duration": 15,
    "start_time": "2025-04-05T03:17:59.469Z"
   },
   {
    "duration": 6,
    "start_time": "2025-04-05T03:17:59.486Z"
   },
   {
    "duration": 20,
    "start_time": "2025-04-05T03:17:59.493Z"
   },
   {
    "duration": 11,
    "start_time": "2025-04-05T03:17:59.514Z"
   },
   {
    "duration": 45,
    "start_time": "2025-04-05T03:17:59.527Z"
   },
   {
    "duration": 36,
    "start_time": "2025-04-05T03:17:59.574Z"
   },
   {
    "duration": 6,
    "start_time": "2025-04-05T03:17:59.612Z"
   },
   {
    "duration": 79,
    "start_time": "2025-04-05T03:17:59.620Z"
   },
   {
    "duration": 13,
    "start_time": "2025-04-05T03:17:59.702Z"
   },
   {
    "duration": 8,
    "start_time": "2025-04-05T03:17:59.717Z"
   },
   {
    "duration": 17,
    "start_time": "2025-04-05T03:17:59.727Z"
   },
   {
    "duration": 34,
    "start_time": "2025-04-05T03:17:59.746Z"
   },
   {
    "duration": 12,
    "start_time": "2025-04-05T03:17:59.784Z"
   },
   {
    "duration": 11,
    "start_time": "2025-04-05T03:17:59.797Z"
   },
   {
    "duration": 625,
    "start_time": "2025-04-05T03:17:59.809Z"
   },
   {
    "duration": 0,
    "start_time": "2025-04-05T03:18:00.436Z"
   },
   {
    "duration": 0,
    "start_time": "2025-04-05T03:18:00.438Z"
   },
   {
    "duration": 0,
    "start_time": "2025-04-05T03:18:00.440Z"
   },
   {
    "duration": 0,
    "start_time": "2025-04-05T03:18:00.441Z"
   },
   {
    "duration": 0,
    "start_time": "2025-04-05T03:18:00.442Z"
   },
   {
    "duration": 0,
    "start_time": "2025-04-05T03:18:00.443Z"
   },
   {
    "duration": 0,
    "start_time": "2025-04-05T03:18:00.444Z"
   },
   {
    "duration": 0,
    "start_time": "2025-04-05T03:18:00.445Z"
   },
   {
    "duration": 0,
    "start_time": "2025-04-05T03:18:00.446Z"
   },
   {
    "duration": 0,
    "start_time": "2025-04-05T03:18:00.447Z"
   },
   {
    "duration": 7,
    "start_time": "2025-04-05T03:18:49.230Z"
   },
   {
    "duration": 15,
    "start_time": "2025-04-05T03:26:13.298Z"
   },
   {
    "duration": 15,
    "start_time": "2025-04-05T03:28:30.106Z"
   },
   {
    "duration": 7,
    "start_time": "2025-04-05T03:29:50.765Z"
   },
   {
    "duration": 15,
    "start_time": "2025-04-05T03:32:37.069Z"
   },
   {
    "duration": 15,
    "start_time": "2025-04-05T03:35:08.252Z"
   },
   {
    "duration": 11,
    "start_time": "2025-04-05T03:35:17.719Z"
   },
   {
    "duration": 12,
    "start_time": "2025-04-05T03:57:08.424Z"
   },
   {
    "duration": 13,
    "start_time": "2025-04-05T03:57:19.832Z"
   },
   {
    "duration": 14,
    "start_time": "2025-04-05T03:57:41.671Z"
   },
   {
    "duration": 631,
    "start_time": "2025-04-05T03:57:58.076Z"
   },
   {
    "duration": 162,
    "start_time": "2025-04-05T03:57:58.709Z"
   },
   {
    "duration": 13,
    "start_time": "2025-04-05T03:57:58.873Z"
   },
   {
    "duration": 8,
    "start_time": "2025-04-05T03:57:58.889Z"
   },
   {
    "duration": 8,
    "start_time": "2025-04-05T03:57:58.899Z"
   },
   {
    "duration": 6,
    "start_time": "2025-04-05T03:57:58.909Z"
   },
   {
    "duration": 8,
    "start_time": "2025-04-05T03:57:58.917Z"
   },
   {
    "duration": 50,
    "start_time": "2025-04-05T03:57:58.927Z"
   },
   {
    "duration": 12,
    "start_time": "2025-04-05T03:57:58.979Z"
   },
   {
    "duration": 16,
    "start_time": "2025-04-05T03:57:58.994Z"
   },
   {
    "duration": 29,
    "start_time": "2025-04-05T03:57:59.012Z"
   },
   {
    "duration": 32,
    "start_time": "2025-04-05T03:57:59.043Z"
   },
   {
    "duration": 30,
    "start_time": "2025-04-05T03:57:59.076Z"
   },
   {
    "duration": 16,
    "start_time": "2025-04-05T03:57:59.107Z"
   },
   {
    "duration": 13,
    "start_time": "2025-04-05T03:57:59.125Z"
   },
   {
    "duration": 39,
    "start_time": "2025-04-05T03:57:59.139Z"
   },
   {
    "duration": 8,
    "start_time": "2025-04-05T03:57:59.180Z"
   },
   {
    "duration": 18,
    "start_time": "2025-04-05T03:57:59.190Z"
   },
   {
    "duration": 10,
    "start_time": "2025-04-05T03:57:59.210Z"
   },
   {
    "duration": 14,
    "start_time": "2025-04-05T03:57:59.222Z"
   },
   {
    "duration": 69,
    "start_time": "2025-04-05T03:57:59.237Z"
   },
   {
    "duration": 6,
    "start_time": "2025-04-05T03:57:59.308Z"
   },
   {
    "duration": 25,
    "start_time": "2025-04-05T03:57:59.315Z"
   },
   {
    "duration": 39,
    "start_time": "2025-04-05T03:57:59.342Z"
   },
   {
    "duration": 7,
    "start_time": "2025-04-05T03:57:59.382Z"
   },
   {
    "duration": 50,
    "start_time": "2025-04-05T03:57:59.391Z"
   },
   {
    "duration": 31,
    "start_time": "2025-04-05T03:57:59.443Z"
   },
   {
    "duration": 14,
    "start_time": "2025-04-05T03:57:59.477Z"
   },
   {
    "duration": 10,
    "start_time": "2025-04-05T03:57:59.492Z"
   },
   {
    "duration": 11,
    "start_time": "2025-04-05T03:57:59.504Z"
   },
   {
    "duration": 2,
    "start_time": "2025-04-05T03:57:59.516Z"
   },
   {
    "duration": 4,
    "start_time": "2025-04-05T03:57:59.519Z"
   },
   {
    "duration": 4,
    "start_time": "2025-04-05T03:57:59.524Z"
   },
   {
    "duration": 3,
    "start_time": "2025-04-05T03:57:59.529Z"
   },
   {
    "duration": 2,
    "start_time": "2025-04-05T03:57:59.571Z"
   },
   {
    "duration": 3,
    "start_time": "2025-04-05T03:57:59.574Z"
   },
   {
    "duration": 3,
    "start_time": "2025-04-05T03:57:59.579Z"
   },
   {
    "duration": 3,
    "start_time": "2025-04-05T03:57:59.584Z"
   },
   {
    "duration": 3,
    "start_time": "2025-04-05T03:57:59.588Z"
   },
   {
    "duration": 4,
    "start_time": "2025-04-05T03:57:59.592Z"
   },
   {
    "duration": 575,
    "start_time": "2025-04-05T03:59:23.529Z"
   },
   {
    "duration": 162,
    "start_time": "2025-04-05T03:59:24.106Z"
   },
   {
    "duration": 14,
    "start_time": "2025-04-05T03:59:24.270Z"
   },
   {
    "duration": 8,
    "start_time": "2025-04-05T03:59:24.287Z"
   },
   {
    "duration": 9,
    "start_time": "2025-04-05T03:59:24.296Z"
   },
   {
    "duration": 5,
    "start_time": "2025-04-05T03:59:24.307Z"
   },
   {
    "duration": 8,
    "start_time": "2025-04-05T03:59:24.314Z"
   },
   {
    "duration": 56,
    "start_time": "2025-04-05T03:59:24.323Z"
   },
   {
    "duration": 13,
    "start_time": "2025-04-05T03:59:24.380Z"
   },
   {
    "duration": 15,
    "start_time": "2025-04-05T03:59:24.396Z"
   },
   {
    "duration": 29,
    "start_time": "2025-04-05T03:59:24.413Z"
   },
   {
    "duration": 6,
    "start_time": "2025-04-05T03:59:24.444Z"
   },
   {
    "duration": 35,
    "start_time": "2025-04-05T03:59:24.470Z"
   },
   {
    "duration": 64,
    "start_time": "2025-04-05T03:59:24.507Z"
   },
   {
    "duration": 15,
    "start_time": "2025-04-05T03:59:24.573Z"
   },
   {
    "duration": 16,
    "start_time": "2025-04-05T03:59:24.590Z"
   },
   {
    "duration": 6,
    "start_time": "2025-04-05T03:59:24.607Z"
   },
   {
    "duration": 21,
    "start_time": "2025-04-05T03:59:24.615Z"
   },
   {
    "duration": 41,
    "start_time": "2025-04-05T03:59:24.637Z"
   },
   {
    "duration": 14,
    "start_time": "2025-04-05T03:59:24.679Z"
   },
   {
    "duration": 36,
    "start_time": "2025-04-05T03:59:24.694Z"
   },
   {
    "duration": 7,
    "start_time": "2025-04-05T03:59:24.732Z"
   },
   {
    "duration": 58,
    "start_time": "2025-04-05T03:59:24.740Z"
   },
   {
    "duration": 13,
    "start_time": "2025-04-05T03:59:24.799Z"
   },
   {
    "duration": 6,
    "start_time": "2025-04-05T03:59:24.814Z"
   },
   {
    "duration": 72,
    "start_time": "2025-04-05T03:59:24.822Z"
   },
   {
    "duration": 13,
    "start_time": "2025-04-05T03:59:24.896Z"
   },
   {
    "duration": 13,
    "start_time": "2025-04-05T03:59:24.913Z"
   },
   {
    "duration": 9,
    "start_time": "2025-04-05T03:59:24.927Z"
   },
   {
    "duration": 34,
    "start_time": "2025-04-05T03:59:24.938Z"
   },
   {
    "duration": 2,
    "start_time": "2025-04-05T03:59:24.976Z"
   },
   {
    "duration": 2,
    "start_time": "2025-04-05T03:59:24.980Z"
   },
   {
    "duration": 3,
    "start_time": "2025-04-05T03:59:24.984Z"
   },
   {
    "duration": 2,
    "start_time": "2025-04-05T03:59:24.989Z"
   },
   {
    "duration": 2,
    "start_time": "2025-04-05T03:59:24.993Z"
   },
   {
    "duration": 3,
    "start_time": "2025-04-05T03:59:24.997Z"
   },
   {
    "duration": 3,
    "start_time": "2025-04-05T03:59:25.002Z"
   },
   {
    "duration": 2,
    "start_time": "2025-04-05T03:59:25.007Z"
   },
   {
    "duration": 3,
    "start_time": "2025-04-05T03:59:25.011Z"
   },
   {
    "duration": 6,
    "start_time": "2025-04-05T03:59:25.015Z"
   },
   {
    "duration": 206,
    "start_time": "2025-04-05T04:01:22.245Z"
   },
   {
    "duration": 13,
    "start_time": "2025-04-05T04:01:30.030Z"
   },
   {
    "duration": 16,
    "start_time": "2025-04-05T04:03:07.531Z"
   },
   {
    "duration": 14,
    "start_time": "2025-04-05T04:04:09.301Z"
   },
   {
    "duration": 636,
    "start_time": "2025-04-05T04:04:19.042Z"
   },
   {
    "duration": 159,
    "start_time": "2025-04-05T04:04:19.680Z"
   },
   {
    "duration": 13,
    "start_time": "2025-04-05T04:04:19.841Z"
   },
   {
    "duration": 17,
    "start_time": "2025-04-05T04:04:19.856Z"
   },
   {
    "duration": 11,
    "start_time": "2025-04-05T04:04:19.875Z"
   },
   {
    "duration": 5,
    "start_time": "2025-04-05T04:04:19.888Z"
   },
   {
    "duration": 7,
    "start_time": "2025-04-05T04:04:19.895Z"
   },
   {
    "duration": 16,
    "start_time": "2025-04-05T04:04:19.904Z"
   },
   {
    "duration": 12,
    "start_time": "2025-04-05T04:04:19.921Z"
   },
   {
    "duration": 17,
    "start_time": "2025-04-05T04:04:19.969Z"
   },
   {
    "duration": 30,
    "start_time": "2025-04-05T04:04:19.988Z"
   },
   {
    "duration": 6,
    "start_time": "2025-04-05T04:04:20.020Z"
   },
   {
    "duration": 54,
    "start_time": "2025-04-05T04:04:20.028Z"
   },
   {
    "duration": 18,
    "start_time": "2025-04-05T04:04:20.084Z"
   },
   {
    "duration": 12,
    "start_time": "2025-04-05T04:04:20.104Z"
   },
   {
    "duration": 15,
    "start_time": "2025-04-05T04:04:20.118Z"
   },
   {
    "duration": 36,
    "start_time": "2025-04-05T04:04:20.135Z"
   },
   {
    "duration": 21,
    "start_time": "2025-04-05T04:04:20.173Z"
   },
   {
    "duration": 11,
    "start_time": "2025-04-05T04:04:20.195Z"
   },
   {
    "duration": 16,
    "start_time": "2025-04-05T04:04:20.207Z"
   },
   {
    "duration": 61,
    "start_time": "2025-04-05T04:04:20.225Z"
   },
   {
    "duration": 7,
    "start_time": "2025-04-05T04:04:20.287Z"
   },
   {
    "duration": 24,
    "start_time": "2025-04-05T04:04:20.295Z"
   },
   {
    "duration": 16,
    "start_time": "2025-04-05T04:04:20.321Z"
   },
   {
    "duration": 32,
    "start_time": "2025-04-05T04:04:20.339Z"
   },
   {
    "duration": 51,
    "start_time": "2025-04-05T04:04:20.373Z"
   },
   {
    "duration": 15,
    "start_time": "2025-04-05T04:04:20.426Z"
   },
   {
    "duration": 32,
    "start_time": "2025-04-05T04:04:20.444Z"
   },
   {
    "duration": 10,
    "start_time": "2025-04-05T04:04:20.477Z"
   },
   {
    "duration": 7,
    "start_time": "2025-04-05T04:04:20.488Z"
   },
   {
    "duration": 10,
    "start_time": "2025-04-05T04:04:20.497Z"
   },
   {
    "duration": 9,
    "start_time": "2025-04-05T04:04:20.508Z"
   },
   {
    "duration": 8,
    "start_time": "2025-04-05T04:04:20.518Z"
   },
   {
    "duration": 42,
    "start_time": "2025-04-05T04:04:20.528Z"
   },
   {
    "duration": 2,
    "start_time": "2025-04-05T04:04:20.571Z"
   },
   {
    "duration": 3,
    "start_time": "2025-04-05T04:04:20.575Z"
   },
   {
    "duration": 3,
    "start_time": "2025-04-05T04:04:20.579Z"
   },
   {
    "duration": 4,
    "start_time": "2025-04-05T04:04:20.583Z"
   },
   {
    "duration": 2,
    "start_time": "2025-04-05T04:04:20.589Z"
   },
   {
    "duration": 3,
    "start_time": "2025-04-05T04:04:20.593Z"
   },
   {
    "duration": 3,
    "start_time": "2025-04-05T04:04:20.598Z"
   },
   {
    "duration": 4,
    "start_time": "2025-04-05T04:04:20.603Z"
   },
   {
    "duration": 3,
    "start_time": "2025-04-05T04:04:20.608Z"
   },
   {
    "duration": 20,
    "start_time": "2025-04-05T04:08:29.361Z"
   },
   {
    "duration": 698,
    "start_time": "2025-04-05T04:08:38.103Z"
   },
   {
    "duration": 161,
    "start_time": "2025-04-05T04:08:38.803Z"
   },
   {
    "duration": 13,
    "start_time": "2025-04-05T04:08:38.966Z"
   },
   {
    "duration": 9,
    "start_time": "2025-04-05T04:08:38.982Z"
   },
   {
    "duration": 9,
    "start_time": "2025-04-05T04:08:38.993Z"
   },
   {
    "duration": 5,
    "start_time": "2025-04-05T04:08:39.004Z"
   },
   {
    "duration": 8,
    "start_time": "2025-04-05T04:08:39.011Z"
   },
   {
    "duration": 50,
    "start_time": "2025-04-05T04:08:39.020Z"
   },
   {
    "duration": 13,
    "start_time": "2025-04-05T04:08:39.072Z"
   },
   {
    "duration": 17,
    "start_time": "2025-04-05T04:08:39.087Z"
   },
   {
    "duration": 30,
    "start_time": "2025-04-05T04:08:39.106Z"
   },
   {
    "duration": 32,
    "start_time": "2025-04-05T04:08:39.138Z"
   },
   {
    "duration": 30,
    "start_time": "2025-04-05T04:08:39.172Z"
   },
   {
    "duration": 18,
    "start_time": "2025-04-05T04:08:39.204Z"
   },
   {
    "duration": 14,
    "start_time": "2025-04-05T04:08:39.224Z"
   },
   {
    "duration": 42,
    "start_time": "2025-04-05T04:08:39.239Z"
   },
   {
    "duration": 6,
    "start_time": "2025-04-05T04:08:39.282Z"
   },
   {
    "duration": 21,
    "start_time": "2025-04-05T04:08:39.290Z"
   },
   {
    "duration": 10,
    "start_time": "2025-04-05T04:08:39.314Z"
   },
   {
    "duration": 44,
    "start_time": "2025-04-05T04:08:39.326Z"
   },
   {
    "duration": 37,
    "start_time": "2025-04-05T04:08:39.371Z"
   },
   {
    "duration": 7,
    "start_time": "2025-04-05T04:08:39.410Z"
   },
   {
    "duration": 30,
    "start_time": "2025-04-05T04:08:39.419Z"
   },
   {
    "duration": 17,
    "start_time": "2025-04-05T04:08:39.471Z"
   },
   {
    "duration": 44,
    "start_time": "2025-04-05T04:08:39.490Z"
   },
   {
    "duration": 38,
    "start_time": "2025-04-05T04:08:39.536Z"
   },
   {
    "duration": 15,
    "start_time": "2025-04-05T04:08:39.576Z"
   },
   {
    "duration": 12,
    "start_time": "2025-04-05T04:08:39.595Z"
   },
   {
    "duration": 11,
    "start_time": "2025-04-05T04:08:39.609Z"
   },
   {
    "duration": 7,
    "start_time": "2025-04-05T04:08:39.622Z"
   },
   {
    "duration": 42,
    "start_time": "2025-04-05T04:08:39.630Z"
   },
   {
    "duration": 9,
    "start_time": "2025-04-05T04:08:39.674Z"
   },
   {
    "duration": 9,
    "start_time": "2025-04-05T04:08:39.685Z"
   },
   {
    "duration": 19,
    "start_time": "2025-04-05T04:08:39.695Z"
   },
   {
    "duration": 2,
    "start_time": "2025-04-05T04:08:39.716Z"
   },
   {
    "duration": 4,
    "start_time": "2025-04-05T04:08:39.719Z"
   },
   {
    "duration": 3,
    "start_time": "2025-04-05T04:08:39.724Z"
   },
   {
    "duration": 2,
    "start_time": "2025-04-05T04:08:39.729Z"
   },
   {
    "duration": 3,
    "start_time": "2025-04-05T04:08:39.769Z"
   },
   {
    "duration": 2,
    "start_time": "2025-04-05T04:08:39.774Z"
   },
   {
    "duration": 2,
    "start_time": "2025-04-05T04:08:39.778Z"
   },
   {
    "duration": 3,
    "start_time": "2025-04-05T04:08:39.782Z"
   },
   {
    "duration": 2,
    "start_time": "2025-04-05T04:08:39.787Z"
   },
   {
    "duration": 19,
    "start_time": "2025-04-05T04:09:01.944Z"
   },
   {
    "duration": 19,
    "start_time": "2025-04-05T04:09:57.521Z"
   },
   {
    "duration": 21,
    "start_time": "2025-04-05T04:10:19.939Z"
   },
   {
    "duration": 19,
    "start_time": "2025-04-05T04:12:14.884Z"
   },
   {
    "duration": 18,
    "start_time": "2025-04-05T04:14:13.591Z"
   },
   {
    "duration": 11,
    "start_time": "2025-04-05T04:15:12.871Z"
   },
   {
    "duration": 12,
    "start_time": "2025-04-05T04:15:16.814Z"
   },
   {
    "duration": 122,
    "start_time": "2025-04-05T04:21:42.715Z"
   },
   {
    "duration": 20,
    "start_time": "2025-04-05T04:22:40.430Z"
   },
   {
    "duration": 14,
    "start_time": "2025-04-05T04:24:27.093Z"
   },
   {
    "duration": 20,
    "start_time": "2025-04-05T04:26:01.120Z"
   },
   {
    "duration": 25,
    "start_time": "2025-04-05T04:26:47.864Z"
   },
   {
    "duration": 635,
    "start_time": "2025-04-05T04:27:07.782Z"
   },
   {
    "duration": 154,
    "start_time": "2025-04-05T04:27:08.419Z"
   },
   {
    "duration": 12,
    "start_time": "2025-04-05T04:27:08.575Z"
   },
   {
    "duration": 9,
    "start_time": "2025-04-05T04:27:08.589Z"
   },
   {
    "duration": 9,
    "start_time": "2025-04-05T04:27:08.600Z"
   },
   {
    "duration": 7,
    "start_time": "2025-04-05T04:27:08.611Z"
   },
   {
    "duration": 11,
    "start_time": "2025-04-05T04:27:08.619Z"
   },
   {
    "duration": 51,
    "start_time": "2025-04-05T04:27:08.631Z"
   },
   {
    "duration": 12,
    "start_time": "2025-04-05T04:27:08.684Z"
   },
   {
    "duration": 16,
    "start_time": "2025-04-05T04:27:08.697Z"
   },
   {
    "duration": 29,
    "start_time": "2025-04-05T04:27:08.715Z"
   },
   {
    "duration": 7,
    "start_time": "2025-04-05T04:27:08.770Z"
   },
   {
    "duration": 29,
    "start_time": "2025-04-05T04:27:08.778Z"
   },
   {
    "duration": 17,
    "start_time": "2025-04-05T04:27:08.812Z"
   },
   {
    "duration": 40,
    "start_time": "2025-04-05T04:27:08.830Z"
   },
   {
    "duration": 15,
    "start_time": "2025-04-05T04:27:08.871Z"
   },
   {
    "duration": 5,
    "start_time": "2025-04-05T04:27:08.888Z"
   },
   {
    "duration": 20,
    "start_time": "2025-04-05T04:27:08.895Z"
   },
   {
    "duration": 11,
    "start_time": "2025-04-05T04:27:08.917Z"
   },
   {
    "duration": 42,
    "start_time": "2025-04-05T04:27:08.929Z"
   },
   {
    "duration": 35,
    "start_time": "2025-04-05T04:27:08.972Z"
   },
   {
    "duration": 7,
    "start_time": "2025-04-05T04:27:09.009Z"
   },
   {
    "duration": 80,
    "start_time": "2025-04-05T04:27:09.017Z"
   },
   {
    "duration": 14,
    "start_time": "2025-04-05T04:27:09.099Z"
   },
   {
    "duration": 7,
    "start_time": "2025-04-05T04:27:09.114Z"
   },
   {
    "duration": 18,
    "start_time": "2025-04-05T04:27:09.122Z"
   },
   {
    "duration": 39,
    "start_time": "2025-04-05T04:27:09.142Z"
   },
   {
    "duration": 11,
    "start_time": "2025-04-05T04:27:09.183Z"
   },
   {
    "duration": 10,
    "start_time": "2025-04-05T04:27:09.197Z"
   },
   {
    "duration": 6,
    "start_time": "2025-04-05T04:27:09.209Z"
   },
   {
    "duration": 9,
    "start_time": "2025-04-05T04:27:09.217Z"
   },
   {
    "duration": 10,
    "start_time": "2025-04-05T04:27:09.228Z"
   },
   {
    "duration": 9,
    "start_time": "2025-04-05T04:27:09.271Z"
   },
   {
    "duration": 18,
    "start_time": "2025-04-05T04:27:09.282Z"
   },
   {
    "duration": 9,
    "start_time": "2025-04-05T04:27:09.301Z"
   },
   {
    "duration": 20,
    "start_time": "2025-04-05T04:27:09.311Z"
   },
   {
    "duration": 3,
    "start_time": "2025-04-05T04:27:09.332Z"
   },
   {
    "duration": 34,
    "start_time": "2025-04-05T04:27:09.336Z"
   },
   {
    "duration": 2,
    "start_time": "2025-04-05T04:27:09.372Z"
   },
   {
    "duration": 3,
    "start_time": "2025-04-05T04:27:09.375Z"
   },
   {
    "duration": 2,
    "start_time": "2025-04-05T04:27:09.383Z"
   },
   {
    "duration": 2,
    "start_time": "2025-04-05T04:27:09.387Z"
   },
   {
    "duration": 3,
    "start_time": "2025-04-05T04:27:09.391Z"
   },
   {
    "duration": 3,
    "start_time": "2025-04-05T04:27:09.395Z"
   },
   {
    "duration": 4,
    "start_time": "2025-04-05T04:27:09.399Z"
   },
   {
    "duration": 20,
    "start_time": "2025-04-05T04:28:22.868Z"
   },
   {
    "duration": 644,
    "start_time": "2025-04-05T04:28:38.406Z"
   },
   {
    "duration": 158,
    "start_time": "2025-04-05T04:28:39.053Z"
   },
   {
    "duration": 13,
    "start_time": "2025-04-05T04:28:39.213Z"
   },
   {
    "duration": 9,
    "start_time": "2025-04-05T04:28:39.228Z"
   },
   {
    "duration": 10,
    "start_time": "2025-04-05T04:28:39.238Z"
   },
   {
    "duration": 5,
    "start_time": "2025-04-05T04:28:39.270Z"
   },
   {
    "duration": 8,
    "start_time": "2025-04-05T04:28:39.277Z"
   },
   {
    "duration": 17,
    "start_time": "2025-04-05T04:28:39.287Z"
   },
   {
    "duration": 12,
    "start_time": "2025-04-05T04:28:39.305Z"
   },
   {
    "duration": 18,
    "start_time": "2025-04-05T04:28:39.321Z"
   },
   {
    "duration": 61,
    "start_time": "2025-04-05T04:28:39.340Z"
   },
   {
    "duration": 6,
    "start_time": "2025-04-05T04:28:39.403Z"
   },
   {
    "duration": 30,
    "start_time": "2025-04-05T04:28:39.410Z"
   },
   {
    "duration": 41,
    "start_time": "2025-04-05T04:28:39.442Z"
   },
   {
    "duration": 13,
    "start_time": "2025-04-05T04:28:39.485Z"
   },
   {
    "duration": 16,
    "start_time": "2025-04-05T04:28:39.499Z"
   },
   {
    "duration": 6,
    "start_time": "2025-04-05T04:28:39.517Z"
   },
   {
    "duration": 51,
    "start_time": "2025-04-05T04:28:39.525Z"
   },
   {
    "duration": 10,
    "start_time": "2025-04-05T04:28:39.578Z"
   },
   {
    "duration": 14,
    "start_time": "2025-04-05T04:28:39.589Z"
   },
   {
    "duration": 36,
    "start_time": "2025-04-05T04:28:39.605Z"
   },
   {
    "duration": 31,
    "start_time": "2025-04-05T04:28:39.642Z"
   },
   {
    "duration": 60,
    "start_time": "2025-04-05T04:28:39.675Z"
   },
   {
    "duration": 14,
    "start_time": "2025-04-05T04:28:39.737Z"
   },
   {
    "duration": 7,
    "start_time": "2025-04-05T04:28:39.771Z"
   },
   {
    "duration": 18,
    "start_time": "2025-04-05T04:28:39.779Z"
   },
   {
    "duration": 14,
    "start_time": "2025-04-05T04:28:39.799Z"
   },
   {
    "duration": 12,
    "start_time": "2025-04-05T04:28:39.816Z"
   },
   {
    "duration": 10,
    "start_time": "2025-04-05T04:28:39.829Z"
   },
   {
    "duration": 35,
    "start_time": "2025-04-05T04:28:39.841Z"
   },
   {
    "duration": 11,
    "start_time": "2025-04-05T04:28:39.877Z"
   },
   {
    "duration": 9,
    "start_time": "2025-04-05T04:28:39.889Z"
   },
   {
    "duration": 10,
    "start_time": "2025-04-05T04:28:39.899Z"
   },
   {
    "duration": 18,
    "start_time": "2025-04-05T04:28:39.910Z"
   },
   {
    "duration": 9,
    "start_time": "2025-04-05T04:28:39.931Z"
   },
   {
    "duration": 14,
    "start_time": "2025-04-05T04:28:39.971Z"
   },
   {
    "duration": 2,
    "start_time": "2025-04-05T04:28:39.987Z"
   },
   {
    "duration": 3,
    "start_time": "2025-04-05T04:28:39.991Z"
   },
   {
    "duration": 4,
    "start_time": "2025-04-05T04:28:39.995Z"
   },
   {
    "duration": 3,
    "start_time": "2025-04-05T04:28:40.000Z"
   },
   {
    "duration": 3,
    "start_time": "2025-04-05T04:28:40.005Z"
   },
   {
    "duration": 3,
    "start_time": "2025-04-05T04:28:40.010Z"
   },
   {
    "duration": 3,
    "start_time": "2025-04-05T04:28:40.014Z"
   },
   {
    "duration": 3,
    "start_time": "2025-04-05T04:28:40.018Z"
   },
   {
    "duration": 46,
    "start_time": "2025-04-05T04:28:40.024Z"
   },
   {
    "duration": 24,
    "start_time": "2025-04-05T04:31:34.365Z"
   },
   {
    "duration": 645,
    "start_time": "2025-04-05T04:31:57.829Z"
   },
   {
    "duration": 153,
    "start_time": "2025-04-05T04:31:58.478Z"
   },
   {
    "duration": 13,
    "start_time": "2025-04-05T04:31:58.633Z"
   },
   {
    "duration": 20,
    "start_time": "2025-04-05T04:31:58.649Z"
   },
   {
    "duration": 10,
    "start_time": "2025-04-05T04:31:58.671Z"
   },
   {
    "duration": 6,
    "start_time": "2025-04-05T04:31:58.683Z"
   },
   {
    "duration": 8,
    "start_time": "2025-04-05T04:31:58.691Z"
   },
   {
    "duration": 17,
    "start_time": "2025-04-05T04:31:58.701Z"
   },
   {
    "duration": 13,
    "start_time": "2025-04-05T04:31:58.719Z"
   },
   {
    "duration": 19,
    "start_time": "2025-04-05T04:31:58.769Z"
   },
   {
    "duration": 29,
    "start_time": "2025-04-05T04:31:58.791Z"
   },
   {
    "duration": 8,
    "start_time": "2025-04-05T04:31:58.822Z"
   },
   {
    "duration": 49,
    "start_time": "2025-04-05T04:31:58.832Z"
   },
   {
    "duration": 17,
    "start_time": "2025-04-05T04:31:58.883Z"
   },
   {
    "duration": 14,
    "start_time": "2025-04-05T04:31:58.902Z"
   },
   {
    "duration": 15,
    "start_time": "2025-04-05T04:31:58.918Z"
   },
   {
    "duration": 8,
    "start_time": "2025-04-05T04:31:58.936Z"
   },
   {
    "duration": 21,
    "start_time": "2025-04-05T04:31:58.969Z"
   },
   {
    "duration": 11,
    "start_time": "2025-04-05T04:31:58.992Z"
   },
   {
    "duration": 17,
    "start_time": "2025-04-05T04:31:59.005Z"
   },
   {
    "duration": 57,
    "start_time": "2025-04-05T04:31:59.025Z"
   },
   {
    "duration": 7,
    "start_time": "2025-04-05T04:31:59.084Z"
   },
   {
    "duration": 26,
    "start_time": "2025-04-05T04:31:59.093Z"
   },
   {
    "duration": 14,
    "start_time": "2025-04-05T04:31:59.120Z"
   },
   {
    "duration": 7,
    "start_time": "2025-04-05T04:31:59.136Z"
   },
   {
    "duration": 55,
    "start_time": "2025-04-05T04:31:59.169Z"
   },
   {
    "duration": 18,
    "start_time": "2025-04-05T04:31:59.230Z"
   },
   {
    "duration": 30,
    "start_time": "2025-04-05T04:31:59.253Z"
   },
   {
    "duration": 13,
    "start_time": "2025-04-05T04:31:59.285Z"
   },
   {
    "duration": 7,
    "start_time": "2025-04-05T04:31:59.300Z"
   },
   {
    "duration": 11,
    "start_time": "2025-04-05T04:31:59.309Z"
   },
   {
    "duration": 9,
    "start_time": "2025-04-05T04:31:59.322Z"
   },
   {
    "duration": 38,
    "start_time": "2025-04-05T04:31:59.333Z"
   },
   {
    "duration": 20,
    "start_time": "2025-04-05T04:31:59.373Z"
   },
   {
    "duration": 10,
    "start_time": "2025-04-05T04:31:59.395Z"
   },
   {
    "duration": 17,
    "start_time": "2025-04-05T04:31:59.407Z"
   },
   {
    "duration": 2,
    "start_time": "2025-04-05T04:31:59.425Z"
   },
   {
    "duration": 3,
    "start_time": "2025-04-05T04:31:59.429Z"
   },
   {
    "duration": 3,
    "start_time": "2025-04-05T04:31:59.434Z"
   },
   {
    "duration": 2,
    "start_time": "2025-04-05T04:31:59.439Z"
   },
   {
    "duration": 2,
    "start_time": "2025-04-05T04:31:59.471Z"
   },
   {
    "duration": 2,
    "start_time": "2025-04-05T04:31:59.475Z"
   },
   {
    "duration": 3,
    "start_time": "2025-04-05T04:31:59.479Z"
   },
   {
    "duration": 2,
    "start_time": "2025-04-05T04:31:59.484Z"
   },
   {
    "duration": 3,
    "start_time": "2025-04-05T04:31:59.488Z"
   },
   {
    "duration": 635,
    "start_time": "2025-04-05T04:32:54.486Z"
   },
   {
    "duration": 163,
    "start_time": "2025-04-05T04:32:55.123Z"
   },
   {
    "duration": 12,
    "start_time": "2025-04-05T04:32:55.288Z"
   },
   {
    "duration": 8,
    "start_time": "2025-04-05T04:32:55.303Z"
   },
   {
    "duration": 9,
    "start_time": "2025-04-05T04:32:55.312Z"
   },
   {
    "duration": 6,
    "start_time": "2025-04-05T04:32:55.322Z"
   },
   {
    "duration": 7,
    "start_time": "2025-04-05T04:32:55.330Z"
   },
   {
    "duration": 15,
    "start_time": "2025-04-05T04:32:55.371Z"
   },
   {
    "duration": 12,
    "start_time": "2025-04-05T04:32:55.388Z"
   },
   {
    "duration": 16,
    "start_time": "2025-04-05T04:32:55.403Z"
   },
   {
    "duration": 54,
    "start_time": "2025-04-05T04:32:55.420Z"
   },
   {
    "duration": 7,
    "start_time": "2025-04-05T04:32:55.476Z"
   },
   {
    "duration": 29,
    "start_time": "2025-04-05T04:32:55.485Z"
   },
   {
    "duration": 16,
    "start_time": "2025-04-05T04:32:55.516Z"
   },
   {
    "duration": 41,
    "start_time": "2025-04-05T04:32:55.534Z"
   },
   {
    "duration": 15,
    "start_time": "2025-04-05T04:32:55.577Z"
   },
   {
    "duration": 5,
    "start_time": "2025-04-05T04:32:55.594Z"
   },
   {
    "duration": 21,
    "start_time": "2025-04-05T04:32:55.601Z"
   },
   {
    "duration": 10,
    "start_time": "2025-04-05T04:32:55.624Z"
   },
   {
    "duration": 42,
    "start_time": "2025-04-05T04:32:55.636Z"
   },
   {
    "duration": 35,
    "start_time": "2025-04-05T04:32:55.680Z"
   },
   {
    "duration": 8,
    "start_time": "2025-04-05T04:32:55.717Z"
   },
   {
    "duration": 44,
    "start_time": "2025-04-05T04:32:55.726Z"
   },
   {
    "duration": 14,
    "start_time": "2025-04-05T04:32:55.772Z"
   },
   {
    "duration": 7,
    "start_time": "2025-04-05T04:32:55.787Z"
   },
   {
    "duration": 50,
    "start_time": "2025-04-05T04:32:55.796Z"
   },
   {
    "duration": 35,
    "start_time": "2025-04-05T04:32:55.847Z"
   },
   {
    "duration": 11,
    "start_time": "2025-04-05T04:32:55.887Z"
   },
   {
    "duration": 11,
    "start_time": "2025-04-05T04:32:55.899Z"
   },
   {
    "duration": 6,
    "start_time": "2025-04-05T04:32:55.911Z"
   },
   {
    "duration": 8,
    "start_time": "2025-04-05T04:32:55.919Z"
   },
   {
    "duration": 45,
    "start_time": "2025-04-05T04:32:55.929Z"
   },
   {
    "duration": 8,
    "start_time": "2025-04-05T04:32:55.976Z"
   },
   {
    "duration": 17,
    "start_time": "2025-04-05T04:32:55.986Z"
   },
   {
    "duration": 9,
    "start_time": "2025-04-05T04:32:56.004Z"
   },
   {
    "duration": 15,
    "start_time": "2025-04-05T04:32:56.014Z"
   },
   {
    "duration": 3,
    "start_time": "2025-04-05T04:32:56.031Z"
   },
   {
    "duration": 4,
    "start_time": "2025-04-05T04:32:56.035Z"
   },
   {
    "duration": 2,
    "start_time": "2025-04-05T04:32:56.071Z"
   },
   {
    "duration": 3,
    "start_time": "2025-04-05T04:32:56.075Z"
   },
   {
    "duration": 3,
    "start_time": "2025-04-05T04:32:56.080Z"
   },
   {
    "duration": 4,
    "start_time": "2025-04-05T04:32:56.084Z"
   },
   {
    "duration": 4,
    "start_time": "2025-04-05T04:32:56.089Z"
   },
   {
    "duration": 3,
    "start_time": "2025-04-05T04:32:56.095Z"
   },
   {
    "duration": 4,
    "start_time": "2025-04-05T04:32:56.099Z"
   },
   {
    "duration": 20,
    "start_time": "2025-04-05T04:33:58.860Z"
   },
   {
    "duration": 22,
    "start_time": "2025-04-05T04:36:22.410Z"
   },
   {
    "duration": 14,
    "start_time": "2025-04-05T04:36:47.726Z"
   },
   {
    "duration": 23,
    "start_time": "2025-04-05T04:36:57.408Z"
   },
   {
    "duration": 24,
    "start_time": "2025-04-05T04:37:04.386Z"
   },
   {
    "duration": 20,
    "start_time": "2025-04-05T04:37:19.616Z"
   },
   {
    "duration": 22,
    "start_time": "2025-04-05T04:37:31.388Z"
   },
   {
    "duration": 21,
    "start_time": "2025-04-05T04:37:56.373Z"
   },
   {
    "duration": 4,
    "start_time": "2025-04-05T04:40:00.897Z"
   },
   {
    "duration": 13,
    "start_time": "2025-04-05T04:40:48.711Z"
   },
   {
    "duration": 574,
    "start_time": "2025-04-05T04:41:04.835Z"
   },
   {
    "duration": 159,
    "start_time": "2025-04-05T04:41:05.411Z"
   },
   {
    "duration": 12,
    "start_time": "2025-04-05T04:41:05.572Z"
   },
   {
    "duration": 8,
    "start_time": "2025-04-05T04:41:05.587Z"
   },
   {
    "duration": 9,
    "start_time": "2025-04-05T04:41:05.597Z"
   },
   {
    "duration": 5,
    "start_time": "2025-04-05T04:41:05.608Z"
   },
   {
    "duration": 8,
    "start_time": "2025-04-05T04:41:05.614Z"
   },
   {
    "duration": 47,
    "start_time": "2025-04-05T04:41:05.624Z"
   },
   {
    "duration": 12,
    "start_time": "2025-04-05T04:41:05.673Z"
   },
   {
    "duration": 15,
    "start_time": "2025-04-05T04:41:05.689Z"
   },
   {
    "duration": 31,
    "start_time": "2025-04-05T04:41:05.706Z"
   },
   {
    "duration": 36,
    "start_time": "2025-04-05T04:41:05.739Z"
   },
   {
    "duration": 30,
    "start_time": "2025-04-05T04:41:05.777Z"
   },
   {
    "duration": 16,
    "start_time": "2025-04-05T04:41:05.808Z"
   },
   {
    "duration": 13,
    "start_time": "2025-04-05T04:41:05.826Z"
   },
   {
    "duration": 42,
    "start_time": "2025-04-05T04:41:05.841Z"
   },
   {
    "duration": 5,
    "start_time": "2025-04-05T04:41:05.885Z"
   },
   {
    "duration": 19,
    "start_time": "2025-04-05T04:41:05.892Z"
   },
   {
    "duration": 10,
    "start_time": "2025-04-05T04:41:05.914Z"
   },
   {
    "duration": 45,
    "start_time": "2025-04-05T04:41:05.925Z"
   },
   {
    "duration": 38,
    "start_time": "2025-04-05T04:41:05.973Z"
   },
   {
    "duration": 7,
    "start_time": "2025-04-05T04:41:06.012Z"
   },
   {
    "duration": 25,
    "start_time": "2025-04-05T04:41:06.021Z"
   },
   {
    "duration": 14,
    "start_time": "2025-04-05T04:41:06.070Z"
   },
   {
    "duration": 38,
    "start_time": "2025-04-05T04:41:06.085Z"
   },
   {
    "duration": 18,
    "start_time": "2025-04-05T04:41:06.125Z"
   },
   {
    "duration": 31,
    "start_time": "2025-04-05T04:41:06.145Z"
   },
   {
    "duration": 12,
    "start_time": "2025-04-05T04:41:06.181Z"
   },
   {
    "duration": 11,
    "start_time": "2025-04-05T04:41:06.194Z"
   },
   {
    "duration": 10,
    "start_time": "2025-04-05T04:41:06.207Z"
   },
   {
    "duration": 242,
    "start_time": "2025-04-05T04:41:06.218Z"
   },
   {
    "duration": 0,
    "start_time": "2025-04-05T04:41:06.462Z"
   },
   {
    "duration": 0,
    "start_time": "2025-04-05T04:41:06.463Z"
   },
   {
    "duration": 0,
    "start_time": "2025-04-05T04:41:06.469Z"
   },
   {
    "duration": 0,
    "start_time": "2025-04-05T04:41:06.471Z"
   },
   {
    "duration": 1,
    "start_time": "2025-04-05T04:41:06.472Z"
   },
   {
    "duration": 0,
    "start_time": "2025-04-05T04:41:06.474Z"
   },
   {
    "duration": 0,
    "start_time": "2025-04-05T04:41:06.476Z"
   },
   {
    "duration": 0,
    "start_time": "2025-04-05T04:41:06.477Z"
   },
   {
    "duration": 0,
    "start_time": "2025-04-05T04:41:06.478Z"
   },
   {
    "duration": 0,
    "start_time": "2025-04-05T04:41:06.479Z"
   },
   {
    "duration": 0,
    "start_time": "2025-04-05T04:41:06.480Z"
   },
   {
    "duration": 0,
    "start_time": "2025-04-05T04:41:06.481Z"
   },
   {
    "duration": 0,
    "start_time": "2025-04-05T04:41:06.484Z"
   },
   {
    "duration": 0,
    "start_time": "2025-04-05T04:41:06.485Z"
   },
   {
    "duration": 11,
    "start_time": "2025-04-05T04:42:06.363Z"
   },
   {
    "duration": 15,
    "start_time": "2025-04-05T04:43:27.980Z"
   },
   {
    "duration": 15,
    "start_time": "2025-04-05T04:44:01.961Z"
   },
   {
    "duration": 14,
    "start_time": "2025-04-05T04:44:04.143Z"
   },
   {
    "duration": 15,
    "start_time": "2025-04-05T04:44:04.853Z"
   },
   {
    "duration": 14,
    "start_time": "2025-04-05T04:44:05.204Z"
   },
   {
    "duration": 14,
    "start_time": "2025-04-05T04:44:05.505Z"
   },
   {
    "duration": 15,
    "start_time": "2025-04-05T04:44:05.900Z"
   },
   {
    "duration": 13,
    "start_time": "2025-04-05T04:44:06.830Z"
   },
   {
    "duration": 13,
    "start_time": "2025-04-05T04:44:28.801Z"
   },
   {
    "duration": 16,
    "start_time": "2025-04-05T04:44:36.111Z"
   },
   {
    "duration": 13,
    "start_time": "2025-04-05T04:46:58.690Z"
   },
   {
    "duration": 13,
    "start_time": "2025-04-05T04:47:17.703Z"
   },
   {
    "duration": 17,
    "start_time": "2025-04-05T04:47:26.167Z"
   },
   {
    "duration": 14,
    "start_time": "2025-04-05T04:49:29.430Z"
   },
   {
    "duration": 13,
    "start_time": "2025-04-05T04:49:32.932Z"
   },
   {
    "duration": 13,
    "start_time": "2025-04-05T04:49:34.102Z"
   },
   {
    "duration": 15,
    "start_time": "2025-04-05T04:49:40.258Z"
   },
   {
    "duration": 16,
    "start_time": "2025-04-05T04:51:07.501Z"
   },
   {
    "duration": 14,
    "start_time": "2025-04-05T04:51:08.589Z"
   },
   {
    "duration": 14,
    "start_time": "2025-04-05T04:51:14.517Z"
   },
   {
    "duration": 14,
    "start_time": "2025-04-05T04:51:22.802Z"
   },
   {
    "duration": 14,
    "start_time": "2025-04-05T04:55:09.356Z"
   },
   {
    "duration": 15,
    "start_time": "2025-04-05T04:55:18.646Z"
   },
   {
    "duration": 11,
    "start_time": "2025-04-05T04:59:54.509Z"
   },
   {
    "duration": 342,
    "start_time": "2025-04-05T05:06:46.683Z"
   },
   {
    "duration": 13,
    "start_time": "2025-04-05T05:07:01.218Z"
   },
   {
    "duration": 16,
    "start_time": "2025-04-05T05:13:49.648Z"
   },
   {
    "duration": 162,
    "start_time": "2025-04-06T20:10:01.906Z"
   },
   {
    "duration": 2575,
    "start_time": "2025-04-06T20:10:09.424Z"
   },
   {
    "duration": 228,
    "start_time": "2025-04-06T20:10:12.002Z"
   },
   {
    "duration": 12,
    "start_time": "2025-04-06T20:10:12.232Z"
   },
   {
    "duration": 10,
    "start_time": "2025-04-06T20:10:12.246Z"
   },
   {
    "duration": 10,
    "start_time": "2025-04-06T20:10:12.257Z"
   },
   {
    "duration": 5,
    "start_time": "2025-04-06T20:10:12.269Z"
   },
   {
    "duration": 9,
    "start_time": "2025-04-06T20:10:12.275Z"
   },
   {
    "duration": 37,
    "start_time": "2025-04-06T20:10:12.285Z"
   },
   {
    "duration": 9,
    "start_time": "2025-04-06T20:10:12.324Z"
   },
   {
    "duration": 15,
    "start_time": "2025-04-06T20:10:12.337Z"
   },
   {
    "duration": 51,
    "start_time": "2025-04-06T20:10:12.355Z"
   },
   {
    "duration": 33,
    "start_time": "2025-04-06T20:10:12.408Z"
   },
   {
    "duration": 7,
    "start_time": "2025-04-06T20:10:12.443Z"
   },
   {
    "duration": 30,
    "start_time": "2025-04-06T20:10:12.452Z"
   },
   {
    "duration": 17,
    "start_time": "2025-04-06T20:10:12.505Z"
   },
   {
    "duration": 13,
    "start_time": "2025-04-06T20:10:12.524Z"
   },
   {
    "duration": 16,
    "start_time": "2025-04-06T20:10:12.539Z"
   },
   {
    "duration": 6,
    "start_time": "2025-04-06T20:10:12.557Z"
   },
   {
    "duration": 53,
    "start_time": "2025-04-06T20:10:12.565Z"
   },
   {
    "duration": 11,
    "start_time": "2025-04-06T20:10:12.619Z"
   },
   {
    "duration": 14,
    "start_time": "2025-04-06T20:10:12.632Z"
   },
   {
    "duration": 60,
    "start_time": "2025-04-06T20:10:12.648Z"
   },
   {
    "duration": 7,
    "start_time": "2025-04-06T20:10:12.710Z"
   },
   {
    "duration": 26,
    "start_time": "2025-04-06T20:10:12.719Z"
   },
   {
    "duration": 14,
    "start_time": "2025-04-06T20:10:12.747Z"
   },
   {
    "duration": 7,
    "start_time": "2025-04-06T20:10:12.763Z"
   },
   {
    "duration": 47,
    "start_time": "2025-04-06T20:10:12.772Z"
   },
   {
    "duration": 14,
    "start_time": "2025-04-06T20:10:12.824Z"
   },
   {
    "duration": 13,
    "start_time": "2025-04-06T20:10:12.839Z"
   },
   {
    "duration": 10,
    "start_time": "2025-04-06T20:10:12.853Z"
   },
   {
    "duration": 49,
    "start_time": "2025-04-06T20:10:12.864Z"
   },
   {
    "duration": 12,
    "start_time": "2025-04-06T20:10:12.915Z"
   },
   {
    "duration": 14,
    "start_time": "2025-04-06T20:10:12.929Z"
   },
   {
    "duration": 3,
    "start_time": "2025-04-06T20:10:12.945Z"
   },
   {
    "duration": 3,
    "start_time": "2025-04-06T20:10:12.949Z"
   },
   {
    "duration": 3,
    "start_time": "2025-04-06T20:10:12.954Z"
   },
   {
    "duration": 3,
    "start_time": "2025-04-06T20:10:12.958Z"
   },
   {
    "duration": 4,
    "start_time": "2025-04-06T20:10:12.962Z"
   },
   {
    "duration": 2,
    "start_time": "2025-04-06T20:10:12.968Z"
   },
   {
    "duration": 3,
    "start_time": "2025-04-06T20:10:13.004Z"
   },
   {
    "duration": 4,
    "start_time": "2025-04-06T20:10:13.008Z"
   },
   {
    "duration": 4,
    "start_time": "2025-04-06T20:10:13.014Z"
   },
   {
    "duration": 743,
    "start_time": "2025-04-06T20:19:49.296Z"
   },
   {
    "duration": 160,
    "start_time": "2025-04-06T20:19:50.041Z"
   },
   {
    "duration": 12,
    "start_time": "2025-04-06T20:19:50.202Z"
   },
   {
    "duration": 8,
    "start_time": "2025-04-06T20:19:50.217Z"
   },
   {
    "duration": 8,
    "start_time": "2025-04-06T20:19:50.228Z"
   },
   {
    "duration": 4,
    "start_time": "2025-04-06T20:19:50.238Z"
   },
   {
    "duration": 8,
    "start_time": "2025-04-06T20:19:50.244Z"
   },
   {
    "duration": 15,
    "start_time": "2025-04-06T20:19:50.253Z"
   },
   {
    "duration": 10,
    "start_time": "2025-04-06T20:19:50.306Z"
   },
   {
    "duration": 12,
    "start_time": "2025-04-06T20:19:50.320Z"
   },
   {
    "duration": 15,
    "start_time": "2025-04-06T20:19:50.334Z"
   },
   {
    "duration": 56,
    "start_time": "2025-04-06T20:19:50.351Z"
   },
   {
    "duration": 7,
    "start_time": "2025-04-06T20:19:50.409Z"
   },
   {
    "duration": 30,
    "start_time": "2025-04-06T20:19:50.418Z"
   },
   {
    "duration": 17,
    "start_time": "2025-04-06T20:19:50.450Z"
   },
   {
    "duration": 38,
    "start_time": "2025-04-06T20:19:50.469Z"
   },
   {
    "duration": 15,
    "start_time": "2025-04-06T20:19:50.508Z"
   },
   {
    "duration": 6,
    "start_time": "2025-04-06T20:19:50.526Z"
   },
   {
    "duration": 19,
    "start_time": "2025-04-06T20:19:50.534Z"
   },
   {
    "duration": 12,
    "start_time": "2025-04-06T20:19:50.555Z"
   },
   {
    "duration": 48,
    "start_time": "2025-04-06T20:19:50.569Z"
   },
   {
    "duration": 34,
    "start_time": "2025-04-06T20:19:50.619Z"
   },
   {
    "duration": 6,
    "start_time": "2025-04-06T20:19:50.655Z"
   },
   {
    "duration": 46,
    "start_time": "2025-04-06T20:19:50.662Z"
   },
   {
    "duration": 15,
    "start_time": "2025-04-06T20:19:50.709Z"
   },
   {
    "duration": 6,
    "start_time": "2025-04-06T20:19:50.725Z"
   },
   {
    "duration": 20,
    "start_time": "2025-04-06T20:19:50.733Z"
   },
   {
    "duration": 20,
    "start_time": "2025-04-06T20:19:50.757Z"
   },
   {
    "duration": 14,
    "start_time": "2025-04-06T20:19:50.805Z"
   },
   {
    "duration": 12,
    "start_time": "2025-04-06T20:19:50.820Z"
   },
   {
    "duration": 13,
    "start_time": "2025-04-06T20:19:50.834Z"
   },
   {
    "duration": 12,
    "start_time": "2025-04-06T20:19:50.849Z"
   },
   {
    "duration": 44,
    "start_time": "2025-04-06T20:19:50.862Z"
   },
   {
    "duration": 4,
    "start_time": "2025-04-06T20:19:50.907Z"
   },
   {
    "duration": 2,
    "start_time": "2025-04-06T20:19:50.913Z"
   },
   {
    "duration": 3,
    "start_time": "2025-04-06T20:19:50.917Z"
   },
   {
    "duration": 3,
    "start_time": "2025-04-06T20:19:50.921Z"
   },
   {
    "duration": 3,
    "start_time": "2025-04-06T20:19:50.926Z"
   },
   {
    "duration": 3,
    "start_time": "2025-04-06T20:19:50.931Z"
   },
   {
    "duration": 3,
    "start_time": "2025-04-06T20:19:50.936Z"
   },
   {
    "duration": 3,
    "start_time": "2025-04-06T20:19:50.940Z"
   },
   {
    "duration": 3,
    "start_time": "2025-04-06T20:19:50.945Z"
   },
   {
    "duration": 18,
    "start_time": "2025-04-06T20:20:20.764Z"
   },
   {
    "duration": 15,
    "start_time": "2025-04-06T20:20:32.450Z"
   },
   {
    "duration": 15,
    "start_time": "2025-04-06T20:20:41.083Z"
   },
   {
    "duration": 11,
    "start_time": "2025-04-06T20:21:37.222Z"
   },
   {
    "duration": 11,
    "start_time": "2025-04-06T20:21:50.328Z"
   },
   {
    "duration": 10,
    "start_time": "2025-04-06T20:26:45.852Z"
   },
   {
    "duration": 11,
    "start_time": "2025-04-06T20:27:55.603Z"
   },
   {
    "duration": 10,
    "start_time": "2025-04-06T20:32:16.375Z"
   },
   {
    "duration": 12,
    "start_time": "2025-04-06T20:32:22.070Z"
   },
   {
    "duration": 12,
    "start_time": "2025-04-06T20:33:38.515Z"
   },
   {
    "duration": 840,
    "start_time": "2025-04-06T20:33:53.517Z"
   },
   {
    "duration": 169,
    "start_time": "2025-04-06T20:33:54.360Z"
   },
   {
    "duration": 11,
    "start_time": "2025-04-06T20:33:54.531Z"
   },
   {
    "duration": 8,
    "start_time": "2025-04-06T20:33:54.545Z"
   },
   {
    "duration": 10,
    "start_time": "2025-04-06T20:33:54.555Z"
   },
   {
    "duration": 6,
    "start_time": "2025-04-06T20:33:54.567Z"
   },
   {
    "duration": 31,
    "start_time": "2025-04-06T20:33:54.575Z"
   },
   {
    "duration": 18,
    "start_time": "2025-04-06T20:33:54.607Z"
   },
   {
    "duration": 10,
    "start_time": "2025-04-06T20:33:54.627Z"
   },
   {
    "duration": 13,
    "start_time": "2025-04-06T20:33:54.640Z"
   },
   {
    "duration": 25,
    "start_time": "2025-04-06T20:33:54.656Z"
   },
   {
    "duration": 60,
    "start_time": "2025-04-06T20:33:54.683Z"
   },
   {
    "duration": 7,
    "start_time": "2025-04-06T20:33:54.745Z"
   },
   {
    "duration": 55,
    "start_time": "2025-04-06T20:33:54.754Z"
   },
   {
    "duration": 17,
    "start_time": "2025-04-06T20:33:54.811Z"
   },
   {
    "duration": 14,
    "start_time": "2025-04-06T20:33:54.830Z"
   },
   {
    "duration": 16,
    "start_time": "2025-04-06T20:33:54.846Z"
   },
   {
    "duration": 7,
    "start_time": "2025-04-06T20:33:54.863Z"
   },
   {
    "duration": 21,
    "start_time": "2025-04-06T20:33:54.906Z"
   },
   {
    "duration": 10,
    "start_time": "2025-04-06T20:33:54.929Z"
   },
   {
    "duration": 16,
    "start_time": "2025-04-06T20:33:54.942Z"
   },
   {
    "duration": 65,
    "start_time": "2025-04-06T20:33:54.960Z"
   },
   {
    "duration": 6,
    "start_time": "2025-04-06T20:33:55.027Z"
   },
   {
    "duration": 25,
    "start_time": "2025-04-06T20:33:55.035Z"
   },
   {
    "duration": 16,
    "start_time": "2025-04-06T20:33:55.062Z"
   },
   {
    "duration": 7,
    "start_time": "2025-04-06T20:33:55.105Z"
   },
   {
    "duration": 19,
    "start_time": "2025-04-06T20:33:55.114Z"
   },
   {
    "duration": 15,
    "start_time": "2025-04-06T20:33:55.138Z"
   },
   {
    "duration": 12,
    "start_time": "2025-04-06T20:33:55.155Z"
   },
   {
    "duration": 42,
    "start_time": "2025-04-06T20:33:55.168Z"
   },
   {
    "duration": 16,
    "start_time": "2025-04-06T20:33:55.212Z"
   },
   {
    "duration": 13,
    "start_time": "2025-04-06T20:33:55.229Z"
   },
   {
    "duration": 14,
    "start_time": "2025-04-06T20:33:55.243Z"
   },
   {
    "duration": 2,
    "start_time": "2025-04-06T20:33:55.259Z"
   },
   {
    "duration": 3,
    "start_time": "2025-04-06T20:33:55.262Z"
   },
   {
    "duration": 4,
    "start_time": "2025-04-06T20:33:55.266Z"
   },
   {
    "duration": 34,
    "start_time": "2025-04-06T20:33:55.271Z"
   },
   {
    "duration": 2,
    "start_time": "2025-04-06T20:33:55.308Z"
   },
   {
    "duration": 3,
    "start_time": "2025-04-06T20:33:55.312Z"
   },
   {
    "duration": 3,
    "start_time": "2025-04-06T20:33:55.317Z"
   },
   {
    "duration": 3,
    "start_time": "2025-04-06T20:33:55.321Z"
   },
   {
    "duration": 2,
    "start_time": "2025-04-06T20:33:55.327Z"
   },
   {
    "duration": 643,
    "start_time": "2025-04-06T20:36:25.350Z"
   },
   {
    "duration": 4,
    "start_time": "2025-04-06T20:36:41.704Z"
   },
   {
    "duration": 17,
    "start_time": "2025-04-06T20:37:03.271Z"
   },
   {
    "duration": 5,
    "start_time": "2025-04-06T20:37:21.875Z"
   },
   {
    "duration": 17,
    "start_time": "2025-04-06T20:37:24.663Z"
   },
   {
    "duration": 4,
    "start_time": "2025-04-06T20:37:45.064Z"
   },
   {
    "duration": 17,
    "start_time": "2025-04-06T20:37:50.074Z"
   },
   {
    "duration": 11,
    "start_time": "2025-04-06T20:38:45.959Z"
   },
   {
    "duration": 18,
    "start_time": "2025-04-06T20:40:15.260Z"
   },
   {
    "duration": 13,
    "start_time": "2025-04-06T20:42:49.795Z"
   },
   {
    "duration": 14,
    "start_time": "2025-04-06T20:43:02.493Z"
   },
   {
    "duration": 42,
    "start_time": "2025-04-06T20:44:01.717Z"
   },
   {
    "duration": 5,
    "start_time": "2025-04-06T20:44:14.759Z"
   },
   {
    "duration": 13,
    "start_time": "2025-04-06T20:44:19.611Z"
   },
   {
    "duration": 14,
    "start_time": "2025-04-06T20:44:23.457Z"
   },
   {
    "duration": 87,
    "start_time": "2025-04-06T20:44:42.337Z"
   },
   {
    "duration": 40,
    "start_time": "2025-04-06T20:44:49.660Z"
   },
   {
    "duration": 12,
    "start_time": "2025-04-06T20:46:45.045Z"
   },
   {
    "duration": 40,
    "start_time": "2025-04-06T20:46:51.910Z"
   },
   {
    "duration": 13,
    "start_time": "2025-04-06T20:48:44.721Z"
   },
   {
    "duration": 13,
    "start_time": "2025-04-06T20:48:55.958Z"
   },
   {
    "duration": 13,
    "start_time": "2025-04-06T20:49:00.120Z"
   },
   {
    "duration": 13,
    "start_time": "2025-04-06T20:49:04.616Z"
   },
   {
    "duration": 16,
    "start_time": "2025-04-06T20:49:50.171Z"
   },
   {
    "duration": 804,
    "start_time": "2025-04-06T20:55:05.232Z"
   },
   {
    "duration": 163,
    "start_time": "2025-04-06T20:55:06.038Z"
   },
   {
    "duration": 11,
    "start_time": "2025-04-06T20:55:06.202Z"
   },
   {
    "duration": 10,
    "start_time": "2025-04-06T20:55:06.216Z"
   },
   {
    "duration": 10,
    "start_time": "2025-04-06T20:55:06.228Z"
   },
   {
    "duration": 6,
    "start_time": "2025-04-06T20:55:06.239Z"
   },
   {
    "duration": 10,
    "start_time": "2025-04-06T20:55:06.246Z"
   },
   {
    "duration": 51,
    "start_time": "2025-04-06T20:55:06.257Z"
   },
   {
    "duration": 9,
    "start_time": "2025-04-06T20:55:06.309Z"
   },
   {
    "duration": 11,
    "start_time": "2025-04-06T20:55:06.321Z"
   },
   {
    "duration": 17,
    "start_time": "2025-04-06T20:55:06.334Z"
   },
   {
    "duration": 61,
    "start_time": "2025-04-06T20:55:06.353Z"
   },
   {
    "duration": 7,
    "start_time": "2025-04-06T20:55:06.416Z"
   },
   {
    "duration": 29,
    "start_time": "2025-04-06T20:55:06.425Z"
   },
   {
    "duration": 16,
    "start_time": "2025-04-06T20:55:06.456Z"
   },
   {
    "duration": 38,
    "start_time": "2025-04-06T20:55:06.474Z"
   },
   {
    "duration": 17,
    "start_time": "2025-04-06T20:55:06.513Z"
   },
   {
    "duration": 6,
    "start_time": "2025-04-06T20:55:06.531Z"
   },
   {
    "duration": 20,
    "start_time": "2025-04-06T20:55:06.539Z"
   },
   {
    "duration": 10,
    "start_time": "2025-04-06T20:55:06.561Z"
   },
   {
    "duration": 14,
    "start_time": "2025-04-06T20:55:06.606Z"
   },
   {
    "duration": 44,
    "start_time": "2025-04-06T20:55:06.623Z"
   },
   {
    "duration": 9,
    "start_time": "2025-04-06T20:55:06.669Z"
   },
   {
    "duration": 40,
    "start_time": "2025-04-06T20:55:06.680Z"
   },
   {
    "duration": 13,
    "start_time": "2025-04-06T20:55:06.722Z"
   },
   {
    "duration": 6,
    "start_time": "2025-04-06T20:55:06.737Z"
   },
   {
    "duration": 19,
    "start_time": "2025-04-06T20:55:06.745Z"
   },
   {
    "duration": 44,
    "start_time": "2025-04-06T20:55:06.767Z"
   },
   {
    "duration": 12,
    "start_time": "2025-04-06T20:55:06.813Z"
   },
   {
    "duration": 12,
    "start_time": "2025-04-06T20:55:06.828Z"
   },
   {
    "duration": 14,
    "start_time": "2025-04-06T20:55:06.842Z"
   },
   {
    "duration": 12,
    "start_time": "2025-04-06T20:55:06.857Z"
   },
   {
    "duration": 46,
    "start_time": "2025-04-06T20:55:06.871Z"
   },
   {
    "duration": 8,
    "start_time": "2025-04-06T20:55:06.918Z"
   },
   {
    "duration": 17,
    "start_time": "2025-04-06T20:55:06.928Z"
   },
   {
    "duration": 2,
    "start_time": "2025-04-06T20:55:06.946Z"
   },
   {
    "duration": 3,
    "start_time": "2025-04-06T20:55:06.950Z"
   },
   {
    "duration": 3,
    "start_time": "2025-04-06T20:55:06.954Z"
   },
   {
    "duration": 4,
    "start_time": "2025-04-06T20:55:06.959Z"
   },
   {
    "duration": 3,
    "start_time": "2025-04-06T20:55:06.964Z"
   },
   {
    "duration": 3,
    "start_time": "2025-04-06T20:55:06.969Z"
   },
   {
    "duration": 34,
    "start_time": "2025-04-06T20:55:06.973Z"
   },
   {
    "duration": 2,
    "start_time": "2025-04-06T20:55:07.009Z"
   },
   {
    "duration": 5,
    "start_time": "2025-04-06T20:56:11.071Z"
   },
   {
    "duration": 16,
    "start_time": "2025-04-06T20:56:13.204Z"
   },
   {
    "duration": 7,
    "start_time": "2025-04-06T21:04:11.826Z"
   },
   {
    "duration": 24,
    "start_time": "2025-04-06T21:04:14.132Z"
   },
   {
    "duration": 15,
    "start_time": "2025-04-06T21:04:41.188Z"
   },
   {
    "duration": 8,
    "start_time": "2025-04-06T21:08:24.631Z"
   },
   {
    "duration": 22,
    "start_time": "2025-04-06T21:08:26.555Z"
   },
   {
    "duration": 5,
    "start_time": "2025-04-06T21:09:44.324Z"
   },
   {
    "duration": 5,
    "start_time": "2025-04-06T21:10:41.856Z"
   },
   {
    "duration": 7,
    "start_time": "2025-04-06T21:11:22.150Z"
   },
   {
    "duration": 19,
    "start_time": "2025-04-06T21:11:24.596Z"
   },
   {
    "duration": 364,
    "start_time": "2025-04-06T21:12:52.615Z"
   },
   {
    "duration": 15,
    "start_time": "2025-04-06T21:20:20.212Z"
   },
   {
    "duration": 15,
    "start_time": "2025-04-06T21:21:13.062Z"
   },
   {
    "duration": 7,
    "start_time": "2025-04-06T21:21:50.314Z"
   },
   {
    "duration": 410,
    "start_time": "2025-04-06T21:23:06.460Z"
   },
   {
    "duration": 8,
    "start_time": "2025-04-06T21:23:19.698Z"
   },
   {
    "duration": 8,
    "start_time": "2025-04-06T21:24:06.948Z"
   },
   {
    "duration": 17,
    "start_time": "2025-04-06T21:24:10.519Z"
   },
   {
    "duration": 14,
    "start_time": "2025-04-06T21:24:33.116Z"
   },
   {
    "duration": 813,
    "start_time": "2025-04-06T21:24:41.534Z"
   },
   {
    "duration": 160,
    "start_time": "2025-04-06T21:24:42.350Z"
   },
   {
    "duration": 11,
    "start_time": "2025-04-06T21:24:42.512Z"
   },
   {
    "duration": 8,
    "start_time": "2025-04-06T21:24:42.526Z"
   },
   {
    "duration": 10,
    "start_time": "2025-04-06T21:24:42.535Z"
   },
   {
    "duration": 4,
    "start_time": "2025-04-06T21:24:42.547Z"
   },
   {
    "duration": 8,
    "start_time": "2025-04-06T21:24:42.553Z"
   },
   {
    "duration": 50,
    "start_time": "2025-04-06T21:24:42.562Z"
   },
   {
    "duration": 8,
    "start_time": "2025-04-06T21:24:42.614Z"
   },
   {
    "duration": 13,
    "start_time": "2025-04-06T21:24:42.625Z"
   },
   {
    "duration": 17,
    "start_time": "2025-04-06T21:24:42.640Z"
   },
   {
    "duration": 57,
    "start_time": "2025-04-06T21:24:42.659Z"
   },
   {
    "duration": 7,
    "start_time": "2025-04-06T21:24:42.718Z"
   },
   {
    "duration": 29,
    "start_time": "2025-04-06T21:24:42.726Z"
   },
   {
    "duration": 18,
    "start_time": "2025-04-06T21:24:42.757Z"
   },
   {
    "duration": 37,
    "start_time": "2025-04-06T21:24:42.777Z"
   },
   {
    "duration": 15,
    "start_time": "2025-04-06T21:24:42.816Z"
   },
   {
    "duration": 5,
    "start_time": "2025-04-06T21:24:42.833Z"
   },
   {
    "duration": 21,
    "start_time": "2025-04-06T21:24:42.840Z"
   },
   {
    "duration": 11,
    "start_time": "2025-04-06T21:24:42.863Z"
   },
   {
    "duration": 16,
    "start_time": "2025-04-06T21:24:42.906Z"
   },
   {
    "duration": 35,
    "start_time": "2025-04-06T21:24:42.924Z"
   },
   {
    "duration": 6,
    "start_time": "2025-04-06T21:24:42.961Z"
   },
   {
    "duration": 49,
    "start_time": "2025-04-06T21:24:42.969Z"
   },
   {
    "duration": 14,
    "start_time": "2025-04-06T21:24:43.020Z"
   },
   {
    "duration": 7,
    "start_time": "2025-04-06T21:24:43.035Z"
   },
   {
    "duration": 19,
    "start_time": "2025-04-06T21:24:43.043Z"
   },
   {
    "duration": 39,
    "start_time": "2025-04-06T21:24:43.067Z"
   },
   {
    "duration": 8,
    "start_time": "2025-04-06T21:24:43.108Z"
   },
   {
    "duration": 14,
    "start_time": "2025-04-06T21:24:43.120Z"
   },
   {
    "duration": 13,
    "start_time": "2025-04-06T21:24:43.136Z"
   },
   {
    "duration": 12,
    "start_time": "2025-04-06T21:24:43.151Z"
   },
   {
    "duration": 41,
    "start_time": "2025-04-06T21:24:43.165Z"
   },
   {
    "duration": 13,
    "start_time": "2025-04-06T21:24:43.207Z"
   },
   {
    "duration": 14,
    "start_time": "2025-04-06T21:24:43.221Z"
   },
   {
    "duration": 8,
    "start_time": "2025-04-06T21:24:43.236Z"
   },
   {
    "duration": 17,
    "start_time": "2025-04-06T21:24:43.245Z"
   },
   {
    "duration": 3,
    "start_time": "2025-04-06T21:24:43.263Z"
   },
   {
    "duration": 3,
    "start_time": "2025-04-06T21:24:43.267Z"
   },
   {
    "duration": 2,
    "start_time": "2025-04-06T21:24:43.305Z"
   },
   {
    "duration": 3,
    "start_time": "2025-04-06T21:24:43.309Z"
   },
   {
    "duration": 2,
    "start_time": "2025-04-06T21:24:43.314Z"
   },
   {
    "duration": 3,
    "start_time": "2025-04-06T21:24:43.318Z"
   },
   {
    "duration": 2,
    "start_time": "2025-04-06T21:24:43.324Z"
   },
   {
    "duration": 3,
    "start_time": "2025-04-06T21:24:43.328Z"
   },
   {
    "duration": 8,
    "start_time": "2025-04-06T21:27:58.098Z"
   },
   {
    "duration": 19,
    "start_time": "2025-04-06T21:28:10.477Z"
   },
   {
    "duration": 13,
    "start_time": "2025-04-06T21:28:17.985Z"
   },
   {
    "duration": 20,
    "start_time": "2025-04-06T21:29:01.126Z"
   },
   {
    "duration": 16,
    "start_time": "2025-04-06T21:30:11.268Z"
   },
   {
    "duration": 762,
    "start_time": "2025-04-06T21:30:41.278Z"
   },
   {
    "duration": 166,
    "start_time": "2025-04-06T21:30:42.043Z"
   },
   {
    "duration": 12,
    "start_time": "2025-04-06T21:30:42.210Z"
   },
   {
    "duration": 9,
    "start_time": "2025-04-06T21:30:42.224Z"
   },
   {
    "duration": 10,
    "start_time": "2025-04-06T21:30:42.234Z"
   },
   {
    "duration": 5,
    "start_time": "2025-04-06T21:30:42.246Z"
   },
   {
    "duration": 9,
    "start_time": "2025-04-06T21:30:42.252Z"
   },
   {
    "duration": 50,
    "start_time": "2025-04-06T21:30:42.262Z"
   },
   {
    "duration": 10,
    "start_time": "2025-04-06T21:30:42.314Z"
   },
   {
    "duration": 14,
    "start_time": "2025-04-06T21:30:42.328Z"
   },
   {
    "duration": 18,
    "start_time": "2025-04-06T21:30:42.344Z"
   },
   {
    "duration": 64,
    "start_time": "2025-04-06T21:30:42.363Z"
   },
   {
    "duration": 7,
    "start_time": "2025-04-06T21:30:42.429Z"
   },
   {
    "duration": 29,
    "start_time": "2025-04-06T21:30:42.438Z"
   },
   {
    "duration": 37,
    "start_time": "2025-04-06T21:30:42.469Z"
   },
   {
    "duration": 14,
    "start_time": "2025-04-06T21:30:42.508Z"
   },
   {
    "duration": 16,
    "start_time": "2025-04-06T21:30:42.523Z"
   },
   {
    "duration": 6,
    "start_time": "2025-04-06T21:30:42.540Z"
   },
   {
    "duration": 20,
    "start_time": "2025-04-06T21:30:42.548Z"
   },
   {
    "duration": 40,
    "start_time": "2025-04-06T21:30:42.570Z"
   },
   {
    "duration": 14,
    "start_time": "2025-04-06T21:30:42.613Z"
   },
   {
    "duration": 36,
    "start_time": "2025-04-06T21:30:42.629Z"
   },
   {
    "duration": 6,
    "start_time": "2025-04-06T21:30:42.667Z"
   },
   {
    "duration": 50,
    "start_time": "2025-04-06T21:30:42.675Z"
   },
   {
    "duration": 13,
    "start_time": "2025-04-06T21:30:42.727Z"
   },
   {
    "duration": 7,
    "start_time": "2025-04-06T21:30:42.741Z"
   },
   {
    "duration": 19,
    "start_time": "2025-04-06T21:30:42.750Z"
   },
   {
    "duration": 43,
    "start_time": "2025-04-06T21:30:42.773Z"
   },
   {
    "duration": 7,
    "start_time": "2025-04-06T21:30:42.819Z"
   },
   {
    "duration": 13,
    "start_time": "2025-04-06T21:30:42.828Z"
   },
   {
    "duration": 11,
    "start_time": "2025-04-06T21:30:42.842Z"
   },
   {
    "duration": 6,
    "start_time": "2025-04-06T21:30:42.855Z"
   },
   {
    "duration": 47,
    "start_time": "2025-04-06T21:30:42.863Z"
   },
   {
    "duration": 13,
    "start_time": "2025-04-06T21:30:42.911Z"
   },
   {
    "duration": 14,
    "start_time": "2025-04-06T21:30:42.925Z"
   },
   {
    "duration": 8,
    "start_time": "2025-04-06T21:30:42.940Z"
   },
   {
    "duration": 12,
    "start_time": "2025-04-06T21:30:42.949Z"
   },
   {
    "duration": 2,
    "start_time": "2025-04-06T21:30:42.963Z"
   },
   {
    "duration": 39,
    "start_time": "2025-04-06T21:30:42.967Z"
   },
   {
    "duration": 4,
    "start_time": "2025-04-06T21:30:43.007Z"
   },
   {
    "duration": 3,
    "start_time": "2025-04-06T21:30:43.012Z"
   },
   {
    "duration": 3,
    "start_time": "2025-04-06T21:30:43.017Z"
   },
   {
    "duration": 3,
    "start_time": "2025-04-06T21:30:43.022Z"
   },
   {
    "duration": 3,
    "start_time": "2025-04-06T21:30:43.027Z"
   },
   {
    "duration": 2,
    "start_time": "2025-04-06T21:30:43.033Z"
   },
   {
    "duration": 5,
    "start_time": "2025-04-06T21:30:43.036Z"
   },
   {
    "duration": 13,
    "start_time": "2025-04-06T21:31:12.801Z"
   },
   {
    "duration": 13,
    "start_time": "2025-04-06T21:31:26.368Z"
   },
   {
    "duration": 13,
    "start_time": "2025-04-06T21:31:44.838Z"
   },
   {
    "duration": 14,
    "start_time": "2025-04-06T21:31:50.062Z"
   },
   {
    "duration": 12,
    "start_time": "2025-04-06T21:31:55.533Z"
   },
   {
    "duration": 8,
    "start_time": "2025-04-06T21:34:00.193Z"
   },
   {
    "duration": 827,
    "start_time": "2025-04-06T21:34:13.117Z"
   },
   {
    "duration": 165,
    "start_time": "2025-04-06T21:34:13.947Z"
   },
   {
    "duration": 12,
    "start_time": "2025-04-06T21:34:14.113Z"
   },
   {
    "duration": 9,
    "start_time": "2025-04-06T21:34:14.126Z"
   },
   {
    "duration": 22,
    "start_time": "2025-04-06T21:34:14.139Z"
   },
   {
    "duration": 6,
    "start_time": "2025-04-06T21:34:14.163Z"
   },
   {
    "duration": 9,
    "start_time": "2025-04-06T21:34:14.171Z"
   },
   {
    "duration": 18,
    "start_time": "2025-04-06T21:34:14.206Z"
   },
   {
    "duration": 9,
    "start_time": "2025-04-06T21:34:14.226Z"
   },
   {
    "duration": 12,
    "start_time": "2025-04-06T21:34:14.236Z"
   },
   {
    "duration": 16,
    "start_time": "2025-04-06T21:34:14.250Z"
   },
   {
    "duration": 74,
    "start_time": "2025-04-06T21:34:14.268Z"
   },
   {
    "duration": 10,
    "start_time": "2025-04-06T21:34:14.343Z"
   },
   {
    "duration": 59,
    "start_time": "2025-04-06T21:34:14.358Z"
   },
   {
    "duration": 17,
    "start_time": "2025-04-06T21:34:14.419Z"
   },
   {
    "duration": 13,
    "start_time": "2025-04-06T21:34:14.438Z"
   },
   {
    "duration": 16,
    "start_time": "2025-04-06T21:34:14.453Z"
   },
   {
    "duration": 7,
    "start_time": "2025-04-06T21:34:14.470Z"
   },
   {
    "duration": 23,
    "start_time": "2025-04-06T21:34:14.506Z"
   },
   {
    "duration": 11,
    "start_time": "2025-04-06T21:34:14.531Z"
   },
   {
    "duration": 15,
    "start_time": "2025-04-06T21:34:14.544Z"
   },
   {
    "duration": 69,
    "start_time": "2025-04-06T21:34:14.560Z"
   },
   {
    "duration": 7,
    "start_time": "2025-04-06T21:34:14.630Z"
   },
   {
    "duration": 25,
    "start_time": "2025-04-06T21:34:14.639Z"
   },
   {
    "duration": 14,
    "start_time": "2025-04-06T21:34:14.666Z"
   },
   {
    "duration": 32,
    "start_time": "2025-04-06T21:34:14.681Z"
   },
   {
    "duration": 19,
    "start_time": "2025-04-06T21:34:14.716Z"
   },
   {
    "duration": 18,
    "start_time": "2025-04-06T21:34:14.738Z"
   },
   {
    "duration": 10,
    "start_time": "2025-04-06T21:34:14.758Z"
   },
   {
    "duration": 45,
    "start_time": "2025-04-06T21:34:14.770Z"
   },
   {
    "duration": 12,
    "start_time": "2025-04-06T21:34:14.817Z"
   },
   {
    "duration": 6,
    "start_time": "2025-04-06T21:34:14.831Z"
   },
   {
    "duration": 14,
    "start_time": "2025-04-06T21:34:14.839Z"
   },
   {
    "duration": 13,
    "start_time": "2025-04-06T21:34:14.854Z"
   },
   {
    "duration": 46,
    "start_time": "2025-04-06T21:34:14.869Z"
   },
   {
    "duration": 8,
    "start_time": "2025-04-06T21:34:14.917Z"
   },
   {
    "duration": 15,
    "start_time": "2025-04-06T21:34:14.927Z"
   },
   {
    "duration": 2,
    "start_time": "2025-04-06T21:34:14.944Z"
   },
   {
    "duration": 3,
    "start_time": "2025-04-06T21:34:14.948Z"
   },
   {
    "duration": 3,
    "start_time": "2025-04-06T21:34:14.953Z"
   },
   {
    "duration": 3,
    "start_time": "2025-04-06T21:34:14.960Z"
   },
   {
    "duration": 4,
    "start_time": "2025-04-06T21:34:14.964Z"
   },
   {
    "duration": 37,
    "start_time": "2025-04-06T21:34:14.969Z"
   },
   {
    "duration": 3,
    "start_time": "2025-04-06T21:34:15.008Z"
   },
   {
    "duration": 3,
    "start_time": "2025-04-06T21:34:15.013Z"
   },
   {
    "duration": 2,
    "start_time": "2025-04-06T21:34:15.018Z"
   },
   {
    "duration": 8,
    "start_time": "2025-04-06T21:36:46.070Z"
   },
   {
    "duration": 7,
    "start_time": "2025-04-06T21:38:33.788Z"
   },
   {
    "duration": 8,
    "start_time": "2025-04-06T21:38:52.126Z"
   },
   {
    "duration": 8,
    "start_time": "2025-04-06T21:39:37.735Z"
   },
   {
    "duration": 620,
    "start_time": "2025-04-06T21:39:42.986Z"
   },
   {
    "duration": 42,
    "start_time": "2025-04-06T21:39:47.041Z"
   },
   {
    "duration": 41,
    "start_time": "2025-04-06T21:39:47.796Z"
   },
   {
    "duration": 134,
    "start_time": "2025-04-06T21:39:48.750Z"
   },
   {
    "duration": 43,
    "start_time": "2025-04-06T21:39:49.694Z"
   },
   {
    "duration": 45,
    "start_time": "2025-04-06T21:40:14.788Z"
   },
   {
    "duration": 44,
    "start_time": "2025-04-06T21:40:15.651Z"
   },
   {
    "duration": 43,
    "start_time": "2025-04-06T21:40:16.201Z"
   },
   {
    "duration": 796,
    "start_time": "2025-04-06T21:40:22.248Z"
   },
   {
    "duration": 160,
    "start_time": "2025-04-06T21:40:23.047Z"
   },
   {
    "duration": 11,
    "start_time": "2025-04-06T21:40:23.209Z"
   },
   {
    "duration": 9,
    "start_time": "2025-04-06T21:40:23.223Z"
   },
   {
    "duration": 10,
    "start_time": "2025-04-06T21:40:23.233Z"
   },
   {
    "duration": 5,
    "start_time": "2025-04-06T21:40:23.244Z"
   },
   {
    "duration": 8,
    "start_time": "2025-04-06T21:40:23.251Z"
   },
   {
    "duration": 51,
    "start_time": "2025-04-06T21:40:23.260Z"
   },
   {
    "duration": 9,
    "start_time": "2025-04-06T21:40:23.314Z"
   },
   {
    "duration": 14,
    "start_time": "2025-04-06T21:40:23.327Z"
   },
   {
    "duration": 17,
    "start_time": "2025-04-06T21:40:23.342Z"
   },
   {
    "duration": 70,
    "start_time": "2025-04-06T21:40:23.361Z"
   },
   {
    "duration": 7,
    "start_time": "2025-04-06T21:40:23.433Z"
   },
   {
    "duration": 29,
    "start_time": "2025-04-06T21:40:23.442Z"
   },
   {
    "duration": 37,
    "start_time": "2025-04-06T21:40:23.473Z"
   },
   {
    "duration": 13,
    "start_time": "2025-04-06T21:40:23.512Z"
   },
   {
    "duration": 16,
    "start_time": "2025-04-06T21:40:23.527Z"
   },
   {
    "duration": 6,
    "start_time": "2025-04-06T21:40:23.545Z"
   },
   {
    "duration": 21,
    "start_time": "2025-04-06T21:40:23.552Z"
   },
   {
    "duration": 12,
    "start_time": "2025-04-06T21:40:23.604Z"
   },
   {
    "duration": 15,
    "start_time": "2025-04-06T21:40:23.618Z"
   },
   {
    "duration": 35,
    "start_time": "2025-04-06T21:40:23.634Z"
   },
   {
    "duration": 8,
    "start_time": "2025-04-06T21:40:23.671Z"
   },
   {
    "duration": 24,
    "start_time": "2025-04-06T21:40:23.706Z"
   },
   {
    "duration": 15,
    "start_time": "2025-04-06T21:40:23.732Z"
   },
   {
    "duration": 11,
    "start_time": "2025-04-06T21:40:23.748Z"
   },
   {
    "duration": 20,
    "start_time": "2025-04-06T21:40:23.760Z"
   },
   {
    "duration": 15,
    "start_time": "2025-04-06T21:40:23.808Z"
   },
   {
    "duration": 7,
    "start_time": "2025-04-06T21:40:23.825Z"
   },
   {
    "duration": 13,
    "start_time": "2025-04-06T21:40:23.833Z"
   },
   {
    "duration": 11,
    "start_time": "2025-04-06T21:40:23.847Z"
   },
   {
    "duration": 7,
    "start_time": "2025-04-06T21:40:23.859Z"
   },
   {
    "duration": 48,
    "start_time": "2025-04-06T21:40:23.868Z"
   },
   {
    "duration": 13,
    "start_time": "2025-04-06T21:40:23.917Z"
   },
   {
    "duration": 14,
    "start_time": "2025-04-06T21:40:23.932Z"
   },
   {
    "duration": 689,
    "start_time": "2025-04-06T21:40:23.948Z"
   },
   {
    "duration": 0,
    "start_time": "2025-04-06T21:40:24.639Z"
   },
   {
    "duration": 0,
    "start_time": "2025-04-06T21:40:24.640Z"
   },
   {
    "duration": 0,
    "start_time": "2025-04-06T21:40:24.642Z"
   },
   {
    "duration": 0,
    "start_time": "2025-04-06T21:40:24.643Z"
   },
   {
    "duration": 0,
    "start_time": "2025-04-06T21:40:24.644Z"
   },
   {
    "duration": 0,
    "start_time": "2025-04-06T21:40:24.645Z"
   },
   {
    "duration": 0,
    "start_time": "2025-04-06T21:40:24.646Z"
   },
   {
    "duration": 0,
    "start_time": "2025-04-06T21:40:24.647Z"
   },
   {
    "duration": 0,
    "start_time": "2025-04-06T21:40:24.648Z"
   },
   {
    "duration": 0,
    "start_time": "2025-04-06T21:40:24.650Z"
   },
   {
    "duration": 17,
    "start_time": "2025-04-06T21:40:57.571Z"
   },
   {
    "duration": 15,
    "start_time": "2025-04-06T21:41:04.835Z"
   },
   {
    "duration": 40,
    "start_time": "2025-04-06T21:41:13.972Z"
   },
   {
    "duration": 43,
    "start_time": "2025-04-06T21:43:38.820Z"
   },
   {
    "duration": 103,
    "start_time": "2025-04-06T21:43:45.928Z"
   },
   {
    "duration": 43,
    "start_time": "2025-04-06T21:44:02.275Z"
   },
   {
    "duration": 18,
    "start_time": "2025-04-06T21:45:02.913Z"
   },
   {
    "duration": 4,
    "start_time": "2025-04-06T21:46:29.459Z"
   },
   {
    "duration": 11,
    "start_time": "2025-04-06T21:46:41.018Z"
   },
   {
    "duration": 7,
    "start_time": "2025-04-06T21:46:44.089Z"
   },
   {
    "duration": 9,
    "start_time": "2025-04-06T21:46:44.614Z"
   },
   {
    "duration": 8,
    "start_time": "2025-04-06T21:46:45.067Z"
   },
   {
    "duration": 8,
    "start_time": "2025-04-06T21:46:45.559Z"
   },
   {
    "duration": 8,
    "start_time": "2025-04-06T21:46:46.015Z"
   },
   {
    "duration": 7,
    "start_time": "2025-04-06T21:46:46.564Z"
   },
   {
    "duration": 8,
    "start_time": "2025-04-06T21:46:47.023Z"
   },
   {
    "duration": 8,
    "start_time": "2025-04-06T21:46:47.493Z"
   },
   {
    "duration": 8,
    "start_time": "2025-04-06T21:46:47.971Z"
   },
   {
    "duration": 10,
    "start_time": "2025-04-06T21:46:48.440Z"
   },
   {
    "duration": 9,
    "start_time": "2025-04-06T21:46:48.924Z"
   },
   {
    "duration": 8,
    "start_time": "2025-04-06T21:46:49.405Z"
   },
   {
    "duration": 769,
    "start_time": "2025-04-06T21:46:57.969Z"
   },
   {
    "duration": 159,
    "start_time": "2025-04-06T21:46:58.741Z"
   },
   {
    "duration": 12,
    "start_time": "2025-04-06T21:46:58.902Z"
   },
   {
    "duration": 8,
    "start_time": "2025-04-06T21:46:58.916Z"
   },
   {
    "duration": 10,
    "start_time": "2025-04-06T21:46:58.926Z"
   },
   {
    "duration": 5,
    "start_time": "2025-04-06T21:46:58.937Z"
   },
   {
    "duration": 8,
    "start_time": "2025-04-06T21:46:58.944Z"
   },
   {
    "duration": 52,
    "start_time": "2025-04-06T21:46:58.953Z"
   },
   {
    "duration": 9,
    "start_time": "2025-04-06T21:46:59.007Z"
   },
   {
    "duration": 11,
    "start_time": "2025-04-06T21:46:59.019Z"
   },
   {
    "duration": 16,
    "start_time": "2025-04-06T21:46:59.031Z"
   },
   {
    "duration": 57,
    "start_time": "2025-04-06T21:46:59.049Z"
   },
   {
    "duration": 8,
    "start_time": "2025-04-06T21:46:59.107Z"
   },
   {
    "duration": 30,
    "start_time": "2025-04-06T21:46:59.117Z"
   },
   {
    "duration": 16,
    "start_time": "2025-04-06T21:46:59.150Z"
   },
   {
    "duration": 38,
    "start_time": "2025-04-06T21:46:59.168Z"
   },
   {
    "duration": 18,
    "start_time": "2025-04-06T21:46:59.208Z"
   },
   {
    "duration": 6,
    "start_time": "2025-04-06T21:46:59.228Z"
   },
   {
    "duration": 20,
    "start_time": "2025-04-06T21:46:59.235Z"
   },
   {
    "duration": 11,
    "start_time": "2025-04-06T21:46:59.258Z"
   },
   {
    "duration": 43,
    "start_time": "2025-04-06T21:46:59.271Z"
   },
   {
    "duration": 42,
    "start_time": "2025-04-06T21:46:59.316Z"
   },
   {
    "duration": 7,
    "start_time": "2025-04-06T21:46:59.359Z"
   },
   {
    "duration": 52,
    "start_time": "2025-04-06T21:46:59.368Z"
   },
   {
    "duration": 13,
    "start_time": "2025-04-06T21:46:59.421Z"
   },
   {
    "duration": 7,
    "start_time": "2025-04-06T21:46:59.436Z"
   },
   {
    "duration": 18,
    "start_time": "2025-04-06T21:46:59.445Z"
   },
   {
    "duration": 44,
    "start_time": "2025-04-06T21:46:59.468Z"
   },
   {
    "duration": 6,
    "start_time": "2025-04-06T21:46:59.514Z"
   },
   {
    "duration": 11,
    "start_time": "2025-04-06T21:46:59.522Z"
   },
   {
    "duration": 10,
    "start_time": "2025-04-06T21:46:59.535Z"
   },
   {
    "duration": 7,
    "start_time": "2025-04-06T21:46:59.547Z"
   },
   {
    "duration": 13,
    "start_time": "2025-04-06T21:46:59.556Z"
   },
   {
    "duration": 45,
    "start_time": "2025-04-06T21:46:59.571Z"
   },
   {
    "duration": 18,
    "start_time": "2025-04-06T21:46:59.618Z"
   },
   {
    "duration": 9,
    "start_time": "2025-04-06T21:46:59.638Z"
   },
   {
    "duration": 14,
    "start_time": "2025-04-06T21:46:59.649Z"
   },
   {
    "duration": 2,
    "start_time": "2025-04-06T21:46:59.665Z"
   },
   {
    "duration": 3,
    "start_time": "2025-04-06T21:46:59.669Z"
   },
   {
    "duration": 34,
    "start_time": "2025-04-06T21:46:59.673Z"
   },
   {
    "duration": 2,
    "start_time": "2025-04-06T21:46:59.709Z"
   },
   {
    "duration": 3,
    "start_time": "2025-04-06T21:46:59.713Z"
   },
   {
    "duration": 4,
    "start_time": "2025-04-06T21:46:59.717Z"
   },
   {
    "duration": 3,
    "start_time": "2025-04-06T21:46:59.722Z"
   },
   {
    "duration": 4,
    "start_time": "2025-04-06T21:46:59.726Z"
   },
   {
    "duration": 3,
    "start_time": "2025-04-06T21:46:59.731Z"
   },
   {
    "duration": 9,
    "start_time": "2025-04-06T22:05:10.677Z"
   },
   {
    "duration": 14,
    "start_time": "2025-04-06T22:05:16.480Z"
   },
   {
    "duration": 14,
    "start_time": "2025-04-06T22:05:24.720Z"
   },
   {
    "duration": 15,
    "start_time": "2025-04-06T22:05:31.617Z"
   },
   {
    "duration": 13,
    "start_time": "2025-04-06T22:05:38.940Z"
   },
   {
    "duration": 14,
    "start_time": "2025-04-06T22:05:44.371Z"
   },
   {
    "duration": 13,
    "start_time": "2025-04-06T22:05:48.276Z"
   },
   {
    "duration": 16,
    "start_time": "2025-04-06T22:05:53.824Z"
   },
   {
    "duration": 14,
    "start_time": "2025-04-06T22:06:05.033Z"
   },
   {
    "duration": 13,
    "start_time": "2025-04-06T22:06:14.279Z"
   },
   {
    "duration": 13,
    "start_time": "2025-04-06T22:06:20.159Z"
   },
   {
    "duration": 14,
    "start_time": "2025-04-06T22:06:23.976Z"
   },
   {
    "duration": 14,
    "start_time": "2025-04-06T22:06:28.737Z"
   },
   {
    "duration": 13,
    "start_time": "2025-04-06T22:06:32.956Z"
   },
   {
    "duration": 15,
    "start_time": "2025-04-06T22:06:38.932Z"
   },
   {
    "duration": 13,
    "start_time": "2025-04-06T22:06:43.288Z"
   },
   {
    "duration": 17,
    "start_time": "2025-04-06T22:06:48.039Z"
   },
   {
    "duration": 12,
    "start_time": "2025-04-06T22:08:48.978Z"
   },
   {
    "duration": 7,
    "start_time": "2025-04-06T22:08:51.281Z"
   },
   {
    "duration": 7,
    "start_time": "2025-04-06T22:08:53.647Z"
   },
   {
    "duration": 7,
    "start_time": "2025-04-06T22:08:55.962Z"
   },
   {
    "duration": 9,
    "start_time": "2025-04-06T22:08:56.867Z"
   },
   {
    "duration": 7,
    "start_time": "2025-04-06T22:08:57.346Z"
   },
   {
    "duration": 8,
    "start_time": "2025-04-06T22:08:57.826Z"
   },
   {
    "duration": 8,
    "start_time": "2025-04-06T22:09:00.245Z"
   },
   {
    "duration": 8,
    "start_time": "2025-04-06T22:09:01.061Z"
   },
   {
    "duration": 7,
    "start_time": "2025-04-06T22:09:01.738Z"
   },
   {
    "duration": 6,
    "start_time": "2025-04-06T22:09:02.444Z"
   },
   {
    "duration": 7,
    "start_time": "2025-04-06T22:09:02.950Z"
   },
   {
    "duration": 8,
    "start_time": "2025-04-06T22:09:03.440Z"
   },
   {
    "duration": 9,
    "start_time": "2025-04-06T22:09:03.951Z"
   },
   {
    "duration": 7,
    "start_time": "2025-04-06T22:09:04.927Z"
   },
   {
    "duration": 7,
    "start_time": "2025-04-06T22:10:36.702Z"
   },
   {
    "duration": 7,
    "start_time": "2025-04-06T22:10:42.954Z"
   },
   {
    "duration": 8,
    "start_time": "2025-04-06T22:10:44.016Z"
   },
   {
    "duration": 7,
    "start_time": "2025-04-06T22:10:44.522Z"
   },
   {
    "duration": 6,
    "start_time": "2025-04-06T22:10:50.738Z"
   },
   {
    "duration": 13,
    "start_time": "2025-04-06T22:10:59.991Z"
   },
   {
    "duration": 13,
    "start_time": "2025-04-06T22:11:16.050Z"
   },
   {
    "duration": 7,
    "start_time": "2025-04-06T22:11:22.154Z"
   },
   {
    "duration": 798,
    "start_time": "2025-04-06T22:11:31.237Z"
   },
   {
    "duration": 160,
    "start_time": "2025-04-06T22:11:32.038Z"
   },
   {
    "duration": 11,
    "start_time": "2025-04-06T22:11:32.200Z"
   },
   {
    "duration": 9,
    "start_time": "2025-04-06T22:11:32.214Z"
   },
   {
    "duration": 9,
    "start_time": "2025-04-06T22:11:32.225Z"
   },
   {
    "duration": 5,
    "start_time": "2025-04-06T22:11:32.235Z"
   },
   {
    "duration": 8,
    "start_time": "2025-04-06T22:11:32.242Z"
   },
   {
    "duration": 17,
    "start_time": "2025-04-06T22:11:32.251Z"
   },
   {
    "duration": 9,
    "start_time": "2025-04-06T22:11:32.306Z"
   },
   {
    "duration": 13,
    "start_time": "2025-04-06T22:11:32.318Z"
   },
   {
    "duration": 16,
    "start_time": "2025-04-06T22:11:32.333Z"
   },
   {
    "duration": 61,
    "start_time": "2025-04-06T22:11:32.350Z"
   },
   {
    "duration": 7,
    "start_time": "2025-04-06T22:11:32.413Z"
   },
   {
    "duration": 29,
    "start_time": "2025-04-06T22:11:32.421Z"
   },
   {
    "duration": 16,
    "start_time": "2025-04-06T22:11:32.452Z"
   },
   {
    "duration": 36,
    "start_time": "2025-04-06T22:11:32.470Z"
   },
   {
    "duration": 15,
    "start_time": "2025-04-06T22:11:32.508Z"
   },
   {
    "duration": 5,
    "start_time": "2025-04-06T22:11:32.525Z"
   },
   {
    "duration": 20,
    "start_time": "2025-04-06T22:11:32.532Z"
   },
   {
    "duration": 11,
    "start_time": "2025-04-06T22:11:32.553Z"
   },
   {
    "duration": 46,
    "start_time": "2025-04-06T22:11:32.566Z"
   },
   {
    "duration": 35,
    "start_time": "2025-04-06T22:11:32.614Z"
   },
   {
    "duration": 6,
    "start_time": "2025-04-06T22:11:32.651Z"
   },
   {
    "duration": 46,
    "start_time": "2025-04-06T22:11:32.659Z"
   },
   {
    "duration": 13,
    "start_time": "2025-04-06T22:11:32.707Z"
   },
   {
    "duration": 6,
    "start_time": "2025-04-06T22:11:32.722Z"
   },
   {
    "duration": 18,
    "start_time": "2025-04-06T22:11:32.730Z"
   },
   {
    "duration": 15,
    "start_time": "2025-04-06T22:11:32.751Z"
   },
   {
    "duration": 36,
    "start_time": "2025-04-06T22:11:32.769Z"
   },
   {
    "duration": 13,
    "start_time": "2025-04-06T22:11:32.807Z"
   },
   {
    "duration": 11,
    "start_time": "2025-04-06T22:11:32.822Z"
   },
   {
    "duration": 6,
    "start_time": "2025-04-06T22:11:32.835Z"
   },
   {
    "duration": 15,
    "start_time": "2025-04-06T22:11:32.842Z"
   },
   {
    "duration": 47,
    "start_time": "2025-04-06T22:11:32.858Z"
   },
   {
    "duration": 15,
    "start_time": "2025-04-06T22:11:32.907Z"
   },
   {
    "duration": 613,
    "start_time": "2025-04-06T22:11:32.923Z"
   },
   {
    "duration": 0,
    "start_time": "2025-04-06T22:11:33.539Z"
   },
   {
    "duration": 0,
    "start_time": "2025-04-06T22:11:33.540Z"
   },
   {
    "duration": 0,
    "start_time": "2025-04-06T22:11:33.541Z"
   },
   {
    "duration": 0,
    "start_time": "2025-04-06T22:11:33.542Z"
   },
   {
    "duration": 0,
    "start_time": "2025-04-06T22:11:33.543Z"
   },
   {
    "duration": 0,
    "start_time": "2025-04-06T22:11:33.544Z"
   },
   {
    "duration": 0,
    "start_time": "2025-04-06T22:11:33.546Z"
   },
   {
    "duration": 0,
    "start_time": "2025-04-06T22:11:33.547Z"
   },
   {
    "duration": 0,
    "start_time": "2025-04-06T22:11:33.547Z"
   },
   {
    "duration": 0,
    "start_time": "2025-04-06T22:11:33.549Z"
   },
   {
    "duration": 17,
    "start_time": "2025-04-06T22:12:29.397Z"
   },
   {
    "duration": 6,
    "start_time": "2025-04-06T22:12:32.540Z"
   },
   {
    "duration": 834,
    "start_time": "2025-04-06T22:12:46.923Z"
   },
   {
    "duration": 162,
    "start_time": "2025-04-06T22:12:47.762Z"
   },
   {
    "duration": 12,
    "start_time": "2025-04-06T22:12:47.926Z"
   },
   {
    "duration": 10,
    "start_time": "2025-04-06T22:12:47.940Z"
   },
   {
    "duration": 11,
    "start_time": "2025-04-06T22:12:47.954Z"
   },
   {
    "duration": 8,
    "start_time": "2025-04-06T22:12:47.967Z"
   },
   {
    "duration": 36,
    "start_time": "2025-04-06T22:12:47.977Z"
   },
   {
    "duration": 16,
    "start_time": "2025-04-06T22:12:48.015Z"
   },
   {
    "duration": 9,
    "start_time": "2025-04-06T22:12:48.033Z"
   },
   {
    "duration": 12,
    "start_time": "2025-04-06T22:12:48.043Z"
   },
   {
    "duration": 18,
    "start_time": "2025-04-06T22:12:48.057Z"
   },
   {
    "duration": 34,
    "start_time": "2025-04-06T22:12:48.106Z"
   },
   {
    "duration": 7,
    "start_time": "2025-04-06T22:12:48.142Z"
   },
   {
    "duration": 62,
    "start_time": "2025-04-06T22:12:48.153Z"
   },
   {
    "duration": 18,
    "start_time": "2025-04-06T22:12:48.217Z"
   },
   {
    "duration": 15,
    "start_time": "2025-04-06T22:12:48.237Z"
   },
   {
    "duration": 16,
    "start_time": "2025-04-06T22:12:48.254Z"
   },
   {
    "duration": 34,
    "start_time": "2025-04-06T22:12:48.273Z"
   },
   {
    "duration": 21,
    "start_time": "2025-04-06T22:12:48.309Z"
   },
   {
    "duration": 12,
    "start_time": "2025-04-06T22:12:48.332Z"
   },
   {
    "duration": 15,
    "start_time": "2025-04-06T22:12:48.346Z"
   },
   {
    "duration": 77,
    "start_time": "2025-04-06T22:12:48.363Z"
   },
   {
    "duration": 7,
    "start_time": "2025-04-06T22:12:48.442Z"
   },
   {
    "duration": 26,
    "start_time": "2025-04-06T22:12:48.451Z"
   },
   {
    "duration": 36,
    "start_time": "2025-04-06T22:12:48.478Z"
   },
   {
    "duration": 8,
    "start_time": "2025-04-06T22:12:48.516Z"
   },
   {
    "duration": 19,
    "start_time": "2025-04-06T22:12:48.526Z"
   },
   {
    "duration": 16,
    "start_time": "2025-04-06T22:12:48.548Z"
   },
   {
    "duration": 40,
    "start_time": "2025-04-06T22:12:48.566Z"
   },
   {
    "duration": 13,
    "start_time": "2025-04-06T22:12:48.609Z"
   },
   {
    "duration": 12,
    "start_time": "2025-04-06T22:12:48.624Z"
   },
   {
    "duration": 8,
    "start_time": "2025-04-06T22:12:48.639Z"
   },
   {
    "duration": 15,
    "start_time": "2025-04-06T22:12:48.649Z"
   },
   {
    "duration": 47,
    "start_time": "2025-04-06T22:12:48.665Z"
   },
   {
    "duration": 14,
    "start_time": "2025-04-06T22:12:48.714Z"
   },
   {
    "duration": 668,
    "start_time": "2025-04-06T22:12:48.730Z"
   },
   {
    "duration": 0,
    "start_time": "2025-04-06T22:12:49.405Z"
   },
   {
    "duration": 0,
    "start_time": "2025-04-06T22:12:49.406Z"
   },
   {
    "duration": 0,
    "start_time": "2025-04-06T22:12:49.407Z"
   },
   {
    "duration": 0,
    "start_time": "2025-04-06T22:12:49.408Z"
   },
   {
    "duration": 0,
    "start_time": "2025-04-06T22:12:49.410Z"
   },
   {
    "duration": 0,
    "start_time": "2025-04-06T22:12:49.411Z"
   },
   {
    "duration": 0,
    "start_time": "2025-04-06T22:12:49.413Z"
   },
   {
    "duration": 0,
    "start_time": "2025-04-06T22:12:49.414Z"
   },
   {
    "duration": 0,
    "start_time": "2025-04-06T22:12:49.416Z"
   },
   {
    "duration": 0,
    "start_time": "2025-04-06T22:12:49.418Z"
   },
   {
    "duration": 7,
    "start_time": "2025-04-06T22:13:59.490Z"
   },
   {
    "duration": 16,
    "start_time": "2025-04-06T22:14:04.351Z"
   },
   {
    "duration": 10,
    "start_time": "2025-04-06T22:17:53.511Z"
   },
   {
    "duration": 9,
    "start_time": "2025-04-06T22:19:23.381Z"
   },
   {
    "duration": 44,
    "start_time": "2025-04-06T22:19:39.677Z"
   },
   {
    "duration": 42,
    "start_time": "2025-04-06T22:20:59.337Z"
   },
   {
    "duration": 740,
    "start_time": "2025-04-06T22:21:54.996Z"
   },
   {
    "duration": 161,
    "start_time": "2025-04-06T22:21:55.738Z"
   },
   {
    "duration": 11,
    "start_time": "2025-04-06T22:21:55.901Z"
   },
   {
    "duration": 11,
    "start_time": "2025-04-06T22:21:55.914Z"
   },
   {
    "duration": 10,
    "start_time": "2025-04-06T22:21:55.928Z"
   },
   {
    "duration": 11,
    "start_time": "2025-04-06T22:21:55.939Z"
   },
   {
    "duration": 6,
    "start_time": "2025-04-06T22:21:55.952Z"
   },
   {
    "duration": 45,
    "start_time": "2025-04-06T22:21:55.960Z"
   },
   {
    "duration": 17,
    "start_time": "2025-04-06T22:21:56.007Z"
   },
   {
    "duration": 10,
    "start_time": "2025-04-06T22:21:56.025Z"
   },
   {
    "duration": 12,
    "start_time": "2025-04-06T22:21:56.036Z"
   },
   {
    "duration": 17,
    "start_time": "2025-04-06T22:21:56.049Z"
   },
   {
    "duration": 64,
    "start_time": "2025-04-06T22:21:56.067Z"
   },
   {
    "duration": 7,
    "start_time": "2025-04-06T22:21:56.135Z"
   },
   {
    "duration": 29,
    "start_time": "2025-04-06T22:21:56.143Z"
   },
   {
    "duration": 37,
    "start_time": "2025-04-06T22:21:56.174Z"
   },
   {
    "duration": 14,
    "start_time": "2025-04-06T22:21:56.213Z"
   },
   {
    "duration": 15,
    "start_time": "2025-04-06T22:21:56.229Z"
   },
   {
    "duration": 6,
    "start_time": "2025-04-06T22:21:56.245Z"
   },
   {
    "duration": 20,
    "start_time": "2025-04-06T22:21:56.253Z"
   },
   {
    "duration": 38,
    "start_time": "2025-04-06T22:21:56.275Z"
   },
   {
    "duration": 14,
    "start_time": "2025-04-06T22:21:56.315Z"
   },
   {
    "duration": 33,
    "start_time": "2025-04-06T22:21:56.331Z"
   },
   {
    "duration": 7,
    "start_time": "2025-04-06T22:21:56.366Z"
   },
   {
    "duration": 25,
    "start_time": "2025-04-06T22:21:56.405Z"
   },
   {
    "duration": 13,
    "start_time": "2025-04-06T22:21:56.432Z"
   },
   {
    "duration": 7,
    "start_time": "2025-04-06T22:21:56.447Z"
   },
   {
    "duration": 17,
    "start_time": "2025-04-06T22:21:56.455Z"
   },
   {
    "duration": 39,
    "start_time": "2025-04-06T22:21:56.474Z"
   },
   {
    "duration": 6,
    "start_time": "2025-04-06T22:21:56.515Z"
   },
   {
    "duration": 14,
    "start_time": "2025-04-06T22:21:56.523Z"
   },
   {
    "duration": 11,
    "start_time": "2025-04-06T22:21:56.538Z"
   },
   {
    "duration": 7,
    "start_time": "2025-04-06T22:21:56.550Z"
   },
   {
    "duration": 46,
    "start_time": "2025-04-06T22:21:56.559Z"
   },
   {
    "duration": 12,
    "start_time": "2025-04-06T22:21:56.607Z"
   },
   {
    "duration": 14,
    "start_time": "2025-04-06T22:21:56.621Z"
   },
   {
    "duration": 629,
    "start_time": "2025-04-06T22:21:56.636Z"
   },
   {
    "duration": 0,
    "start_time": "2025-04-06T22:21:57.268Z"
   },
   {
    "duration": 0,
    "start_time": "2025-04-06T22:21:57.269Z"
   },
   {
    "duration": 0,
    "start_time": "2025-04-06T22:21:57.271Z"
   },
   {
    "duration": 0,
    "start_time": "2025-04-06T22:21:57.272Z"
   },
   {
    "duration": 0,
    "start_time": "2025-04-06T22:21:57.274Z"
   },
   {
    "duration": 0,
    "start_time": "2025-04-06T22:21:57.275Z"
   },
   {
    "duration": 1,
    "start_time": "2025-04-06T22:21:57.276Z"
   },
   {
    "duration": 0,
    "start_time": "2025-04-06T22:21:57.278Z"
   },
   {
    "duration": 0,
    "start_time": "2025-04-06T22:21:57.279Z"
   },
   {
    "duration": 0,
    "start_time": "2025-04-06T22:21:57.280Z"
   },
   {
    "duration": 40,
    "start_time": "2025-04-06T22:22:05.910Z"
   },
   {
    "duration": 40,
    "start_time": "2025-04-06T22:23:18.050Z"
   },
   {
    "duration": 9,
    "start_time": "2025-04-06T22:23:31.330Z"
   },
   {
    "duration": 123,
    "start_time": "2025-04-06T22:23:33.900Z"
   },
   {
    "duration": 8,
    "start_time": "2025-04-06T22:23:58.478Z"
   },
   {
    "duration": 766,
    "start_time": "2025-04-06T22:24:09.978Z"
   },
   {
    "duration": 160,
    "start_time": "2025-04-06T22:24:10.746Z"
   },
   {
    "duration": 12,
    "start_time": "2025-04-06T22:24:10.908Z"
   },
   {
    "duration": 10,
    "start_time": "2025-04-06T22:24:10.922Z"
   },
   {
    "duration": 235,
    "start_time": "2025-04-06T22:24:10.934Z"
   },
   {
    "duration": 0,
    "start_time": "2025-04-06T22:24:11.172Z"
   },
   {
    "duration": 0,
    "start_time": "2025-04-06T22:24:11.173Z"
   },
   {
    "duration": 0,
    "start_time": "2025-04-06T22:24:11.174Z"
   },
   {
    "duration": 0,
    "start_time": "2025-04-06T22:24:11.175Z"
   },
   {
    "duration": 0,
    "start_time": "2025-04-06T22:24:11.176Z"
   },
   {
    "duration": 0,
    "start_time": "2025-04-06T22:24:11.177Z"
   },
   {
    "duration": 0,
    "start_time": "2025-04-06T22:24:11.178Z"
   },
   {
    "duration": 0,
    "start_time": "2025-04-06T22:24:11.179Z"
   },
   {
    "duration": 0,
    "start_time": "2025-04-06T22:24:11.181Z"
   },
   {
    "duration": 0,
    "start_time": "2025-04-06T22:24:11.182Z"
   },
   {
    "duration": 0,
    "start_time": "2025-04-06T22:24:11.183Z"
   },
   {
    "duration": 0,
    "start_time": "2025-04-06T22:24:11.205Z"
   },
   {
    "duration": 0,
    "start_time": "2025-04-06T22:24:11.206Z"
   },
   {
    "duration": 0,
    "start_time": "2025-04-06T22:24:11.207Z"
   },
   {
    "duration": 0,
    "start_time": "2025-04-06T22:24:11.208Z"
   },
   {
    "duration": 0,
    "start_time": "2025-04-06T22:24:11.209Z"
   },
   {
    "duration": 0,
    "start_time": "2025-04-06T22:24:11.210Z"
   },
   {
    "duration": 0,
    "start_time": "2025-04-06T22:24:11.212Z"
   },
   {
    "duration": 0,
    "start_time": "2025-04-06T22:24:11.213Z"
   },
   {
    "duration": 0,
    "start_time": "2025-04-06T22:24:11.214Z"
   },
   {
    "duration": 0,
    "start_time": "2025-04-06T22:24:11.215Z"
   },
   {
    "duration": 0,
    "start_time": "2025-04-06T22:24:11.216Z"
   },
   {
    "duration": 0,
    "start_time": "2025-04-06T22:24:11.218Z"
   },
   {
    "duration": 0,
    "start_time": "2025-04-06T22:24:11.219Z"
   },
   {
    "duration": 0,
    "start_time": "2025-04-06T22:24:11.219Z"
   },
   {
    "duration": 0,
    "start_time": "2025-04-06T22:24:11.221Z"
   },
   {
    "duration": 0,
    "start_time": "2025-04-06T22:24:11.222Z"
   },
   {
    "duration": 0,
    "start_time": "2025-04-06T22:24:11.223Z"
   },
   {
    "duration": 0,
    "start_time": "2025-04-06T22:24:11.224Z"
   },
   {
    "duration": 0,
    "start_time": "2025-04-06T22:24:11.225Z"
   },
   {
    "duration": 0,
    "start_time": "2025-04-06T22:24:11.226Z"
   },
   {
    "duration": 0,
    "start_time": "2025-04-06T22:24:11.227Z"
   },
   {
    "duration": 0,
    "start_time": "2025-04-06T22:24:11.229Z"
   },
   {
    "duration": 0,
    "start_time": "2025-04-06T22:24:11.230Z"
   },
   {
    "duration": 0,
    "start_time": "2025-04-06T22:24:11.231Z"
   },
   {
    "duration": 0,
    "start_time": "2025-04-06T22:24:11.235Z"
   },
   {
    "duration": 0,
    "start_time": "2025-04-06T22:24:11.235Z"
   },
   {
    "duration": 0,
    "start_time": "2025-04-06T22:24:11.236Z"
   },
   {
    "duration": 0,
    "start_time": "2025-04-06T22:24:11.237Z"
   },
   {
    "duration": 0,
    "start_time": "2025-04-06T22:24:11.238Z"
   },
   {
    "duration": 0,
    "start_time": "2025-04-06T22:24:11.238Z"
   },
   {
    "duration": 0,
    "start_time": "2025-04-06T22:24:11.239Z"
   },
   {
    "duration": 9,
    "start_time": "2025-04-06T22:24:37.091Z"
   },
   {
    "duration": 10,
    "start_time": "2025-04-06T22:28:40.702Z"
   },
   {
    "duration": 405,
    "start_time": "2025-04-06T22:28:42.862Z"
   },
   {
    "duration": 4,
    "start_time": "2025-04-06T22:29:38.395Z"
   },
   {
    "duration": 40,
    "start_time": "2025-04-06T22:29:43.516Z"
   },
   {
    "duration": 41,
    "start_time": "2025-04-06T22:32:20.187Z"
   },
   {
    "duration": 8,
    "start_time": "2025-04-06T22:32:25.522Z"
   },
   {
    "duration": 116,
    "start_time": "2025-04-06T22:32:29.742Z"
   },
   {
    "duration": 40,
    "start_time": "2025-04-06T22:32:47.801Z"
   },
   {
    "duration": 163,
    "start_time": "2025-04-06T22:32:55.231Z"
   },
   {
    "duration": 10,
    "start_time": "2025-04-06T22:32:58.885Z"
   },
   {
    "duration": 8,
    "start_time": "2025-04-06T22:33:01.671Z"
   },
   {
    "duration": 5,
    "start_time": "2025-04-06T22:33:04.412Z"
   },
   {
    "duration": 138,
    "start_time": "2025-04-06T22:33:38.546Z"
   },
   {
    "duration": 29,
    "start_time": "2025-04-06T22:34:02.690Z"
   },
   {
    "duration": 28,
    "start_time": "2025-04-06T22:34:04.028Z"
   },
   {
    "duration": 746,
    "start_time": "2025-04-06T22:34:12.096Z"
   },
   {
    "duration": 157,
    "start_time": "2025-04-06T22:34:12.845Z"
   },
   {
    "duration": 12,
    "start_time": "2025-04-06T22:34:13.003Z"
   },
   {
    "duration": 8,
    "start_time": "2025-04-06T22:34:13.017Z"
   },
   {
    "duration": 8,
    "start_time": "2025-04-06T22:34:13.027Z"
   },
   {
    "duration": 3,
    "start_time": "2025-04-06T22:34:13.037Z"
   },
   {
    "duration": 0,
    "start_time": "2025-04-06T22:34:13.043Z"
   },
   {
    "duration": 0,
    "start_time": "2025-04-06T22:34:13.044Z"
   },
   {
    "duration": 0,
    "start_time": "2025-04-06T22:34:13.046Z"
   },
   {
    "duration": 0,
    "start_time": "2025-04-06T22:34:13.047Z"
   },
   {
    "duration": 0,
    "start_time": "2025-04-06T22:34:13.048Z"
   },
   {
    "duration": 0,
    "start_time": "2025-04-06T22:34:13.049Z"
   },
   {
    "duration": 0,
    "start_time": "2025-04-06T22:34:13.050Z"
   },
   {
    "duration": 0,
    "start_time": "2025-04-06T22:34:13.051Z"
   },
   {
    "duration": 0,
    "start_time": "2025-04-06T22:34:13.052Z"
   },
   {
    "duration": 0,
    "start_time": "2025-04-06T22:34:13.054Z"
   },
   {
    "duration": 0,
    "start_time": "2025-04-06T22:34:13.055Z"
   },
   {
    "duration": 0,
    "start_time": "2025-04-06T22:34:13.057Z"
   },
   {
    "duration": 0,
    "start_time": "2025-04-06T22:34:13.059Z"
   },
   {
    "duration": 0,
    "start_time": "2025-04-06T22:34:13.060Z"
   },
   {
    "duration": 0,
    "start_time": "2025-04-06T22:34:13.105Z"
   },
   {
    "duration": 0,
    "start_time": "2025-04-06T22:34:13.107Z"
   },
   {
    "duration": 0,
    "start_time": "2025-04-06T22:34:13.109Z"
   },
   {
    "duration": 0,
    "start_time": "2025-04-06T22:34:13.110Z"
   },
   {
    "duration": 0,
    "start_time": "2025-04-06T22:34:13.111Z"
   },
   {
    "duration": 0,
    "start_time": "2025-04-06T22:34:13.116Z"
   },
   {
    "duration": 0,
    "start_time": "2025-04-06T22:34:13.117Z"
   },
   {
    "duration": 0,
    "start_time": "2025-04-06T22:34:13.118Z"
   },
   {
    "duration": 0,
    "start_time": "2025-04-06T22:34:13.119Z"
   },
   {
    "duration": 0,
    "start_time": "2025-04-06T22:34:13.121Z"
   },
   {
    "duration": 0,
    "start_time": "2025-04-06T22:34:13.123Z"
   },
   {
    "duration": 0,
    "start_time": "2025-04-06T22:34:13.124Z"
   },
   {
    "duration": 0,
    "start_time": "2025-04-06T22:34:13.126Z"
   },
   {
    "duration": 0,
    "start_time": "2025-04-06T22:34:13.127Z"
   },
   {
    "duration": 0,
    "start_time": "2025-04-06T22:34:13.129Z"
   },
   {
    "duration": 0,
    "start_time": "2025-04-06T22:34:13.130Z"
   },
   {
    "duration": 0,
    "start_time": "2025-04-06T22:34:13.132Z"
   },
   {
    "duration": 0,
    "start_time": "2025-04-06T22:34:13.134Z"
   },
   {
    "duration": 0,
    "start_time": "2025-04-06T22:34:13.135Z"
   },
   {
    "duration": 0,
    "start_time": "2025-04-06T22:34:13.136Z"
   },
   {
    "duration": 1,
    "start_time": "2025-04-06T22:34:13.137Z"
   },
   {
    "duration": 0,
    "start_time": "2025-04-06T22:34:13.139Z"
   },
   {
    "duration": 0,
    "start_time": "2025-04-06T22:34:13.140Z"
   },
   {
    "duration": 0,
    "start_time": "2025-04-06T22:34:13.141Z"
   },
   {
    "duration": 0,
    "start_time": "2025-04-06T22:34:13.142Z"
   },
   {
    "duration": 0,
    "start_time": "2025-04-06T22:34:13.143Z"
   },
   {
    "duration": 0,
    "start_time": "2025-04-06T22:34:13.144Z"
   },
   {
    "duration": 0,
    "start_time": "2025-04-06T22:34:13.146Z"
   },
   {
    "duration": 4,
    "start_time": "2025-04-06T22:34:38.093Z"
   },
   {
    "duration": 211,
    "start_time": "2025-04-06T22:34:55.589Z"
   },
   {
    "duration": 8,
    "start_time": "2025-04-06T22:35:06.381Z"
   },
   {
    "duration": 801,
    "start_time": "2025-04-06T22:35:24.930Z"
   },
   {
    "duration": 152,
    "start_time": "2025-04-06T22:35:25.734Z"
   },
   {
    "duration": 12,
    "start_time": "2025-04-06T22:35:25.887Z"
   },
   {
    "duration": 9,
    "start_time": "2025-04-06T22:35:25.905Z"
   },
   {
    "duration": 8,
    "start_time": "2025-04-06T22:35:25.916Z"
   },
   {
    "duration": 8,
    "start_time": "2025-04-06T22:35:25.926Z"
   },
   {
    "duration": 10,
    "start_time": "2025-04-06T22:35:25.936Z"
   },
   {
    "duration": 6,
    "start_time": "2025-04-06T22:35:25.947Z"
   },
   {
    "duration": 8,
    "start_time": "2025-04-06T22:35:25.954Z"
   },
   {
    "duration": 56,
    "start_time": "2025-04-06T22:35:25.963Z"
   },
   {
    "duration": 8,
    "start_time": "2025-04-06T22:35:26.021Z"
   },
   {
    "duration": 11,
    "start_time": "2025-04-06T22:35:26.030Z"
   },
   {
    "duration": 20,
    "start_time": "2025-04-06T22:35:26.044Z"
   },
   {
    "duration": 59,
    "start_time": "2025-04-06T22:35:26.069Z"
   },
   {
    "duration": 8,
    "start_time": "2025-04-06T22:35:26.130Z"
   },
   {
    "duration": 28,
    "start_time": "2025-04-06T22:35:26.139Z"
   },
   {
    "duration": 40,
    "start_time": "2025-04-06T22:35:26.169Z"
   },
   {
    "duration": 13,
    "start_time": "2025-04-06T22:35:26.211Z"
   },
   {
    "duration": 14,
    "start_time": "2025-04-06T22:35:26.226Z"
   },
   {
    "duration": 6,
    "start_time": "2025-04-06T22:35:26.242Z"
   },
   {
    "duration": 20,
    "start_time": "2025-04-06T22:35:26.250Z"
   },
   {
    "duration": 40,
    "start_time": "2025-04-06T22:35:26.271Z"
   },
   {
    "duration": 15,
    "start_time": "2025-04-06T22:35:26.313Z"
   },
   {
    "duration": 34,
    "start_time": "2025-04-06T22:35:26.330Z"
   },
   {
    "duration": 6,
    "start_time": "2025-04-06T22:35:26.366Z"
   },
   {
    "duration": 49,
    "start_time": "2025-04-06T22:35:26.374Z"
   },
   {
    "duration": 15,
    "start_time": "2025-04-06T22:35:26.425Z"
   },
   {
    "duration": 7,
    "start_time": "2025-04-06T22:35:26.441Z"
   },
   {
    "duration": 17,
    "start_time": "2025-04-06T22:35:26.450Z"
   },
   {
    "duration": 42,
    "start_time": "2025-04-06T22:35:26.469Z"
   },
   {
    "duration": 7,
    "start_time": "2025-04-06T22:35:26.513Z"
   },
   {
    "duration": 14,
    "start_time": "2025-04-06T22:35:26.521Z"
   },
   {
    "duration": 10,
    "start_time": "2025-04-06T22:35:26.537Z"
   },
   {
    "duration": 6,
    "start_time": "2025-04-06T22:35:26.548Z"
   },
   {
    "duration": 14,
    "start_time": "2025-04-06T22:35:26.555Z"
   },
   {
    "duration": 44,
    "start_time": "2025-04-06T22:35:26.571Z"
   },
   {
    "duration": 14,
    "start_time": "2025-04-06T22:35:26.616Z"
   },
   {
    "duration": 625,
    "start_time": "2025-04-06T22:35:26.632Z"
   },
   {
    "duration": 0,
    "start_time": "2025-04-06T22:35:27.259Z"
   },
   {
    "duration": 0,
    "start_time": "2025-04-06T22:35:27.260Z"
   },
   {
    "duration": 0,
    "start_time": "2025-04-06T22:35:27.261Z"
   },
   {
    "duration": 0,
    "start_time": "2025-04-06T22:35:27.262Z"
   },
   {
    "duration": 0,
    "start_time": "2025-04-06T22:35:27.263Z"
   },
   {
    "duration": 0,
    "start_time": "2025-04-06T22:35:27.264Z"
   },
   {
    "duration": 0,
    "start_time": "2025-04-06T22:35:27.265Z"
   },
   {
    "duration": 1,
    "start_time": "2025-04-06T22:35:27.265Z"
   },
   {
    "duration": 0,
    "start_time": "2025-04-06T22:35:27.266Z"
   },
   {
    "duration": 0,
    "start_time": "2025-04-06T22:35:27.267Z"
   },
   {
    "duration": 42,
    "start_time": "2025-04-06T22:36:31.587Z"
   },
   {
    "duration": 774,
    "start_time": "2025-04-06T22:36:49.261Z"
   },
   {
    "duration": 153,
    "start_time": "2025-04-06T22:36:50.038Z"
   },
   {
    "duration": 16,
    "start_time": "2025-04-06T22:36:50.193Z"
   },
   {
    "duration": 8,
    "start_time": "2025-04-06T22:36:50.212Z"
   },
   {
    "duration": 8,
    "start_time": "2025-04-06T22:36:50.221Z"
   },
   {
    "duration": 7,
    "start_time": "2025-04-06T22:36:50.231Z"
   },
   {
    "duration": 10,
    "start_time": "2025-04-06T22:36:50.240Z"
   },
   {
    "duration": 5,
    "start_time": "2025-04-06T22:36:50.251Z"
   },
   {
    "duration": 8,
    "start_time": "2025-04-06T22:36:50.258Z"
   },
   {
    "duration": 17,
    "start_time": "2025-04-06T22:36:50.306Z"
   },
   {
    "duration": 8,
    "start_time": "2025-04-06T22:36:50.325Z"
   },
   {
    "duration": 11,
    "start_time": "2025-04-06T22:36:50.335Z"
   },
   {
    "duration": 17,
    "start_time": "2025-04-06T22:36:50.348Z"
   },
   {
    "duration": 64,
    "start_time": "2025-04-06T22:36:50.366Z"
   },
   {
    "duration": 7,
    "start_time": "2025-04-06T22:36:50.432Z"
   },
   {
    "duration": 32,
    "start_time": "2025-04-06T22:36:50.441Z"
   },
   {
    "duration": 45,
    "start_time": "2025-04-06T22:36:50.476Z"
   },
   {
    "duration": 14,
    "start_time": "2025-04-06T22:36:50.523Z"
   },
   {
    "duration": 16,
    "start_time": "2025-04-06T22:36:50.538Z"
   },
   {
    "duration": 6,
    "start_time": "2025-04-06T22:36:50.556Z"
   },
   {
    "duration": 46,
    "start_time": "2025-04-06T22:36:50.563Z"
   },
   {
    "duration": 11,
    "start_time": "2025-04-06T22:36:50.611Z"
   },
   {
    "duration": 14,
    "start_time": "2025-04-06T22:36:50.623Z"
   },
   {
    "duration": 34,
    "start_time": "2025-04-06T22:36:50.639Z"
   },
   {
    "duration": 33,
    "start_time": "2025-04-06T22:36:50.677Z"
   },
   {
    "duration": 25,
    "start_time": "2025-04-06T22:36:50.712Z"
   },
   {
    "duration": 14,
    "start_time": "2025-04-06T22:36:50.739Z"
   },
   {
    "duration": 7,
    "start_time": "2025-04-06T22:36:50.757Z"
   },
   {
    "duration": 48,
    "start_time": "2025-04-06T22:36:50.766Z"
   },
   {
    "duration": 15,
    "start_time": "2025-04-06T22:36:50.816Z"
   },
   {
    "duration": 6,
    "start_time": "2025-04-06T22:36:50.834Z"
   },
   {
    "duration": 13,
    "start_time": "2025-04-06T22:36:50.842Z"
   },
   {
    "duration": 11,
    "start_time": "2025-04-06T22:36:50.857Z"
   },
   {
    "duration": 35,
    "start_time": "2025-04-06T22:36:50.870Z"
   },
   {
    "duration": 14,
    "start_time": "2025-04-06T22:36:50.907Z"
   },
   {
    "duration": 14,
    "start_time": "2025-04-06T22:36:50.922Z"
   },
   {
    "duration": 14,
    "start_time": "2025-04-06T22:36:50.938Z"
   },
   {
    "duration": 634,
    "start_time": "2025-04-06T22:36:50.954Z"
   },
   {
    "duration": 0,
    "start_time": "2025-04-06T22:36:51.590Z"
   },
   {
    "duration": 0,
    "start_time": "2025-04-06T22:36:51.591Z"
   },
   {
    "duration": 0,
    "start_time": "2025-04-06T22:36:51.592Z"
   },
   {
    "duration": 0,
    "start_time": "2025-04-06T22:36:51.593Z"
   },
   {
    "duration": 0,
    "start_time": "2025-04-06T22:36:51.594Z"
   },
   {
    "duration": 0,
    "start_time": "2025-04-06T22:36:51.595Z"
   },
   {
    "duration": 0,
    "start_time": "2025-04-06T22:36:51.606Z"
   },
   {
    "duration": 0,
    "start_time": "2025-04-06T22:36:51.607Z"
   },
   {
    "duration": 0,
    "start_time": "2025-04-06T22:36:51.609Z"
   },
   {
    "duration": 0,
    "start_time": "2025-04-06T22:36:51.610Z"
   },
   {
    "duration": 40,
    "start_time": "2025-04-06T22:36:59.420Z"
   },
   {
    "duration": 43,
    "start_time": "2025-04-06T22:37:40.670Z"
   },
   {
    "duration": 10,
    "start_time": "2025-04-06T22:37:57.104Z"
   },
   {
    "duration": 8,
    "start_time": "2025-04-06T22:38:00.669Z"
   },
   {
    "duration": 772,
    "start_time": "2025-04-06T22:38:24.871Z"
   },
   {
    "duration": 156,
    "start_time": "2025-04-06T22:38:25.646Z"
   },
   {
    "duration": 12,
    "start_time": "2025-04-06T22:38:25.803Z"
   },
   {
    "duration": 8,
    "start_time": "2025-04-06T22:38:25.818Z"
   },
   {
    "duration": 8,
    "start_time": "2025-04-06T22:38:25.828Z"
   },
   {
    "duration": 7,
    "start_time": "2025-04-06T22:38:25.838Z"
   },
   {
    "duration": 10,
    "start_time": "2025-04-06T22:38:25.847Z"
   },
   {
    "duration": 4,
    "start_time": "2025-04-06T22:38:25.860Z"
   },
   {
    "duration": 40,
    "start_time": "2025-04-06T22:38:25.866Z"
   },
   {
    "duration": 16,
    "start_time": "2025-04-06T22:38:25.908Z"
   },
   {
    "duration": 9,
    "start_time": "2025-04-06T22:38:25.926Z"
   },
   {
    "duration": 11,
    "start_time": "2025-04-06T22:38:25.937Z"
   },
   {
    "duration": 16,
    "start_time": "2025-04-06T22:38:25.949Z"
   },
   {
    "duration": 63,
    "start_time": "2025-04-06T22:38:25.967Z"
   },
   {
    "duration": 6,
    "start_time": "2025-04-06T22:38:26.032Z"
   },
   {
    "duration": 29,
    "start_time": "2025-04-06T22:38:26.040Z"
   },
   {
    "duration": 37,
    "start_time": "2025-04-06T22:38:26.071Z"
   },
   {
    "duration": 13,
    "start_time": "2025-04-06T22:38:26.110Z"
   },
   {
    "duration": 15,
    "start_time": "2025-04-06T22:38:26.125Z"
   },
   {
    "duration": 8,
    "start_time": "2025-04-06T22:38:26.142Z"
   },
   {
    "duration": 20,
    "start_time": "2025-04-06T22:38:26.151Z"
   },
   {
    "duration": 36,
    "start_time": "2025-04-06T22:38:26.173Z"
   },
   {
    "duration": 15,
    "start_time": "2025-04-06T22:38:26.211Z"
   },
   {
    "duration": 36,
    "start_time": "2025-04-06T22:38:26.227Z"
   },
   {
    "duration": 7,
    "start_time": "2025-04-06T22:38:26.265Z"
   },
   {
    "duration": 55,
    "start_time": "2025-04-06T22:38:26.273Z"
   },
   {
    "duration": 13,
    "start_time": "2025-04-06T22:38:26.329Z"
   },
   {
    "duration": 7,
    "start_time": "2025-04-06T22:38:26.347Z"
   },
   {
    "duration": 19,
    "start_time": "2025-04-06T22:38:26.355Z"
   },
   {
    "duration": 40,
    "start_time": "2025-04-06T22:38:26.376Z"
   },
   {
    "duration": 6,
    "start_time": "2025-04-06T22:38:26.418Z"
   },
   {
    "duration": 13,
    "start_time": "2025-04-06T22:38:26.425Z"
   },
   {
    "duration": 11,
    "start_time": "2025-04-06T22:38:26.440Z"
   },
   {
    "duration": 7,
    "start_time": "2025-04-06T22:38:26.453Z"
   },
   {
    "duration": 46,
    "start_time": "2025-04-06T22:38:26.461Z"
   },
   {
    "duration": 16,
    "start_time": "2025-04-06T22:38:26.508Z"
   },
   {
    "duration": 15,
    "start_time": "2025-04-06T22:38:26.527Z"
   },
   {
    "duration": 646,
    "start_time": "2025-04-06T22:38:26.544Z"
   },
   {
    "duration": 0,
    "start_time": "2025-04-06T22:38:27.192Z"
   },
   {
    "duration": 0,
    "start_time": "2025-04-06T22:38:27.193Z"
   },
   {
    "duration": 0,
    "start_time": "2025-04-06T22:38:27.194Z"
   },
   {
    "duration": 0,
    "start_time": "2025-04-06T22:38:27.195Z"
   },
   {
    "duration": 0,
    "start_time": "2025-04-06T22:38:27.196Z"
   },
   {
    "duration": 0,
    "start_time": "2025-04-06T22:38:27.205Z"
   },
   {
    "duration": 0,
    "start_time": "2025-04-06T22:38:27.206Z"
   },
   {
    "duration": 0,
    "start_time": "2025-04-06T22:38:27.207Z"
   },
   {
    "duration": 0,
    "start_time": "2025-04-06T22:38:27.208Z"
   },
   {
    "duration": 0,
    "start_time": "2025-04-06T22:38:27.209Z"
   },
   {
    "duration": 18,
    "start_time": "2025-04-06T22:39:44.083Z"
   },
   {
    "duration": 750,
    "start_time": "2025-04-06T22:41:10.392Z"
   },
   {
    "duration": 156,
    "start_time": "2025-04-06T22:41:11.146Z"
   },
   {
    "duration": 12,
    "start_time": "2025-04-06T22:41:11.304Z"
   },
   {
    "duration": 7,
    "start_time": "2025-04-06T22:41:11.318Z"
   },
   {
    "duration": 8,
    "start_time": "2025-04-06T22:41:11.327Z"
   },
   {
    "duration": 7,
    "start_time": "2025-04-06T22:41:11.336Z"
   },
   {
    "duration": 9,
    "start_time": "2025-04-06T22:41:11.345Z"
   },
   {
    "duration": 4,
    "start_time": "2025-04-06T22:41:11.356Z"
   },
   {
    "duration": 44,
    "start_time": "2025-04-06T22:41:11.362Z"
   },
   {
    "duration": 17,
    "start_time": "2025-04-06T22:41:11.409Z"
   },
   {
    "duration": 8,
    "start_time": "2025-04-06T22:41:11.427Z"
   },
   {
    "duration": 12,
    "start_time": "2025-04-06T22:41:11.437Z"
   },
   {
    "duration": 15,
    "start_time": "2025-04-06T22:41:11.451Z"
   },
   {
    "duration": 62,
    "start_time": "2025-04-06T22:41:11.467Z"
   },
   {
    "duration": 6,
    "start_time": "2025-04-06T22:41:11.531Z"
   },
   {
    "duration": 28,
    "start_time": "2025-04-06T22:41:11.539Z"
   },
   {
    "duration": 42,
    "start_time": "2025-04-06T22:41:11.569Z"
   },
   {
    "duration": 16,
    "start_time": "2025-04-06T22:41:11.613Z"
   },
   {
    "duration": 18,
    "start_time": "2025-04-06T22:41:11.630Z"
   },
   {
    "duration": 7,
    "start_time": "2025-04-06T22:41:11.650Z"
   },
   {
    "duration": 49,
    "start_time": "2025-04-06T22:41:11.659Z"
   },
   {
    "duration": 11,
    "start_time": "2025-04-06T22:41:11.713Z"
   },
   {
    "duration": 14,
    "start_time": "2025-04-06T22:41:11.726Z"
   },
   {
    "duration": 35,
    "start_time": "2025-04-06T22:41:11.742Z"
   },
   {
    "duration": 27,
    "start_time": "2025-04-06T22:41:11.778Z"
   },
   {
    "duration": 24,
    "start_time": "2025-04-06T22:41:11.807Z"
   },
   {
    "duration": 13,
    "start_time": "2025-04-06T22:41:11.833Z"
   },
   {
    "duration": 6,
    "start_time": "2025-04-06T22:41:11.850Z"
   },
   {
    "duration": 18,
    "start_time": "2025-04-06T22:41:11.857Z"
   },
   {
    "duration": 13,
    "start_time": "2025-04-06T22:41:11.905Z"
   },
   {
    "duration": 7,
    "start_time": "2025-04-06T22:41:11.919Z"
   },
   {
    "duration": 12,
    "start_time": "2025-04-06T22:41:11.927Z"
   },
   {
    "duration": 10,
    "start_time": "2025-04-06T22:41:11.941Z"
   },
   {
    "duration": 6,
    "start_time": "2025-04-06T22:41:11.952Z"
   },
   {
    "duration": 45,
    "start_time": "2025-04-06T22:41:11.960Z"
   },
   {
    "duration": 12,
    "start_time": "2025-04-06T22:41:12.007Z"
   },
   {
    "duration": 15,
    "start_time": "2025-04-06T22:41:12.020Z"
   },
   {
    "duration": 635,
    "start_time": "2025-04-06T22:41:12.036Z"
   },
   {
    "duration": 0,
    "start_time": "2025-04-06T22:41:12.673Z"
   },
   {
    "duration": 0,
    "start_time": "2025-04-06T22:41:12.675Z"
   },
   {
    "duration": 0,
    "start_time": "2025-04-06T22:41:12.676Z"
   },
   {
    "duration": 0,
    "start_time": "2025-04-06T22:41:12.677Z"
   },
   {
    "duration": 0,
    "start_time": "2025-04-06T22:41:12.679Z"
   },
   {
    "duration": 0,
    "start_time": "2025-04-06T22:41:12.680Z"
   },
   {
    "duration": 0,
    "start_time": "2025-04-06T22:41:12.681Z"
   },
   {
    "duration": 0,
    "start_time": "2025-04-06T22:41:12.682Z"
   },
   {
    "duration": 0,
    "start_time": "2025-04-06T22:41:12.683Z"
   },
   {
    "duration": 0,
    "start_time": "2025-04-06T22:41:12.684Z"
   },
   {
    "duration": 5,
    "start_time": "2025-04-06T22:44:48.377Z"
   },
   {
    "duration": 8,
    "start_time": "2025-04-06T22:44:58.473Z"
   },
   {
    "duration": 159,
    "start_time": "2025-04-06T23:22:14.925Z"
   },
   {
    "duration": 2421,
    "start_time": "2025-04-06T23:22:21.088Z"
   },
   {
    "duration": 216,
    "start_time": "2025-04-06T23:22:23.511Z"
   },
   {
    "duration": 11,
    "start_time": "2025-04-06T23:22:23.729Z"
   },
   {
    "duration": 9,
    "start_time": "2025-04-06T23:22:23.743Z"
   },
   {
    "duration": 8,
    "start_time": "2025-04-06T23:22:23.753Z"
   },
   {
    "duration": 7,
    "start_time": "2025-04-06T23:22:23.763Z"
   },
   {
    "duration": 9,
    "start_time": "2025-04-06T23:22:23.772Z"
   },
   {
    "duration": 7,
    "start_time": "2025-04-06T23:22:23.783Z"
   },
   {
    "duration": 50,
    "start_time": "2025-04-06T23:22:23.792Z"
   },
   {
    "duration": 22,
    "start_time": "2025-04-06T23:22:23.848Z"
   },
   {
    "duration": 11,
    "start_time": "2025-04-06T23:22:23.873Z"
   },
   {
    "duration": 15,
    "start_time": "2025-04-06T23:22:23.886Z"
   },
   {
    "duration": 41,
    "start_time": "2025-04-06T23:22:23.904Z"
   },
   {
    "duration": 31,
    "start_time": "2025-04-06T23:22:23.947Z"
   },
   {
    "duration": 6,
    "start_time": "2025-04-06T23:22:23.980Z"
   },
   {
    "duration": 49,
    "start_time": "2025-04-06T23:22:23.988Z"
   },
   {
    "duration": 17,
    "start_time": "2025-04-06T23:22:24.039Z"
   },
   {
    "duration": 14,
    "start_time": "2025-04-06T23:22:24.057Z"
   },
   {
    "duration": 15,
    "start_time": "2025-04-06T23:22:24.074Z"
   },
   {
    "duration": 9,
    "start_time": "2025-04-06T23:22:24.091Z"
   },
   {
    "duration": 51,
    "start_time": "2025-04-06T23:22:24.101Z"
   },
   {
    "duration": 11,
    "start_time": "2025-04-06T23:22:24.154Z"
   },
   {
    "duration": 14,
    "start_time": "2025-04-06T23:22:24.167Z"
   },
   {
    "duration": 61,
    "start_time": "2025-04-06T23:22:24.182Z"
   },
   {
    "duration": 7,
    "start_time": "2025-04-06T23:22:24.245Z"
   },
   {
    "duration": 24,
    "start_time": "2025-04-06T23:22:24.253Z"
   },
   {
    "duration": 12,
    "start_time": "2025-04-06T23:22:24.280Z"
   },
   {
    "duration": 9,
    "start_time": "2025-04-06T23:22:24.297Z"
   },
   {
    "duration": 18,
    "start_time": "2025-04-06T23:22:24.330Z"
   },
   {
    "duration": 14,
    "start_time": "2025-04-06T23:22:24.350Z"
   },
   {
    "duration": 6,
    "start_time": "2025-04-06T23:22:24.366Z"
   },
   {
    "duration": 12,
    "start_time": "2025-04-06T23:22:24.374Z"
   },
   {
    "duration": 11,
    "start_time": "2025-04-06T23:22:24.387Z"
   },
   {
    "duration": 35,
    "start_time": "2025-04-06T23:22:24.400Z"
   },
   {
    "duration": 6,
    "start_time": "2025-04-06T23:22:24.437Z"
   },
   {
    "duration": 13,
    "start_time": "2025-04-06T23:22:24.445Z"
   },
   {
    "duration": 12,
    "start_time": "2025-04-06T23:22:24.459Z"
   },
   {
    "duration": 14,
    "start_time": "2025-04-06T23:22:24.473Z"
   },
   {
    "duration": 667,
    "start_time": "2025-04-06T23:22:24.488Z"
   },
   {
    "duration": 0,
    "start_time": "2025-04-06T23:22:25.157Z"
   },
   {
    "duration": 0,
    "start_time": "2025-04-06T23:22:25.158Z"
   },
   {
    "duration": 0,
    "start_time": "2025-04-06T23:22:25.159Z"
   },
   {
    "duration": 0,
    "start_time": "2025-04-06T23:22:25.161Z"
   },
   {
    "duration": 0,
    "start_time": "2025-04-06T23:22:25.163Z"
   },
   {
    "duration": 0,
    "start_time": "2025-04-06T23:22:25.164Z"
   },
   {
    "duration": 0,
    "start_time": "2025-04-06T23:22:25.166Z"
   },
   {
    "duration": 0,
    "start_time": "2025-04-06T23:22:25.167Z"
   },
   {
    "duration": 0,
    "start_time": "2025-04-06T23:22:25.169Z"
   },
   {
    "duration": 0,
    "start_time": "2025-04-06T23:22:25.170Z"
   },
   {
    "duration": 8,
    "start_time": "2025-04-06T23:24:05.875Z"
   },
   {
    "duration": 8,
    "start_time": "2025-04-06T23:24:24.019Z"
   },
   {
    "duration": 13,
    "start_time": "2025-04-06T23:24:28.158Z"
   },
   {
    "duration": 7,
    "start_time": "2025-04-06T23:25:36.694Z"
   },
   {
    "duration": 12,
    "start_time": "2025-04-06T23:25:38.943Z"
   },
   {
    "duration": 8,
    "start_time": "2025-04-06T23:28:02.869Z"
   },
   {
    "duration": 12,
    "start_time": "2025-04-06T23:28:04.477Z"
   },
   {
    "duration": 4,
    "start_time": "2025-04-06T23:30:46.185Z"
   },
   {
    "duration": 6,
    "start_time": "2025-04-06T23:30:48.225Z"
   },
   {
    "duration": 806,
    "start_time": "2025-04-06T23:31:18.453Z"
   },
   {
    "duration": 156,
    "start_time": "2025-04-06T23:31:19.262Z"
   },
   {
    "duration": 12,
    "start_time": "2025-04-06T23:31:19.420Z"
   },
   {
    "duration": 9,
    "start_time": "2025-04-06T23:31:19.434Z"
   },
   {
    "duration": 9,
    "start_time": "2025-04-06T23:31:19.445Z"
   },
   {
    "duration": 8,
    "start_time": "2025-04-06T23:31:19.456Z"
   },
   {
    "duration": 11,
    "start_time": "2025-04-06T23:31:19.465Z"
   },
   {
    "duration": 5,
    "start_time": "2025-04-06T23:31:19.478Z"
   },
   {
    "duration": 47,
    "start_time": "2025-04-06T23:31:19.484Z"
   },
   {
    "duration": 21,
    "start_time": "2025-04-06T23:31:19.535Z"
   },
   {
    "duration": 9,
    "start_time": "2025-04-06T23:31:19.557Z"
   },
   {
    "duration": 12,
    "start_time": "2025-04-06T23:31:19.568Z"
   },
   {
    "duration": 21,
    "start_time": "2025-04-06T23:31:19.581Z"
   },
   {
    "duration": 58,
    "start_time": "2025-04-06T23:31:19.604Z"
   },
   {
    "duration": 7,
    "start_time": "2025-04-06T23:31:19.663Z"
   },
   {
    "duration": 30,
    "start_time": "2025-04-06T23:31:19.671Z"
   },
   {
    "duration": 37,
    "start_time": "2025-04-06T23:31:19.703Z"
   },
   {
    "duration": 21,
    "start_time": "2025-04-06T23:31:19.741Z"
   },
   {
    "duration": 25,
    "start_time": "2025-04-06T23:31:19.764Z"
   },
   {
    "duration": 8,
    "start_time": "2025-04-06T23:31:19.793Z"
   },
   {
    "duration": 37,
    "start_time": "2025-04-06T23:31:19.804Z"
   },
   {
    "duration": 11,
    "start_time": "2025-04-06T23:31:19.842Z"
   },
   {
    "duration": 14,
    "start_time": "2025-04-06T23:31:19.855Z"
   },
   {
    "duration": 35,
    "start_time": "2025-04-06T23:31:19.871Z"
   },
   {
    "duration": 28,
    "start_time": "2025-04-06T23:31:19.908Z"
   },
   {
    "duration": 25,
    "start_time": "2025-04-06T23:31:19.937Z"
   },
   {
    "duration": 13,
    "start_time": "2025-04-06T23:31:19.963Z"
   },
   {
    "duration": 6,
    "start_time": "2025-04-06T23:31:19.980Z"
   },
   {
    "duration": 47,
    "start_time": "2025-04-06T23:31:19.988Z"
   },
   {
    "duration": 14,
    "start_time": "2025-04-06T23:31:20.037Z"
   },
   {
    "duration": 6,
    "start_time": "2025-04-06T23:31:20.053Z"
   },
   {
    "duration": 13,
    "start_time": "2025-04-06T23:31:20.060Z"
   },
   {
    "duration": 10,
    "start_time": "2025-04-06T23:31:20.075Z"
   },
   {
    "duration": 6,
    "start_time": "2025-04-06T23:31:20.087Z"
   },
   {
    "duration": 37,
    "start_time": "2025-04-06T23:31:20.095Z"
   },
   {
    "duration": 4,
    "start_time": "2025-04-06T23:31:20.134Z"
   },
   {
    "duration": 6,
    "start_time": "2025-04-06T23:31:20.141Z"
   },
   {
    "duration": 14,
    "start_time": "2025-04-06T23:31:20.149Z"
   },
   {
    "duration": 13,
    "start_time": "2025-04-06T23:31:20.164Z"
   },
   {
    "duration": 14,
    "start_time": "2025-04-06T23:31:20.179Z"
   },
   {
    "duration": 43,
    "start_time": "2025-04-06T23:31:20.194Z"
   },
   {
    "duration": 13,
    "start_time": "2025-04-06T23:31:20.239Z"
   },
   {
    "duration": 3,
    "start_time": "2025-04-06T23:31:20.254Z"
   },
   {
    "duration": 3,
    "start_time": "2025-04-06T23:31:20.258Z"
   },
   {
    "duration": 3,
    "start_time": "2025-04-06T23:31:20.263Z"
   },
   {
    "duration": 2,
    "start_time": "2025-04-06T23:31:20.268Z"
   },
   {
    "duration": 3,
    "start_time": "2025-04-06T23:31:20.272Z"
   },
   {
    "duration": 4,
    "start_time": "2025-04-06T23:31:20.276Z"
   },
   {
    "duration": 3,
    "start_time": "2025-04-06T23:31:20.281Z"
   },
   {
    "duration": 3,
    "start_time": "2025-04-06T23:31:20.286Z"
   },
   {
    "duration": 42,
    "start_time": "2025-04-06T23:31:20.291Z"
   },
   {
    "duration": 2437,
    "start_time": "2025-04-07T14:32:47.477Z"
   },
   {
    "duration": 241,
    "start_time": "2025-04-07T14:32:49.917Z"
   },
   {
    "duration": 11,
    "start_time": "2025-04-07T14:32:50.160Z"
   },
   {
    "duration": 9,
    "start_time": "2025-04-07T14:32:50.174Z"
   },
   {
    "duration": 8,
    "start_time": "2025-04-07T14:32:50.185Z"
   },
   {
    "duration": 8,
    "start_time": "2025-04-07T14:32:50.194Z"
   },
   {
    "duration": 9,
    "start_time": "2025-04-07T14:32:50.204Z"
   },
   {
    "duration": 30,
    "start_time": "2025-04-07T14:32:50.215Z"
   },
   {
    "duration": 10,
    "start_time": "2025-04-07T14:32:50.246Z"
   },
   {
    "duration": 18,
    "start_time": "2025-04-07T14:32:50.258Z"
   },
   {
    "duration": 9,
    "start_time": "2025-04-07T14:32:50.278Z"
   },
   {
    "duration": 11,
    "start_time": "2025-04-07T14:32:50.289Z"
   },
   {
    "duration": 51,
    "start_time": "2025-04-07T14:32:50.301Z"
   },
   {
    "duration": 30,
    "start_time": "2025-04-07T14:32:50.356Z"
   },
   {
    "duration": 6,
    "start_time": "2025-04-07T14:32:50.388Z"
   },
   {
    "duration": 28,
    "start_time": "2025-04-07T14:32:50.396Z"
   },
   {
    "duration": 18,
    "start_time": "2025-04-07T14:32:50.444Z"
   },
   {
    "duration": 16,
    "start_time": "2025-04-07T14:32:50.464Z"
   },
   {
    "duration": 20,
    "start_time": "2025-04-07T14:32:50.482Z"
   },
   {
    "duration": 6,
    "start_time": "2025-04-07T14:32:50.503Z"
   },
   {
    "duration": 52,
    "start_time": "2025-04-07T14:32:50.510Z"
   },
   {
    "duration": 12,
    "start_time": "2025-04-07T14:32:50.564Z"
   },
   {
    "duration": 14,
    "start_time": "2025-04-07T14:32:50.578Z"
   },
   {
    "duration": 55,
    "start_time": "2025-04-07T14:32:50.594Z"
   },
   {
    "duration": 6,
    "start_time": "2025-04-07T14:32:50.651Z"
   },
   {
    "duration": 27,
    "start_time": "2025-04-07T14:32:50.659Z"
   },
   {
    "duration": 14,
    "start_time": "2025-04-07T14:32:50.687Z"
   },
   {
    "duration": 7,
    "start_time": "2025-04-07T14:32:50.703Z"
   },
   {
    "duration": 18,
    "start_time": "2025-04-07T14:32:50.742Z"
   },
   {
    "duration": 14,
    "start_time": "2025-04-07T14:32:50.762Z"
   },
   {
    "duration": 7,
    "start_time": "2025-04-07T14:32:50.778Z"
   },
   {
    "duration": 12,
    "start_time": "2025-04-07T14:32:50.787Z"
   },
   {
    "duration": 11,
    "start_time": "2025-04-07T14:32:50.801Z"
   },
   {
    "duration": 7,
    "start_time": "2025-04-07T14:32:50.843Z"
   },
   {
    "duration": 8,
    "start_time": "2025-04-07T14:32:50.851Z"
   },
   {
    "duration": 3,
    "start_time": "2025-04-07T14:32:50.861Z"
   },
   {
    "duration": 6,
    "start_time": "2025-04-07T14:32:50.866Z"
   },
   {
    "duration": 14,
    "start_time": "2025-04-07T14:32:50.873Z"
   },
   {
    "duration": 12,
    "start_time": "2025-04-07T14:32:50.888Z"
   },
   {
    "duration": 52,
    "start_time": "2025-04-07T14:32:50.901Z"
   },
   {
    "duration": 7,
    "start_time": "2025-04-07T14:32:50.958Z"
   },
   {
    "duration": 12,
    "start_time": "2025-04-07T14:32:50.967Z"
   },
   {
    "duration": 2,
    "start_time": "2025-04-07T14:32:50.981Z"
   },
   {
    "duration": 2,
    "start_time": "2025-04-07T14:32:50.985Z"
   },
   {
    "duration": 2,
    "start_time": "2025-04-07T14:32:50.990Z"
   },
   {
    "duration": 3,
    "start_time": "2025-04-07T14:32:50.993Z"
   },
   {
    "duration": 3,
    "start_time": "2025-04-07T14:32:50.998Z"
   },
   {
    "duration": 3,
    "start_time": "2025-04-07T14:32:51.003Z"
   },
   {
    "duration": 37,
    "start_time": "2025-04-07T14:32:51.007Z"
   },
   {
    "duration": 4,
    "start_time": "2025-04-07T14:32:51.045Z"
   },
   {
    "duration": 3,
    "start_time": "2025-04-07T14:32:51.051Z"
   },
   {
    "duration": 5,
    "start_time": "2025-04-07T14:55:35.585Z"
   },
   {
    "duration": 4,
    "start_time": "2025-04-07T14:55:47.663Z"
   },
   {
    "duration": 17,
    "start_time": "2025-04-07T14:55:58.406Z"
   },
   {
    "duration": 4,
    "start_time": "2025-04-07T14:59:24.587Z"
   },
   {
    "duration": 4,
    "start_time": "2025-04-07T14:59:42.698Z"
   },
   {
    "duration": 5,
    "start_time": "2025-04-07T15:03:23.374Z"
   },
   {
    "duration": 122,
    "start_time": "2025-04-07T15:03:32.199Z"
   },
   {
    "duration": 299,
    "start_time": "2025-04-07T15:03:36.861Z"
   },
   {
    "duration": 6,
    "start_time": "2025-04-07T15:03:50.097Z"
   },
   {
    "duration": 5,
    "start_time": "2025-04-07T15:08:35.712Z"
   },
   {
    "duration": 23,
    "start_time": "2025-04-07T15:09:45.271Z"
   },
   {
    "duration": 208,
    "start_time": "2025-04-07T15:09:56.954Z"
   },
   {
    "duration": 730,
    "start_time": "2025-04-07T15:11:34.563Z"
   },
   {
    "duration": 167,
    "start_time": "2025-04-07T15:11:35.295Z"
   },
   {
    "duration": 12,
    "start_time": "2025-04-07T15:11:35.463Z"
   },
   {
    "duration": 9,
    "start_time": "2025-04-07T15:11:35.477Z"
   },
   {
    "duration": 9,
    "start_time": "2025-04-07T15:11:35.487Z"
   },
   {
    "duration": 8,
    "start_time": "2025-04-07T15:11:35.497Z"
   },
   {
    "duration": 38,
    "start_time": "2025-04-07T15:11:35.507Z"
   },
   {
    "duration": 4,
    "start_time": "2025-04-07T15:11:35.547Z"
   },
   {
    "duration": 8,
    "start_time": "2025-04-07T15:11:35.553Z"
   },
   {
    "duration": 17,
    "start_time": "2025-04-07T15:11:35.564Z"
   },
   {
    "duration": 9,
    "start_time": "2025-04-07T15:11:35.583Z"
   },
   {
    "duration": 12,
    "start_time": "2025-04-07T15:11:35.593Z"
   },
   {
    "duration": 52,
    "start_time": "2025-04-07T15:11:35.607Z"
   },
   {
    "duration": 31,
    "start_time": "2025-04-07T15:11:35.661Z"
   },
   {
    "duration": 6,
    "start_time": "2025-04-07T15:11:35.694Z"
   },
   {
    "duration": 58,
    "start_time": "2025-04-07T15:11:35.702Z"
   },
   {
    "duration": 16,
    "start_time": "2025-04-07T15:11:35.762Z"
   },
   {
    "duration": 13,
    "start_time": "2025-04-07T15:11:35.779Z"
   },
   {
    "duration": 15,
    "start_time": "2025-04-07T15:11:35.794Z"
   },
   {
    "duration": 6,
    "start_time": "2025-04-07T15:11:35.811Z"
   },
   {
    "duration": 44,
    "start_time": "2025-04-07T15:11:35.818Z"
   },
   {
    "duration": 10,
    "start_time": "2025-04-07T15:11:35.864Z"
   },
   {
    "duration": 14,
    "start_time": "2025-04-07T15:11:35.876Z"
   },
   {
    "duration": 62,
    "start_time": "2025-04-07T15:11:35.892Z"
   },
   {
    "duration": 8,
    "start_time": "2025-04-07T15:11:35.956Z"
   },
   {
    "duration": 23,
    "start_time": "2025-04-07T15:11:35.965Z"
   },
   {
    "duration": 13,
    "start_time": "2025-04-07T15:11:35.990Z"
   },
   {
    "duration": 6,
    "start_time": "2025-04-07T15:11:36.008Z"
   },
   {
    "duration": 18,
    "start_time": "2025-04-07T15:11:36.043Z"
   },
   {
    "duration": 14,
    "start_time": "2025-04-07T15:11:36.063Z"
   },
   {
    "duration": 7,
    "start_time": "2025-04-07T15:11:36.079Z"
   },
   {
    "duration": 17,
    "start_time": "2025-04-07T15:11:36.089Z"
   },
   {
    "duration": 32,
    "start_time": "2025-04-07T15:11:36.114Z"
   },
   {
    "duration": 7,
    "start_time": "2025-04-07T15:11:36.147Z"
   },
   {
    "duration": 7,
    "start_time": "2025-04-07T15:11:36.155Z"
   },
   {
    "duration": 4,
    "start_time": "2025-04-07T15:11:36.163Z"
   },
   {
    "duration": 6,
    "start_time": "2025-04-07T15:11:36.169Z"
   },
   {
    "duration": 14,
    "start_time": "2025-04-07T15:11:36.176Z"
   },
   {
    "duration": 12,
    "start_time": "2025-04-07T15:11:36.191Z"
   },
   {
    "duration": 51,
    "start_time": "2025-04-07T15:11:36.205Z"
   },
   {
    "duration": 6,
    "start_time": "2025-04-07T15:11:36.258Z"
   },
   {
    "duration": 13,
    "start_time": "2025-04-07T15:11:36.265Z"
   },
   {
    "duration": 15,
    "start_time": "2025-04-07T15:11:36.281Z"
   },
   {
    "duration": 2,
    "start_time": "2025-04-07T15:11:36.298Z"
   },
   {
    "duration": 3,
    "start_time": "2025-04-07T15:11:36.302Z"
   },
   {
    "duration": 3,
    "start_time": "2025-04-07T15:11:36.306Z"
   },
   {
    "duration": 30,
    "start_time": "2025-04-07T15:11:36.312Z"
   },
   {
    "duration": 3,
    "start_time": "2025-04-07T15:11:36.344Z"
   },
   {
    "duration": 4,
    "start_time": "2025-04-07T15:11:36.348Z"
   },
   {
    "duration": 2,
    "start_time": "2025-04-07T15:11:36.354Z"
   },
   {
    "duration": 3,
    "start_time": "2025-04-07T15:11:36.358Z"
   },
   {
    "duration": 23,
    "start_time": "2025-04-07T15:14:25.129Z"
   },
   {
    "duration": 2472,
    "start_time": "2025-04-07T15:51:11.476Z"
   },
   {
    "duration": 225,
    "start_time": "2025-04-07T15:51:13.950Z"
   },
   {
    "duration": 11,
    "start_time": "2025-04-07T15:51:14.177Z"
   },
   {
    "duration": 9,
    "start_time": "2025-04-07T15:51:14.189Z"
   },
   {
    "duration": 9,
    "start_time": "2025-04-07T15:51:14.200Z"
   },
   {
    "duration": 8,
    "start_time": "2025-04-07T15:51:14.210Z"
   },
   {
    "duration": 29,
    "start_time": "2025-04-07T15:51:14.220Z"
   },
   {
    "duration": 5,
    "start_time": "2025-04-07T15:51:14.252Z"
   },
   {
    "duration": 8,
    "start_time": "2025-04-07T15:51:14.259Z"
   },
   {
    "duration": 17,
    "start_time": "2025-04-07T15:51:14.268Z"
   },
   {
    "duration": 8,
    "start_time": "2025-04-07T15:51:14.287Z"
   },
   {
    "duration": 11,
    "start_time": "2025-04-07T15:51:14.297Z"
   },
   {
    "duration": 17,
    "start_time": "2025-04-07T15:51:14.343Z"
   },
   {
    "duration": 33,
    "start_time": "2025-04-07T15:51:14.364Z"
   },
   {
    "duration": 7,
    "start_time": "2025-04-07T15:51:14.399Z"
   },
   {
    "duration": 56,
    "start_time": "2025-04-07T15:51:14.408Z"
   },
   {
    "duration": 17,
    "start_time": "2025-04-07T15:51:14.466Z"
   },
   {
    "duration": 13,
    "start_time": "2025-04-07T15:51:14.484Z"
   },
   {
    "duration": 14,
    "start_time": "2025-04-07T15:51:14.499Z"
   },
   {
    "duration": 30,
    "start_time": "2025-04-07T15:51:14.515Z"
   },
   {
    "duration": 19,
    "start_time": "2025-04-07T15:51:14.547Z"
   },
   {
    "duration": 10,
    "start_time": "2025-04-07T15:51:14.568Z"
   },
   {
    "duration": 16,
    "start_time": "2025-04-07T15:51:14.580Z"
   },
   {
    "duration": 69,
    "start_time": "2025-04-07T15:51:14.598Z"
   },
   {
    "duration": 6,
    "start_time": "2025-04-07T15:51:14.669Z"
   },
   {
    "duration": 24,
    "start_time": "2025-04-07T15:51:14.677Z"
   },
   {
    "duration": 13,
    "start_time": "2025-04-07T15:51:14.702Z"
   },
   {
    "duration": 31,
    "start_time": "2025-04-07T15:51:14.716Z"
   },
   {
    "duration": 17,
    "start_time": "2025-04-07T15:51:14.748Z"
   },
   {
    "duration": 13,
    "start_time": "2025-04-07T15:51:14.767Z"
   },
   {
    "duration": 6,
    "start_time": "2025-04-07T15:51:14.781Z"
   },
   {
    "duration": 12,
    "start_time": "2025-04-07T15:51:14.789Z"
   },
   {
    "duration": 40,
    "start_time": "2025-04-07T15:51:14.803Z"
   },
   {
    "duration": 6,
    "start_time": "2025-04-07T15:51:14.845Z"
   },
   {
    "duration": 7,
    "start_time": "2025-04-07T15:51:14.853Z"
   },
   {
    "duration": 3,
    "start_time": "2025-04-07T15:51:14.862Z"
   },
   {
    "duration": 5,
    "start_time": "2025-04-07T15:51:14.867Z"
   },
   {
    "duration": 14,
    "start_time": "2025-04-07T15:51:14.873Z"
   },
   {
    "duration": 13,
    "start_time": "2025-04-07T15:51:14.889Z"
   },
   {
    "duration": 55,
    "start_time": "2025-04-07T15:51:14.903Z"
   },
   {
    "duration": 6,
    "start_time": "2025-04-07T15:51:14.962Z"
   },
   {
    "duration": 13,
    "start_time": "2025-04-07T15:51:14.970Z"
   },
   {
    "duration": 14,
    "start_time": "2025-04-07T15:51:14.985Z"
   },
   {
    "duration": 2,
    "start_time": "2025-04-07T15:51:15.001Z"
   },
   {
    "duration": 2,
    "start_time": "2025-04-07T15:51:15.005Z"
   },
   {
    "duration": 34,
    "start_time": "2025-04-07T15:51:15.009Z"
   },
   {
    "duration": 2,
    "start_time": "2025-04-07T15:51:15.044Z"
   },
   {
    "duration": 3,
    "start_time": "2025-04-07T15:51:15.048Z"
   },
   {
    "duration": 3,
    "start_time": "2025-04-07T15:51:15.052Z"
   },
   {
    "duration": 3,
    "start_time": "2025-04-07T15:51:15.057Z"
   },
   {
    "duration": 3,
    "start_time": "2025-04-07T15:51:15.061Z"
   },
   {
    "duration": 15,
    "start_time": "2025-04-07T15:51:40.912Z"
   },
   {
    "duration": 14,
    "start_time": "2025-04-07T15:52:49.627Z"
   },
   {
    "duration": 15,
    "start_time": "2025-04-07T15:52:54.561Z"
   },
   {
    "duration": 327,
    "start_time": "2025-04-07T16:08:29.542Z"
   },
   {
    "duration": 233,
    "start_time": "2025-04-07T16:09:28.966Z"
   },
   {
    "duration": 628,
    "start_time": "2025-04-07T16:12:21.617Z"
   },
   {
    "duration": 28,
    "start_time": "2025-04-07T16:17:05.250Z"
   },
   {
    "duration": 363,
    "start_time": "2025-04-07T16:17:45.012Z"
   },
   {
    "duration": 392,
    "start_time": "2025-04-07T16:18:14.678Z"
   },
   {
    "duration": 303,
    "start_time": "2025-04-07T16:18:23.455Z"
   },
   {
    "duration": 291,
    "start_time": "2025-04-07T16:18:46.039Z"
   },
   {
    "duration": 303,
    "start_time": "2025-04-07T16:18:56.843Z"
   },
   {
    "duration": 375,
    "start_time": "2025-04-07T16:19:16.968Z"
   },
   {
    "duration": 370,
    "start_time": "2025-04-07T16:19:23.466Z"
   },
   {
    "duration": 220,
    "start_time": "2025-04-07T16:19:53.191Z"
   },
   {
    "duration": 197,
    "start_time": "2025-04-07T16:20:05.865Z"
   },
   {
    "duration": 173,
    "start_time": "2025-04-07T16:20:12.556Z"
   },
   {
    "duration": 183,
    "start_time": "2025-04-07T16:22:05.709Z"
   },
   {
    "duration": 182,
    "start_time": "2025-04-07T16:27:26.670Z"
   },
   {
    "duration": 170,
    "start_time": "2025-04-07T16:27:34.324Z"
   },
   {
    "duration": 268,
    "start_time": "2025-04-07T16:27:39.243Z"
   },
   {
    "duration": 172,
    "start_time": "2025-04-07T16:27:44.895Z"
   },
   {
    "duration": 345,
    "start_time": "2025-04-07T16:34:10.796Z"
   },
   {
    "duration": 326,
    "start_time": "2025-04-07T16:37:15.995Z"
   },
   {
    "duration": 332,
    "start_time": "2025-04-07T16:37:50.005Z"
   },
   {
    "duration": 295,
    "start_time": "2025-04-07T16:38:11.457Z"
   },
   {
    "duration": 322,
    "start_time": "2025-04-07T16:39:46.087Z"
   },
   {
    "duration": 408,
    "start_time": "2025-04-07T16:40:02.952Z"
   },
   {
    "duration": 305,
    "start_time": "2025-04-07T16:40:20.163Z"
   },
   {
    "duration": 315,
    "start_time": "2025-04-07T16:40:47.208Z"
   },
   {
    "duration": 286,
    "start_time": "2025-04-07T16:40:51.767Z"
   },
   {
    "duration": 309,
    "start_time": "2025-04-07T16:40:59.088Z"
   },
   {
    "duration": 338,
    "start_time": "2025-04-07T16:41:06.607Z"
   },
   {
    "duration": 306,
    "start_time": "2025-04-07T16:42:57.921Z"
   },
   {
    "duration": 384,
    "start_time": "2025-04-07T16:43:11.048Z"
   },
   {
    "duration": 176,
    "start_time": "2025-04-07T16:45:49.567Z"
   },
   {
    "duration": 186,
    "start_time": "2025-04-07T16:46:31.083Z"
   },
   {
    "duration": 675,
    "start_time": "2025-04-07T16:46:37.168Z"
   },
   {
    "duration": 170,
    "start_time": "2025-04-07T16:46:40.838Z"
   },
   {
    "duration": 184,
    "start_time": "2025-04-07T16:46:46.762Z"
   },
   {
    "duration": 448,
    "start_time": "2025-04-07T16:47:13.651Z"
   },
   {
    "duration": 165,
    "start_time": "2025-04-07T16:47:19.433Z"
   },
   {
    "duration": 183,
    "start_time": "2025-04-07T16:47:38.339Z"
   },
   {
    "duration": 186,
    "start_time": "2025-04-07T16:47:50.788Z"
   },
   {
    "duration": 7,
    "start_time": "2025-04-07T16:53:37.955Z"
   },
   {
    "duration": 112,
    "start_time": "2025-04-07T16:55:27.967Z"
   },
   {
    "duration": 113,
    "start_time": "2025-04-07T16:55:36.701Z"
   },
   {
    "duration": 193,
    "start_time": "2025-04-07T17:06:09.052Z"
   },
   {
    "duration": 173,
    "start_time": "2025-04-07T17:08:13.241Z"
   },
   {
    "duration": 187,
    "start_time": "2025-04-07T17:08:22.560Z"
   },
   {
    "duration": 172,
    "start_time": "2025-04-07T17:15:15.669Z"
   },
   {
    "duration": 157,
    "start_time": "2025-04-08T20:09:32.859Z"
   },
   {
    "duration": 2500,
    "start_time": "2025-04-08T20:09:39.294Z"
   },
   {
    "duration": 214,
    "start_time": "2025-04-08T20:09:41.796Z"
   },
   {
    "duration": 13,
    "start_time": "2025-04-08T20:09:42.011Z"
   },
   {
    "duration": 9,
    "start_time": "2025-04-08T20:09:42.026Z"
   },
   {
    "duration": 10,
    "start_time": "2025-04-08T20:09:42.036Z"
   },
   {
    "duration": 7,
    "start_time": "2025-04-08T20:09:42.049Z"
   },
   {
    "duration": 9,
    "start_time": "2025-04-08T20:09:42.058Z"
   },
   {
    "duration": 36,
    "start_time": "2025-04-08T20:09:42.069Z"
   },
   {
    "duration": 9,
    "start_time": "2025-04-08T20:09:42.108Z"
   },
   {
    "duration": 19,
    "start_time": "2025-04-08T20:09:42.121Z"
   },
   {
    "duration": 10,
    "start_time": "2025-04-08T20:09:42.141Z"
   },
   {
    "duration": 12,
    "start_time": "2025-04-08T20:09:42.153Z"
   },
   {
    "duration": 51,
    "start_time": "2025-04-08T20:09:42.167Z"
   },
   {
    "duration": 34,
    "start_time": "2025-04-08T20:09:42.220Z"
   },
   {
    "duration": 7,
    "start_time": "2025-04-08T20:09:42.255Z"
   },
   {
    "duration": 55,
    "start_time": "2025-04-08T20:09:42.264Z"
   },
   {
    "duration": 17,
    "start_time": "2025-04-08T20:09:42.322Z"
   },
   {
    "duration": 14,
    "start_time": "2025-04-08T20:09:42.342Z"
   },
   {
    "duration": 17,
    "start_time": "2025-04-08T20:09:42.357Z"
   },
   {
    "duration": 29,
    "start_time": "2025-04-08T20:09:42.376Z"
   },
   {
    "duration": 21,
    "start_time": "2025-04-08T20:09:42.407Z"
   },
   {
    "duration": 11,
    "start_time": "2025-04-08T20:09:42.429Z"
   },
   {
    "duration": 16,
    "start_time": "2025-04-08T20:09:42.442Z"
   },
   {
    "duration": 62,
    "start_time": "2025-04-08T20:09:42.460Z"
   },
   {
    "duration": 7,
    "start_time": "2025-04-08T20:09:42.524Z"
   },
   {
    "duration": 24,
    "start_time": "2025-04-08T20:09:42.533Z"
   },
   {
    "duration": 13,
    "start_time": "2025-04-08T20:09:42.559Z"
   },
   {
    "duration": 34,
    "start_time": "2025-04-08T20:09:42.577Z"
   },
   {
    "duration": 18,
    "start_time": "2025-04-08T20:09:42.612Z"
   },
   {
    "duration": 15,
    "start_time": "2025-04-08T20:09:42.632Z"
   },
   {
    "duration": 6,
    "start_time": "2025-04-08T20:09:42.649Z"
   },
   {
    "duration": 13,
    "start_time": "2025-04-08T20:09:42.657Z"
   },
   {
    "duration": 40,
    "start_time": "2025-04-08T20:09:42.671Z"
   },
   {
    "duration": 7,
    "start_time": "2025-04-08T20:09:42.713Z"
   },
   {
    "duration": 7,
    "start_time": "2025-04-08T20:09:42.723Z"
   },
   {
    "duration": 4,
    "start_time": "2025-04-08T20:09:42.731Z"
   },
   {
    "duration": 7,
    "start_time": "2025-04-08T20:09:42.736Z"
   },
   {
    "duration": 13,
    "start_time": "2025-04-08T20:09:42.745Z"
   },
   {
    "duration": 52,
    "start_time": "2025-04-08T20:09:42.760Z"
   },
   {
    "duration": 13,
    "start_time": "2025-04-08T20:09:42.814Z"
   },
   {
    "duration": 11,
    "start_time": "2025-04-08T20:09:42.829Z"
   },
   {
    "duration": 7,
    "start_time": "2025-04-08T20:09:42.842Z"
   },
   {
    "duration": 13,
    "start_time": "2025-04-08T20:09:42.851Z"
   },
   {
    "duration": 44,
    "start_time": "2025-04-08T20:09:42.866Z"
   },
   {
    "duration": 182,
    "start_time": "2025-04-08T20:09:42.912Z"
   },
   {
    "duration": 199,
    "start_time": "2025-04-08T20:09:43.096Z"
   },
   {
    "duration": 12,
    "start_time": "2025-04-08T20:09:43.296Z"
   },
   {
    "duration": 121,
    "start_time": "2025-04-08T20:09:43.310Z"
   },
   {
    "duration": 186,
    "start_time": "2025-04-08T20:09:43.433Z"
   },
   {
    "duration": 178,
    "start_time": "2025-04-08T20:09:43.621Z"
   },
   {
    "duration": 427,
    "start_time": "2025-04-08T20:09:43.804Z"
   },
   {
    "duration": 0,
    "start_time": "2025-04-08T20:09:44.234Z"
   },
   {
    "duration": 0,
    "start_time": "2025-04-08T20:09:44.235Z"
   },
   {
    "duration": 15,
    "start_time": "2025-04-08T20:10:04.270Z"
   },
   {
    "duration": 117,
    "start_time": "2025-04-08T20:12:00.151Z"
   },
   {
    "duration": 115,
    "start_time": "2025-04-08T20:12:19.423Z"
   },
   {
    "duration": 202,
    "start_time": "2025-04-08T20:13:07.819Z"
   },
   {
    "duration": 110,
    "start_time": "2025-04-08T20:13:22.497Z"
   },
   {
    "duration": 127,
    "start_time": "2025-04-08T20:13:40.745Z"
   },
   {
    "duration": 210,
    "start_time": "2025-04-08T20:13:48.897Z"
   },
   {
    "duration": 105,
    "start_time": "2025-04-08T20:14:19.227Z"
   },
   {
    "duration": 25,
    "start_time": "2025-04-08T20:19:16.996Z"
   },
   {
    "duration": 319,
    "start_time": "2025-04-08T20:24:47.921Z"
   },
   {
    "duration": 197,
    "start_time": "2025-04-08T20:25:45.581Z"
   },
   {
    "duration": 194,
    "start_time": "2025-04-08T20:26:46.149Z"
   },
   {
    "duration": 216,
    "start_time": "2025-04-08T20:26:54.149Z"
   },
   {
    "duration": 224,
    "start_time": "2025-04-08T20:27:10.904Z"
   },
   {
    "duration": 273,
    "start_time": "2025-04-08T20:27:22.102Z"
   },
   {
    "duration": 121,
    "start_time": "2025-04-08T20:27:42.358Z"
   },
   {
    "duration": 116,
    "start_time": "2025-04-08T20:27:50.042Z"
   },
   {
    "duration": 124,
    "start_time": "2025-04-08T20:27:57.225Z"
   },
   {
    "duration": 121,
    "start_time": "2025-04-08T20:28:00.346Z"
   },
   {
    "duration": 131,
    "start_time": "2025-04-08T20:28:03.817Z"
   },
   {
    "duration": 121,
    "start_time": "2025-04-08T20:28:11.829Z"
   },
   {
    "duration": 207,
    "start_time": "2025-04-08T20:28:24.009Z"
   },
   {
    "duration": 124,
    "start_time": "2025-04-08T20:28:32.777Z"
   },
   {
    "duration": 178,
    "start_time": "2025-04-08T20:28:48.892Z"
   },
   {
    "duration": 195,
    "start_time": "2025-04-08T20:28:57.062Z"
   },
   {
    "duration": 308,
    "start_time": "2025-04-08T20:29:16.137Z"
   },
   {
    "duration": 181,
    "start_time": "2025-04-08T20:29:24.870Z"
   },
   {
    "duration": 186,
    "start_time": "2025-04-08T20:29:37.262Z"
   },
   {
    "duration": 166,
    "start_time": "2025-04-08T20:29:51.645Z"
   },
   {
    "duration": 162,
    "start_time": "2025-04-08T20:30:03.120Z"
   },
   {
    "duration": 178,
    "start_time": "2025-04-08T20:30:22.226Z"
   },
   {
    "duration": 182,
    "start_time": "2025-04-08T20:31:10.188Z"
   },
   {
    "duration": 190,
    "start_time": "2025-04-08T20:31:23.529Z"
   },
   {
    "duration": 347,
    "start_time": "2025-04-08T20:31:34.892Z"
   },
   {
    "duration": 217,
    "start_time": "2025-04-08T20:31:42.527Z"
   },
   {
    "duration": 7,
    "start_time": "2025-04-08T21:03:45.729Z"
   },
   {
    "duration": 7,
    "start_time": "2025-04-08T21:10:29.932Z"
   },
   {
    "duration": 453,
    "start_time": "2025-04-08T21:10:42.747Z"
   },
   {
    "duration": 7,
    "start_time": "2025-04-08T21:10:55.115Z"
   },
   {
    "duration": 14,
    "start_time": "2025-04-08T21:11:44.155Z"
   },
   {
    "duration": 8,
    "start_time": "2025-04-08T21:12:41.061Z"
   },
   {
    "duration": 6,
    "start_time": "2025-04-08T21:13:01.946Z"
   },
   {
    "duration": 8,
    "start_time": "2025-04-08T21:22:04.969Z"
   },
   {
    "duration": 7,
    "start_time": "2025-04-08T21:23:30.678Z"
   },
   {
    "duration": 7,
    "start_time": "2025-04-08T21:23:54.507Z"
   },
   {
    "duration": 3,
    "start_time": "2025-04-08T21:24:02.072Z"
   },
   {
    "duration": 5,
    "start_time": "2025-04-08T21:24:12.149Z"
   },
   {
    "duration": 5,
    "start_time": "2025-04-08T21:24:17.632Z"
   },
   {
    "duration": 5,
    "start_time": "2025-04-08T21:32:48.481Z"
   },
   {
    "duration": 4,
    "start_time": "2025-04-08T21:37:58.293Z"
   },
   {
    "duration": 5,
    "start_time": "2025-04-08T21:41:03.837Z"
   },
   {
    "duration": 16,
    "start_time": "2025-04-08T21:41:17.760Z"
   },
   {
    "duration": 14,
    "start_time": "2025-04-08T21:41:34.010Z"
   },
   {
    "duration": 743,
    "start_time": "2025-04-09T09:30:42.684Z"
   },
   {
    "duration": 155,
    "start_time": "2025-04-09T09:30:43.429Z"
   },
   {
    "duration": 12,
    "start_time": "2025-04-09T09:30:44.630Z"
   },
   {
    "duration": 9,
    "start_time": "2025-04-09T09:30:45.059Z"
   },
   {
    "duration": 9,
    "start_time": "2025-04-09T09:30:45.830Z"
   },
   {
    "duration": 9,
    "start_time": "2025-04-09T09:30:56.021Z"
   },
   {
    "duration": 9,
    "start_time": "2025-04-09T09:30:56.385Z"
   },
   {
    "duration": 6,
    "start_time": "2025-04-09T09:30:56.780Z"
   },
   {
    "duration": 9,
    "start_time": "2025-04-09T09:30:57.020Z"
   },
   {
    "duration": 18,
    "start_time": "2025-04-09T09:30:58.160Z"
   },
   {
    "duration": 9,
    "start_time": "2025-04-09T09:30:58.528Z"
   },
   {
    "duration": 13,
    "start_time": "2025-04-09T09:30:59.452Z"
   },
   {
    "duration": 17,
    "start_time": "2025-04-09T09:31:00.330Z"
   },
   {
    "duration": 33,
    "start_time": "2025-04-09T09:31:01.804Z"
   },
   {
    "duration": 7,
    "start_time": "2025-04-09T09:31:02.412Z"
   },
   {
    "duration": 29,
    "start_time": "2025-04-09T09:31:04.263Z"
   },
   {
    "duration": 17,
    "start_time": "2025-04-09T09:31:05.377Z"
   },
   {
    "duration": 14,
    "start_time": "2025-04-09T09:31:06.084Z"
   },
   {
    "duration": 16,
    "start_time": "2025-04-09T09:31:06.839Z"
   },
   {
    "duration": 6,
    "start_time": "2025-04-09T09:31:07.305Z"
   },
   {
    "duration": 20,
    "start_time": "2025-04-09T09:31:09.031Z"
   },
   {
    "duration": 12,
    "start_time": "2025-04-09T09:31:10.301Z"
   },
   {
    "duration": 16,
    "start_time": "2025-04-09T09:31:11.234Z"
   },
   {
    "duration": 35,
    "start_time": "2025-04-09T09:31:12.146Z"
   },
   {
    "duration": 7,
    "start_time": "2025-04-09T09:31:12.568Z"
   },
   {
    "duration": 24,
    "start_time": "2025-04-09T09:31:15.178Z"
   },
   {
    "duration": 13,
    "start_time": "2025-04-09T09:31:16.907Z"
   },
   {
    "duration": 7,
    "start_time": "2025-04-09T09:31:22.214Z"
   },
   {
    "duration": 18,
    "start_time": "2025-04-09T09:31:33.211Z"
   },
   {
    "duration": 14,
    "start_time": "2025-04-09T09:31:33.369Z"
   },
   {
    "duration": 8,
    "start_time": "2025-04-09T09:31:33.774Z"
   },
   {
    "duration": 13,
    "start_time": "2025-04-09T09:31:34.015Z"
   },
   {
    "duration": 12,
    "start_time": "2025-04-09T09:31:34.359Z"
   },
   {
    "duration": 7,
    "start_time": "2025-04-09T09:31:35.009Z"
   },
   {
    "duration": 7,
    "start_time": "2025-04-09T09:31:35.933Z"
   },
   {
    "duration": 4,
    "start_time": "2025-04-09T09:31:36.875Z"
   },
   {
    "duration": 7,
    "start_time": "2025-04-09T09:31:37.102Z"
   },
   {
    "duration": 15,
    "start_time": "2025-04-09T09:31:37.698Z"
   },
   {
    "duration": 13,
    "start_time": "2025-04-09T09:31:38.158Z"
   },
   {
    "duration": 17,
    "start_time": "2025-04-09T09:31:38.617Z"
   },
   {
    "duration": 12,
    "start_time": "2025-04-09T09:31:39.067Z"
   },
   {
    "duration": 7,
    "start_time": "2025-04-09T09:31:39.887Z"
   },
   {
    "duration": 13,
    "start_time": "2025-04-09T09:31:40.183Z"
   },
   {
    "duration": 17,
    "start_time": "2025-04-09T09:31:41.730Z"
   },
   {
    "duration": 177,
    "start_time": "2025-04-09T09:31:52.918Z"
   },
   {
    "duration": 190,
    "start_time": "2025-04-09T09:32:00.886Z"
   },
   {
    "duration": 7,
    "start_time": "2025-04-09T09:32:08.422Z"
   },
   {
    "duration": 123,
    "start_time": "2025-04-09T09:32:09.094Z"
   },
   {
    "duration": 219,
    "start_time": "2025-04-09T09:32:13.179Z"
   },
   {
    "duration": 169,
    "start_time": "2025-04-09T09:32:28.384Z"
   },
   {
    "duration": 14,
    "start_time": "2025-04-09T09:32:41.950Z"
   },
   {
    "duration": 174,
    "start_time": "2025-04-09T09:32:42.668Z"
   },
   {
    "duration": 7,
    "start_time": "2025-04-09T09:33:06.894Z"
   },
   {
    "duration": 6,
    "start_time": "2025-04-09T09:33:08.168Z"
   }
  ],
  "colab": {
   "provenance": []
  },
  "kernelspec": {
   "display_name": "base",
   "language": "python",
   "name": "python3"
  },
  "language_info": {
   "codemirror_mode": {
    "name": "ipython",
    "version": 3
   },
   "file_extension": ".py",
   "mimetype": "text/x-python",
   "name": "python",
   "nbconvert_exporter": "python",
   "pygments_lexer": "ipython3",
   "version": "3.12.7"
  },
  "toc": {
   "base_numbering": 1,
   "nav_menu": {},
   "number_sections": true,
   "sideBar": true,
   "skip_h1_title": false,
   "title_cell": "Table of Contents",
   "title_sidebar": "Contents",
   "toc_cell": false,
   "toc_position": {},
   "toc_section_display": true,
   "toc_window_display": false
  }
 },
 "nbformat": 4,
 "nbformat_minor": 1
}
